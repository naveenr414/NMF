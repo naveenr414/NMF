{
 "cells": [
  {
   "cell_type": "markdown",
   "metadata": {},
   "source": [
    "# NMF for Mutation Signatures using Automatic Relevance Determination"
   ]
  },
  {
   "cell_type": "markdown",
   "metadata": {},
   "source": [
    "$V$ is a $F \\times N$ matrix called the mutation matrix. Each column of $V$ represents the prevelance of one type of mutation, and each row represents a different cancer genome. "
   ]
  },
  {
   "cell_type": "markdown",
   "metadata": {},
   "source": [
    "We wish to factorize $V$ into two matrices, $W$, $H$ such that $$ V \\approx WH ,$$ where $W$ is a $F \\times K$ matrix and $H$ is a $K \n",
    "\\times N$ matrix."
   ]
  },
  {
   "cell_type": "markdown",
   "metadata": {},
   "source": [
    "The matrices $W$ and $H$ are linked through the vector $\\lambda.$ ARD NMF comes in two varieties, $\\ell_1$ and $\\ell_2$, which differ slightly in implementation.  "
   ]
  },
  {
   "cell_type": "code",
   "execution_count": 8,
   "metadata": {},
   "outputs": [],
   "source": [
    "import numpy as np\n",
    "\n",
    "def makeRandom(m,n):\n",
    "    \"\"\"Function that returns a random mxn matrix\"\"\"\n",
    "    return np.random.rand(m,n)\n"
   ]
  },
  {
   "cell_type": "code",
   "execution_count": 9,
   "metadata": {},
   "outputs": [],
   "source": [
    "from copy import deepcopy\n",
    "\n",
    "def e(beta):\n",
    "    if(beta<=2):\n",
    "        return 1/(3-beta)\n",
    "    return 1/(beta-1)\n",
    "\n",
    "def gamma(beta):\n",
    "    if(beta<1):\n",
    "        return 1/(2-beta)\n",
    "    if(1<=beta<=2):\n",
    "        return 1\n",
    "    return 1/(beta-1)\n",
    "\n",
    "def d(beta,x,y):\n",
    "    if(beta==1):\n",
    "        return x * np.log(x/y)/np.log(10) - x + y\n",
    "    if(beta==0):\n",
    "        return x/y - np.log(x/y)/np.log(10)-1\n",
    "    return x**beta/(beta*(beta-1)) + y**beta/beta - (x*y**(beta-1))/(beta-1)\n",
    "\n",
    "def D(beta,V,WH):\n",
    "    return sum([d(beta,V.item(i),WH.item(i)) for i in range(V.size)])\n",
    "\n"
   ]
  },
  {
   "cell_type": "code",
   "execution_count": 11,
   "metadata": {},
   "outputs": [],
   "source": [
    "def ard(V,k,a,beta,tau,phi,max_iter=300,ltype=\"l2\"):\n",
    "    EPSILON=10**-6\n",
    "    INFINITY = 10000000\n",
    "    \n",
    "    #Defining the dimensions of the matrix\n",
    "    f = V.shape[0]\n",
    "    n = V.shape[1]\n",
    "\n",
    "    #Track changes in lambda through time (Lambda is matrix of size k)\n",
    "    lambdaList = np.zeros((max_iter,k))\n",
    "\n",
    "    #Add small values of epsilon to prevent divide by zero errors\n",
    "    V=np.add(V,EPSILON)\n",
    "\n",
    "    meanV = np.sum(V)/(f*n)\n",
    "\n",
    "    #Why initialize like this?\n",
    "    W = (makeRandom(f,k)+1)*(meanV**.5/k)\n",
    "    H = (makeRandom(k,n)+1)*(meanV**.5/k)\n",
    "    b = np.pi * (a-1)*meanV/(2*k)\n",
    "\n",
    "    c = f+n+a+1\n",
    "    if(ltype==\"l2\"):\n",
    "        c = (f+n)/2 + a+1\n",
    "        \n",
    "    lamb = (np.sum(W**2,axis=0).T/2 + np.sum(H**2,axis=1)/2 + b)/c\n",
    "    lambdaList[0] = lamb\n",
    "    tol = INFINITY\n",
    "\n",
    "    expfunc = gamma\n",
    "    if(ltype==\"l2\"):\n",
    "        expfunc = e\n",
    "\n",
    "    iteration = 1\n",
    "    while(tol>tau and iteration<max_iter):\n",
    "        #Update H\n",
    "        top = W.T.dot((W.dot(H)**(beta-2)) * V)\n",
    "        bottom = W.T.dot(W.dot(H)**(beta-1))\n",
    "        if(ltype==\"l1\"):\n",
    "            bottom+=phi/np.tile(np.array([lamb]).T,(1,n))\n",
    "        elif(ltype==\"l2\"):\n",
    "            bottom+=phi*H/np.tile(np.array([lamb]).T,(1,n))\n",
    "        \n",
    "        allElements=H>0\n",
    "        #Checking for NaN\n",
    "        if(((top/bottom)**(expfunc(beta)))[0,0]!=((top/bottom)**(expfunc(beta)))[0,0]):\n",
    "            break\n",
    "        H[allElements] = H[allElements]*((top/bottom)**expfunc(beta))[allElements]\n",
    "\n",
    "        #Update W\n",
    "        top = (W.dot(H)**(beta-2)*V).dot(H.T)\n",
    "        bottom = (W.dot(H)**(beta-1)).dot(H.T)\n",
    "        if(ltype==\"l1\"):\n",
    "            bottom+=phi/np.tile(np.array([lamb]),(f,1))\n",
    "        elif(ltype==\"l2\"):\n",
    "            bottom+=phi*W/np.tile(np.array([lamb]),(f,1))\n",
    "\n",
    "        allElements=W>0\n",
    "        #Checking for NaN\n",
    "        if(((top/bottom)[0,0]**(expfunc(beta)))!=((top/bottom)**(expfunc(beta)))[0,0]):\n",
    "            break\n",
    "        W[allElements] = W[allElements] * ((top/bottom)**expfunc(beta))[allElements]\n",
    "\n",
    "        exp = 1\n",
    "        if(ltype==\"l2\"):\n",
    "            exp=2\n",
    "        lamb = (np.sum(W**exp,axis=0).T/2 + np.sum(H**exp,axis=1)/2 + b)/c\n",
    "        lambdaList[iteration] = lamb\n",
    "        previous = lambdaList[iteration-1]\n",
    "        tol = max((lamb-previous)/previous)\n",
    "\n",
    "        #To avoid division by Zero problems, I'm not sure if this is needed\n",
    "        if(0 in W or 0 in H):\n",
    "            iteration = max_iter\n",
    "            \n",
    "        iteration+=1\n",
    "\n",
    "    #Avoid divide by zero errors elsewhere \n",
    "    W+=EPSILON\n",
    "    H+=EPSILON\n",
    "    return (W,H)"
   ]
  },
  {
   "cell_type": "code",
   "execution_count": 12,
   "metadata": {},
   "outputs": [],
   "source": [
    "def readTSV(name):\n",
    "    t = []\n",
    "    f = open(name).read().split(\"\\n\")[1:-1]\n",
    "    for i in range(len(f)):\n",
    "        t.append(list(map(int,f[i].split(\"\\t\")[1:])))\n",
    "    return np.array(t)\n"
   ]
  },
  {
   "cell_type": "code",
   "execution_count": 14,
   "metadata": {},
   "outputs": [
    {
     "name": "stdout",
     "output_type": "stream",
     "text": [
      "[[ 29  99 114 ...  17   9  11]\n",
      " [ 30  83 106 ...  12   9  14]\n",
      " [  7   5  10 ...   3   1   3]\n",
      " ...\n",
      " [  4  25  19 ...   3   6   7]\n",
      " [  7  44  29 ...   6  10   9]\n",
      " [ 14  71  48 ...  12  18  28]]\n"
     ]
    }
   ],
   "source": [
    "alexsandrov = readTSV(\"data/alexsandrov/breast.txt\")"
   ]
  },
  {
   "cell_type": "code",
   "execution_count": 17,
   "metadata": {},
   "outputs": [],
   "source": [
    "def hungarian(a,b):\n",
    "    similarities = [[cosineSimilarity(a[i],b[j]) for j in range(len(b))] for i in range(len(a))]\n",
    "    similarities = np.array(similarities)\n",
    "\n",
    "    row,col = linear_sum_assignment(-1*similarities)   \n",
    "\n",
    "    s = 0\n",
    "    for i in range(len(row)):\n",
    "        s+=similarities[row[i],col[i]]\n",
    "\n",
    "    return s                \n"
   ]
  },
  {
   "cell_type": "code",
   "execution_count": 28,
   "metadata": {},
   "outputs": [],
   "source": [
    "def cosineSimilarity(a,b):\n",
    "    top = sum([a.item(i)*b.item(i) for i in range(a.size)])\n",
    "    bottom = sum([a.item(i)**2 for i in range(a.size)])**.5\n",
    "    bottom*=sum([b.item(i)**2 for i in range(b.size)])**.5\n",
    "    if(bottom==0):\n",
    "        return 0\n",
    "    \n",
    "    return top/bottom\n"
   ]
  },
  {
   "cell_type": "code",
   "execution_count": 18,
   "metadata": {},
   "outputs": [],
   "source": [
    "import matplotlib.pyplot as plt\n",
    "from scipy.optimize import linear_sum_assignment\n",
    "\n",
    "def cosineTable(a,b,showBest=False):\n",
    "    \"\"\"Show Best runs the Hungarian algorithm to determine the best matching\"\"\"\n",
    "\n",
    "    similarities = [[cosineSimilarity(a[i],b[j]) for j in range(len(b))] for i in range(len(a))]\n",
    "    similarities = np.array(similarities)\n",
    "\n",
    "    numSignatures = len(similarities)\n",
    "\n",
    "    s = hungarian(a,b)\n",
    "\n",
    "    if(showBest):\n",
    "        row,col = linear_sum_assignment(-1*similarities)\n",
    "        best = [[False for i in range(numSignatures)] for j in range(numSignatures)]\n",
    "\n",
    "        for i in range(len(row)):\n",
    "            best[row[i]][col[i]] = True\n",
    "      \n",
    "        for i in range(numSignatures):\n",
    "            for j in range(numSignatures):\n",
    "                if(not(best[i][j])):\n",
    "                    similarities[i,j] = 0\n",
    "\n",
    "    fig = plt.figure()\n",
    "    ax = fig.add_subplot(111)\n",
    "    m = ax.matshow(similarities)\n",
    "    fig.colorbar(m)\n",
    "    \n",
    "    plt.ylabel(\"My Signature\")\n",
    "    plt.xlabel(\"Actual signature\")\n",
    "    ax.set_xticklabels(['']+list(range(1,numSignatures+1)))\n",
    "    ax.set_yticklabels(['']+list(range(1,numSignatures+1)))\n",
    "\n",
    "    return s/numSignatures\n"
   ]
  },
  {
   "cell_type": "code",
   "execution_count": 29,
   "metadata": {},
   "outputs": [],
   "source": [
    "breastSignatures = [1,2,3,9,14]\n",
    "\n",
    "with open(\"data/alexsandrov/signatures.txt\") as f:\n",
    "    actualW = f.read().split(\"\\n\")[1:]\n",
    "    for i in range(len(actualW)):\n",
    "        actualW[i] = list(map(float,actualW[i].split(\"\\t\")[3:]))\n",
    "    actualW = np.array(actualW)\n",
    "\n",
    "actualW = actualW[:,breastSignatures]"
   ]
  },
  {
   "cell_type": "code",
   "execution_count": 44,
   "metadata": {},
   "outputs": [],
   "source": [
    "k=5\n",
    "beta = 1\n",
    "alexsandrov = np.add(alexsandrov,10**-5)\n",
    "W, H = W,H = ard(alexsandrov,k,0,beta,10**(-5),1,max_iter=300,ltype=\"l1\")\n",
    "\n",
    "for i in range(25):\n",
    "    WP, HP = ard(alexsandrov,k,0,beta,10**(-5),1,max_iter=300,ltype=\"l1\")\n",
    "    WP = np.add(WP,10**-5)\n",
    "    HP = np.add(HP,10**-5)\n",
    "    if(D(beta,alexsandrov,np.dot(W,H))>D(beta,alexsandrov,np.dot(WP,HP))):\n",
    "       W,H = WP, HP"
   ]
  },
  {
   "cell_type": "code",
   "execution_count": 46,
   "metadata": {},
   "outputs": [
    {
     "data": {
      "text/plain": [
       "0.37200013514832436"
      ]
     },
     "execution_count": 46,
     "metadata": {},
     "output_type": "execute_result"
    },
    {
     "data": {
      "image/png": "[encoded data removed]",
      "text/plain": [
       "<Figure size 432x288 with 2 Axes>"
      ]
     },
     "metadata": {},
     "output_type": "display_data"
    }
   ],
   "source": [
    "cosineTable(W.transpose(),actualW.transpose(),showBest=True)"
   ]
  },
  {
   "cell_type": "code",
   "execution_count": null,
   "metadata": {},
   "outputs": [],
   "source": [
    "def kasarBar(H):\n",
    "    #Converting the order of the kasar graphs to the order stored in the table\n",
    "    mutations = \"\tA[C>A]A\tA[C>A]C\tA[C>A]G\tA[C>A]T\tA[C>G]A\tA[C>G]C\tA[C>G]G\tA[C>G]T\tA[C>T]A\tA[C>T]C\tA[C>T]G\tA[C>T]T\tA[T>A]A\tA[T>A]C\tA[T>A]G\tA[T>A]T\tA[T>C]A\tA[T>C]C\tA[T>C]G\tA[T>C]T\tA[T>G]A\tA[T>G]C\tA[T>G]G\tA[T>G]T\tC[C>A]A\tC[C>A]C\tC[C>A]G\tC[C>A]T\tC[C>G]A\tC[C>G]C\tC[C>G]G\tC[C>G]T\tC[C>T]A\tC[C>T]C\tC[C>T]G\tC[C>T]T\tC[T>A]A\tC[T>A]C\tC[T>A]G\tC[T>A]T\tC[T>C]A\tC[T>C]C\tC[T>C]G\tC[T>C]T\tC[T>G]A\tC[T>G]C\tC[T>G]G\tC[T>G]T\tG[C>A]A\tG[C>A]C\tG[C>A]G\tG[C>A]T\tG[C>G]A\tG[C>G]C\tG[C>G]G\tG[C>G]T\tG[C>T]A\tG[C>T]C\tG[C>T]G\tG[C>T]T\tG[T>A]A\tG[T>A]C\tG[T>A]G\tG[T>A]T\tG[T>C]A\tG[T>C]C\tG[T>C]G\tG[T>C]T\tG[T>G]A\tG[T>G]C\tG[T>G]G\tG[T>G]T\tT[C>A]A\tT[C>A]C\tT[C>A]G\tT[C>A]T\tT[C>G]A\tT[C>G]C\tT[C>G]G\tT[C>G]T\tT[C>T]A\tT[C>T]C\tT[C>T]G\tT[C>T]T\tT[T>A]A\tT[T>A]C\tT[T>A]G\tT[T>A]T\tT[T>C]A\tT[T>C]C\tT[T>C]G\tT[T>C]T\tT[T>G]A\tT[T>G]C\tT[T>G]G\tT[T>G]T\"\n",
    "    mutations = mutations.split(\"\\t\")[1:]\n",
    "\n",
    "    kasarOrder = \"T>C T>G T>A C>A C>G C>T\".split(\" \")\n",
    "    lexOrder = []\n",
    "    for i in 'ACTG':\n",
    "        for j in 'ACTG':\n",
    "            lexOrder.append(i+j)\n",
    "    lexOrder = sorted(lexOrder)\n",
    "    mutations = sorted(mutations,key=lambda x: kasarOrder.index(x.split(\"[\")[1].split(\"]\")[0]) + lexOrder.index(x[0]+x[-1])/100)\n",
    "\n",
    "    numRows = len(H)*100+11\n",
    "\n",
    "    for i in range(len(H)):\n",
    "        l = list(H[i])\n",
    "        yPos = np.arange(len(l))\n",
    "        plt.subplot(numRows+i)\n",
    "        barList = plt.bar(yPos,l,align='center',alpha=0.5)\n",
    "        colors = ['b', 'g', 'y', 'c', 'm', 'r']\n",
    "        for j in range(0,len(l)):\n",
    "            barList[j].set_color(colors[j//16])\n",
    "        \n",
    "        \n",
    "    plt.ylabel('Amount')\n",
    "    plt.show()\n",
    "\n"
   ]
  },
  {
   "cell_type": "code",
   "execution_count": null,
   "metadata": {},
   "outputs": [],
   "source": [
    "beta = 1\n",
    "\n",
    "V = readTSV(\"data/kasar/combined.tsv\")\n",
    "V = np.add(V,.000001)\n",
    "\n",
    "\n",
    "k=3\n",
    "W,H = ard(V,k,0,beta,10**(-5),1,max_iter=300,ltype=\"l1\")\n",
    "\n",
    "for l in range(10):\n",
    "    WP,HP = ard(V,k,0,beta,10**(-5),1,max_iter=300)\n",
    "    if(ard.D(beta,V,W.dot(H))>ard.D(beta,V,WP.dot(HP))):\n",
    "        W,H = WP, HP\n",
    "    \n",
    "kasarBar(H)\n"
   ]
  }
 ],
 "metadata": {
  "kernelspec": {
   "display_name": "Python 2",
   "language": "python",
   "name": "python2"
  },
  "language_info": {
   "codemirror_mode": {
    "name": "ipython",
    "version": 2
   },
   "file_extension": ".py",
   "mimetype": "text/x-python",
   "name": "python",
   "nbconvert_exporter": "python",
   "pygments_lexer": "ipython2",
   "version": "2.7.8"
  }
 },
 "nbformat": 4,
 "nbformat_minor": 2
}
