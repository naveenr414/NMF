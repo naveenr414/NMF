{
 "cells": [
  {
   "cell_type": "markdown",
   "metadata": {},
   "source": [
    "### Creating an Epsilon Nearest Neighbors Graph"
   ]
  },
  {
   "cell_type": "markdown",
   "metadata": {},
   "source": [
    "Imports"
   ]
  },
  {
   "cell_type": "markdown",
   "metadata": {},
   "source": [
    "#### Import data and basic functions"
   ]
  },
  {
   "cell_type": "code",
   "execution_count": 1,
   "metadata": {},
   "outputs": [],
   "source": [
    "import glob\n",
    "import random\n",
    "import numpy as np\n",
    "import scipy"
   ]
  },
  {
   "cell_type": "code",
   "execution_count": 2,
   "metadata": {},
   "outputs": [],
   "source": [
    "SAMPLES = 96\n",
    "CANCER_TYPES = 1 # How many of the types of cancer should we use\n",
    "normalize = False\n",
    "outliers = True\n",
    "restrictSamples = False # Remove cancer types with less than SAMPLES samples"
   ]
  },
  {
   "cell_type": "code",
   "execution_count": 3,
   "metadata": {},
   "outputs": [],
   "source": [
    "def generateColors(n):\n",
    "    \"\"\" Generates n random colors in hex \"\"\"\n",
    "    \n",
    "    colorList = []\n",
    "    possibleValues = list(range(10))+[\"A\",\"B\",\"C\",\"D\",\"E\",\"F\"]\n",
    "    \n",
    "    for i in range(n):\n",
    "        tempColor = \"#\"\n",
    "        for j in range(6):\n",
    "            tempColor+=str(possibleValues[random.randint(0,len(possibleValues)-1)])\n",
    "        colorList.append(tempColor)\n",
    "    \n",
    "    return colorList\n",
    "\n",
    "def toArray(fileName):\n",
    "    \"\"\"Converts exome data to an NP array \"\"\"\n",
    "    \n",
    "    with open(fileName) as f:\n",
    "        cancerData = f.read().split(\"\\n\")[1:-1]\n",
    "        for i in range(0,len(cancerData)):\n",
    "            cancerData[i] = cancerData[i].split(\"\\t\")[1:]\n",
    "            cancerData[i] = list(map(int,cancerData[i]))\n",
    "\n",
    "    cancerData = np.array(cancerData,dtype=np.float).T\n",
    "    return cancerData\n",
    "\n",
    "def normalizeRows(mat):\n",
    "    \"\"\" Normalized the rows of the matrix mat \"\"\"\n",
    "    \n",
    "    mat = deepcopy(mat)\n",
    "    \n",
    "    for i in range(mat.shape[0]):\n",
    "        s = sum(mat[i])\n",
    "        for j in range(mat.shape[1]):\n",
    "            num = float(mat[i][j])/float(s)\n",
    "            mat[i][j] = float(mat[i][j])\n",
    "            mat[i][j]/=float(s)\n",
    "\n",
    "            mat[i][j] = num\n",
    "\n",
    "    return mat\n"
   ]
  },
  {
   "cell_type": "code",
   "execution_count": 4,
   "metadata": {},
   "outputs": [],
   "source": [
    "#This sections inits all the cancer types \n",
    "alexandrovFiles = ['alexandrov_data/breast_exome.txt']#glob.glob(\"alexandrov_data/*.txt\")\n",
    "\n",
    "startingPositions = []\n",
    "allData = np.empty((0,0),dtype=np.float)\n",
    "\n",
    "if(CANCER_TYPES<len(alexandrovFiles)):\n",
    "    alexandrovFiles = np.random.choice(alexandrovFiles,CANCER_TYPES,replace=False)\n",
    "CANCER_TYPES = len(alexandrovFiles)\n",
    "\n",
    "cancerNames = [i.split(\"\\\\\")[-1].replace(\"_\",\"\").split(\"exome\")[0] for i in alexandrovFiles]\n",
    "\n",
    "colors = generateColors(len(cancerNames))\n",
    "unusedCancers = []\n",
    "\n",
    "#Combines the data from each of the samples\n",
    "for i,file in enumerate(alexandrovFiles):\n",
    "    cancerData = toArray(file)\n",
    "    sampleRows = cancerData.shape[0]    \n",
    "    selectedSamples = np.random.choice(sampleRows,min(sampleRows,SAMPLES),replace=False)\n",
    "\n",
    "    if(sampleRows>=SAMPLES or True):\n",
    "        if(len(startingPositions)==0):\n",
    "            startingPositions.append(0)\n",
    "\n",
    "        startingPositions.append(startingPositions[-1] + min(sampleRows,SAMPLES))\n",
    "\n",
    "\n",
    "        cancerData = cancerData[selectedSamples]\n",
    "        \n",
    "        if(allData.size == 0): \n",
    "            allData = cancerData\n",
    "        else:\n",
    "            allData = np.append(allData,cancerData,axis=0)\n",
    "    else:\n",
    "        unusedCancers.append(i)\n",
    "\n",
    "cancerNames = [i for j,i in enumerate(cancerNames) if j not in unusedCancers]\n",
    "CANCER_TYPES = len(cancerNames)\n",
    "\n",
    "\n",
    "if(normalize):\n",
    "    allData = normalizeRows(allData)\n",
    "\n",
    "np.savetxt(\"allData.csv\", allData, delimiter=\",\")"
   ]
  },
  {
   "cell_type": "code",
   "execution_count": 5,
   "metadata": {},
   "outputs": [
    {
     "data": {
      "text/plain": [
       "['alexandrov_data/breast_exome.txt']"
      ]
     },
     "execution_count": 5,
     "metadata": {},
     "output_type": "execute_result"
    }
   ],
   "source": [
    "alexandrovFiles"
   ]
  },
  {
   "cell_type": "code",
   "execution_count": 6,
   "metadata": {},
   "outputs": [],
   "source": [
    "def findMutationOrder(fileName):\n",
    "    f = open(fileName).read().split(\"\\n\")\n",
    "    mutationList = []\n",
    "    for i in f:\n",
    "        i = i.split(\" \")\n",
    "        for j in i:\n",
    "            if(\"[\" in j):\n",
    "                mutationList.append(j.strip(\"\\t\").split(\"\\t\")[0])\n",
    "    return mutationList"
   ]
  },
  {
   "cell_type": "markdown",
   "metadata": {},
   "source": [
    "#### Trifactor Matrices"
   ]
  },
  {
   "cell_type": "code",
   "execution_count": 7,
   "metadata": {},
   "outputs": [],
   "source": [
    "def trifactor(X,sigma,k,iterations=100,nStart=1):\n",
    "    bestY = np.random.rand(*X.shape)\n",
    "    for q in range(nStart):\n",
    "        Z = X\n",
    "        H = np.random.rand(X.shape[0],k)\n",
    "        S = np.random.rand(k,k)\n",
    "        Y = H.dot(S).dot(H.T)\n",
    "\n",
    "        for i in range(iterations):\n",
    "            topH = Z.dot(H.dot(S))\n",
    "            bottomH = H.dot(S).dot(H.T).dot(H).dot(S)\n",
    "\n",
    "            topS = H.T.dot(Z.dot(H))\n",
    "            bottomS = H.T.dot(H.dot(S).dot(H.T)).dot(H)\n",
    "\n",
    "            for l in range(H.shape[0]):\n",
    "                for m in range(H.shape[1]):\n",
    "                    if(bottomH[l,m] != 0):\n",
    "                        H[l,m]*=(topH[l,m]/bottomH[l,m])**(1/4)\n",
    "\n",
    "            for l in range(S.shape[0]):\n",
    "                for m in range(S.shape[1]):\n",
    "                    if(bottomS[l,m] != 0):\n",
    "                        S[l,m]*=(topS[l,m]/bottomS[l,m])\n",
    "\n",
    "            Y = H.dot(S).dot(H.T)\n",
    "            Z = X+Y\n",
    "\n",
    "            for j in sigma:\n",
    "                Z[j] = X[j]\n",
    "        if(np.linalg.norm(Z-Y)<np.linalg.norm(Z-bestY)):\n",
    "            bestY = Y\n",
    "    return bestY\n",
    "\n",
    "def trifactorGraph(X,sigma,W,lamb,k,iterations=100):\n",
    "    D = np.zeros((W.shape[0],W.shape[1]))\n",
    "    \n",
    "    for i in range(W.shape[0]):\n",
    "        D[i][i] = np.sum(W[i])\n",
    "    \n",
    "    Z = X\n",
    "    H = np.random.rand(X.shape[0],k)\n",
    "    S = np.random.rand(k,k)\n",
    "    Y = H.dot(S).dot(H.T)    \n",
    "\n",
    "    for i in range(iterations):\n",
    "        \n",
    "        score = np.linalg.norm(Z-H.dot(S.dot(H.T))) + 2*lamb*np.trace(H.T.dot(D-W).dot(H))\n",
    "        multiplier = H.T.dot(X).dot(H).dot(S) - H.T.dot(H).dot(S).dot(H.T).dot(H).dot(S) + lamb*H.T.dot(W).dot(H)\n",
    "                       \n",
    "        topH = Z.dot(H.dot(S)) + np.multiply(lamb,W.dot(H))\n",
    "        bottomH = H.dot(S).dot(H.T).dot(H).dot(S) + (D.dot(H).dot(multiplier)).clip(min=0)\n",
    "        \n",
    "        topS = H.T.dot(Z.dot(H))\n",
    "        bottomS = H.T.dot(H.dot(S).dot(H.T)).dot(H)\n",
    "        \n",
    "        for l in range(H.shape[0]):\n",
    "            for m in range(H.shape[1]):\n",
    "                if(bottomH[l,m]>0):\n",
    "                    H[l,m]*=(topH[l,m]/bottomH[l,m])**(1/4)\n",
    "        \n",
    "        for l in range(S.shape[0]):\n",
    "            for m in range(S.shape[1]):\n",
    "                if(bottomS[l,m] != 0):\n",
    "                    S[l,m]*=(topS[l,m]/bottomS[l,m])**(1/2)\n",
    "\n",
    "                \n",
    "        Y = H.dot(S).dot(H.T)\n",
    "        Z = X+Y\n",
    "\n",
    "        for j in sigma:\n",
    "            Z[j] = X[j]\n",
    "\n",
    "    return Y\n"
   ]
  },
  {
   "cell_type": "code",
   "execution_count": 9,
   "metadata": {},
   "outputs": [],
   "source": [
    "from scipy.sparse import csgraph\n",
    "import random\n",
    "from copy import deepcopy\n",
    "\n",
    "def D(X,lamb):\n",
    "    U,s,V = np.linalg.svd(X)\n",
    "    for i in range(len(s)):\n",
    "        s[i] = max(0,s[i]-lamb)\n",
    "    \n",
    "    sig = np.zeros((U.shape[1],V.shape[0]))\n",
    "    for i in range(len(s[i])):\n",
    "        sig[i][i] = s[i]\n",
    "    \n",
    "    return U.dot(sig).dot(V)\n",
    "\n",
    "def grad(X,Q,Y,L,lambOne,sigma):\n",
    "    m,n = X.shape\n",
    "    s = 0\n",
    "    for i,j in sigma:\n",
    "        e = np.zeros((1,n))\n",
    "        e[j] = 1\n",
    "        r = 2*(Q[i].T.dot(X[j]) - Y[i][j])*q[i].dot(e.T)\n",
    "        r+=2*lambOne*Q.dot(Q.T).dot(X).dot(L)\n",
    "\n",
    "def g(X,Q,Y,L,lambOne,sigma):\n",
    "    I = np.zeros(Y.shape)\n",
    "    for i,j in sigma:\n",
    "        I[i,j] = 1\n",
    "    m = np.linalg.norm(I - Q.T.dot(X),ord='Fro')**2\n",
    "    m+=lambOne*np.trace(Q.T.dot(X).dot(L).dot(X.T).dot(Q))\n",
    "    return m\n",
    "        \n",
    "def h(X,Q,Y,L,lambOne,lambTwo,sigma):\n",
    "    return g(X,Q,Y,lambOne,sigma) + lambTwo*np.norm(X,ord='Nuc')\n",
    "\n",
    "def Gp(X,Q,Y,L,lambOne,Xk1,rhok1):\n",
    "    m = np.linalg.norm(X-(Xk1 - 1/(rhok1)*grad(X,Q,Y,L,lambOne,sigma)))\n",
    "    m*=rhok1/2\n",
    "    m+=lambTwo*np.norm(X,ord='Nuc')\n",
    "    return m\n",
    "    \n",
    "def matrixComplete(W,k,lambOne,lambTwo,sigma):\n",
    "    percent = .05\n",
    "    Q,XK1,r = GNMF(allData.T,W,0,n_components=k,tol=1e-4,max_iter=max_iter,verbose=False)[0]\n",
    "    L = csgraph.laplacian(W, normed=False)\n",
    "    notSigma = [(i,j) for i in range(allData.shape[0]) for j in range(allData.shape[1]) if random.random()<percent]\n",
    "    Y = deepcopy(allData)\n",
    "    for i,j in notSigma:\n",
    "        Y[i][j] = -1\n",
    "        \n",
    "    rhoK1 = 1\n",
    "    gamma = 1\n",
    "    rhoK = 1\n",
    "    XK = XK1\n",
    "    \n",
    "    for i in range(100):\n",
    "        Xk = D(Xk1 - 1/(rhoK1)*grad(Xk1,Q,Y,L,lambOne,sigma),lambTwo/rhoK1):\n",
    "        rhoK = rhoK1\n",
    "        while(h(X,Q,Y,L,lambOne,lambTwo,sigma)>Gp(X,Q,Y,L,lambOne,Xk1,rhok1)):\n",
    "            rhoK*=gamma\n",
    "    return Xk\n",
    "         \n",
    "    \n",
    "    "
   ]
  },
  {
   "cell_type": "markdown",
   "metadata": {},
   "source": [
    "#### Creating Nearest Neighbor graphs"
   ]
  },
  {
   "cell_type": "code",
   "execution_count": 8,
   "metadata": {},
   "outputs": [],
   "source": [
    "import scipy.spatial.distance\n",
    "from pynrnmf import NRNMF\n",
    "import warnings\n",
    "warnings.filterwarnings(\"ignore\")"
   ]
  },
  {
   "cell_type": "code",
   "execution_count": 9,
   "metadata": {},
   "outputs": [],
   "source": [
    "def distanceGraph(mat,metric=\"Cosine\"):\n",
    "    numRows = mat.shape[0]\n",
    "    graph = np.zeros((numRows,numRows))\n",
    "    dist = np.zeros((numRows,numRows))\n",
    "    for row in range(numRows):\n",
    "        for otherRow in range(numRows):\n",
    "            if(otherRow==row):\n",
    "                dist[row][otherRow] = 10000000\n",
    "            else:\n",
    "                if(metric==\"Cosine\"):\n",
    "                    dist[row][otherRow] = scipy.spatial.distance.cosine(mat[row],mat[otherRow])\n",
    "                elif(metric==\"Norm\"):\n",
    "                    dist[row][otherRow] = np.linalg.norm(mat[row]-mat[otherRow])\n",
    "    return dist\n",
    "\n",
    "def createNearestNeighborExponential(mat, lamb=0.3,metric=\"Cosine\"):\n",
    "    dist = distanceGraph(mat,metric=metric)\n",
    "    numRows = mat.shape[0]\n",
    "    graph = np.zeros((numRows,numRows))  \n",
    "\n",
    "    for row in range(numRows):\n",
    "        epsilon = np.random.exponential(lamb)\n",
    "        for otherRow in range(row+1):\n",
    "            if(dist[row][otherRow]<=epsilon):\n",
    "                graph[row][otherRow] = 1\n",
    "                graph[otherRow][row] = 1\n",
    "            else:\n",
    "                graph[row][otherRow] = 0\n",
    "                graph[otherRow][row] = 0\n",
    "\n",
    "    return graph\n",
    "\n",
    "\n",
    "def createNearestNeighborEpsilon(mat,epsilon=0.3,metric=\"Cosine\"):\n",
    "    dist = distanceGraph(mat,metric=metric)\n",
    "    numRows = mat.shape[0]\n",
    "    graph = np.zeros((numRows,numRows))  \n",
    "\n",
    "    for row in range(numRows):\n",
    "        for otherRow in range(numRows):\n",
    "            if(dist[row][otherRow]<=epsilon):\n",
    "                graph[row][otherRow] = 1\n",
    "                graph[otherRow][row] = 1\n",
    "            else:\n",
    "                graph[row][otherRow] = 0\n",
    "                graph[otherRow][row] = 0\n",
    "\n",
    "    return graph\n",
    "\n",
    "def createNearestNeighbor(mat,k=1,metric=\"Norm\"):\n",
    "    numRows = mat.shape[0]\n",
    "    graph = np.zeros((numRows,numRows))\n",
    "    dist = np.zeros((numRows,numRows))\n",
    "    for row in range(numRows):\n",
    "        for otherRow in range(numRows):\n",
    "            if(otherRow==row):\n",
    "                dist[row][otherRow] = 10000000\n",
    "            else:\n",
    "                if(metric==\"Cosine\"):\n",
    "                    dist[row][otherRow] = scipy.spatial.distance.cosine(mat[row],mat[otherRow])#np.linalg.norm(mat[row]-mat[otherRow])\n",
    "                elif(metric==\"Norm\"):\n",
    "                    dist[row][otherRow] = np.linalg.norm(mat[row]-mat[otherRow])\n",
    "    \n",
    "    for row in range(numRows):\n",
    "        smallestNums = np.argpartition(dist[row],k)[:k]\n",
    "        for i in smallestNums:\n",
    "            graph[row][i] = 1\n",
    "            graph[i][row] = 1\n",
    "\n",
    "    return graph"
   ]
  },
  {
   "cell_type": "markdown",
   "metadata": {},
   "source": [
    "#### Comparing Factoring Methods "
   ]
  },
  {
   "cell_type": "code",
   "execution_count": 10,
   "metadata": {},
   "outputs": [],
   "source": [
    "from sklearn.utils import check_random_state, check_array\n",
    "from numpy.linalg import norm\n",
    "import scipy.sparse as sp\n",
    "\n",
    "def GNMF(X,L,lambd=0,n_components=None,tol=1e-4,max_iter=100,verbose=False):\n",
    "        n_samples, n_features = X.shape\n",
    "\n",
    "        if not n_components:\n",
    "            n_components = n_features\n",
    "        else:\n",
    "            n_components = n_components\n",
    "\n",
    "        #W, H = NBS_init(X,n_components)\n",
    "        W = np.random.normal(0,1,(n_samples,n_components))**2\n",
    "        H = np.random.normal(0,1,(n_components,n_features))**2\n",
    "\n",
    "        reconstruction_err_ = norm(X - np.dot(W, H))\n",
    "        eps=1e-4#spacing(1) #10e-14\n",
    "        Lp = (abs(L)+L)/2\n",
    "        Lm = (abs(L)-L)/2\n",
    "\n",
    "        for n_iter in range(1, max_iter + 1):\n",
    "            h1=lambd*np.dot(H,Lm)+np.dot(W.T,(X+eps)/(np.dot(W,H)+eps))\n",
    "            h2=lambd*np.dot(H,Lp)+np.dot(W.T,np.ones(X.shape))\n",
    "            H = np.multiply(H,(h1+eps)/(h2+eps))\n",
    "            H[H<=0]=eps\n",
    "            H[np.isnan(H)]=eps\n",
    "\n",
    "            w1=np.dot((X+eps)/(np.dot(W,H)+eps),H.T)\n",
    "            w2=np.dot(np.ones(X.shape),H.T)\n",
    "            W = np.multiply(W,(w1+eps)/(w2+eps))\n",
    "            W[W<=0]=eps\n",
    "            W[np.isnan(W)]=eps\n",
    "\n",
    "            if not sp.issparse(X):\n",
    "                if reconstruction_err_ > norm(X - np.dot(W, H)):\n",
    "                    H=(1-eps)*H+eps*np.random.normal(0,1,(n_components,n_features))**2\n",
    "                    W=(1-eps)*W+eps*np.random.normal(0,1,(n_samples,n_components))**2\n",
    "                reconstruction_err_ = norm(X - np.dot(W, H))\n",
    "            else:\n",
    "                norm2X = np.sum(X.data ** 2)  # Ok because X is CSR\n",
    "                normWHT = np.trace(np.dot(np.dot(H.T, np.dot(W.T, W)), H))\n",
    "                cross_prod = np.trace(np.dot((X * H.T).T, W))\n",
    "                reconstruction_err_ = np.sqrt(norm2X + normWHT - 2. * cross_prod)\n",
    "\n",
    "        return np.squeeze(np.asarray(W)), np.squeeze(np.asarray(H)).T, reconstruction_err_\n",
    "\n"
   ]
  },
  {
   "cell_type": "code",
   "execution_count": 11,
   "metadata": {},
   "outputs": [],
   "source": [
    "from sklearn.decomposition import NMF\n",
    "import time\n",
    "\n",
    "def getReconstructionErrors(k=5):\n",
    "    errors = {}\n",
    "    matrices = factorData(k=k)\n",
    "    \n",
    "    for factorMethod in matrices:\n",
    "        U, V = matrices[factorMethod]\n",
    "        errors[factorMethod] = np.linalg.norm(allData.T-U.dot(V.T))\n",
    "    \n",
    "    return errors\n",
    "\n",
    "def factorData(k=5,n_inits=100,max_iter=1000,n_jobs=1,metric=\"Cosine\"):\n",
    "    start = time.time()\n",
    "    returnDict = {}\n",
    "    \n",
    "    nn = np.array(createNearestNeighbor(allData,metric=metric))\n",
    "    nne = np.array(createNearestNeighborEpsilon(allData,0.3,metric=metric))\n",
    "    nnexp0 = np.array(createNearestNeighborExponential(allData,0.05,metric=metric))\n",
    "    nnexp1 = np.array(createNearestNeighborExponential(allData,0.2,metric=metric))\n",
    "    nnexp2 = np.array(createNearestNeighborExponential(allData,0.4,metric=metric))\n",
    "    nnexp3 = np.array(createNearestNeighborExponential(allData,0.6,metric=metric))\n",
    "\n",
    "    \n",
    "    \"\"\"\n",
    "    model = NRNMF(k=k,W=nn,alpha=10000,init='random',n_inits=n_inits, max_iter=max_iter, n_jobs=n_jobs)\n",
    "    U, V = model.fit_transform(allData.T)\n",
    "    returnDict[\"NN\"] = (U,V)\n",
    "      \n",
    "      \n",
    "    model = NRNMF(k=k,W=nn,alpha=0,init='random',n_inits=n_inits, max_iter=max_iter, n_jobs=n_jobs)\n",
    "    U, V = model.fit_transform(allData.T)\n",
    "    returnDict[\"Regular\"] = (U,V)\n",
    "    \n",
    "    \n",
    "    model = NRNMF(k=k,W=nne,alpha=10000,init='random',n_inits=n_inits, max_iter=max_iter, n_jobs=n_jobs)\n",
    "    U, V = model.fit_transform(allData.T)\n",
    "    returnDict[\"Epsilon\"] = (U,V)\n",
    "    \n",
    "        \n",
    "    model = NMF(n_components=k, init='random', random_state=0)\n",
    "    U = model.fit_transform(allData.T)\n",
    "    V = model.components_.T\n",
    "    returnDict[\"Sklearn\"] = (U,V)\n",
    "    \"\"\"\n",
    "    \n",
    "    \n",
    "    U,V,r = GNMF(allData.T,nn,0,n_components=k,tol=1e-4,max_iter=max_iter,verbose=False)\n",
    "    returnDict[\"Stratipy\"] = (U,V)\n",
    "    \n",
    "    U,V,r = GNMF(allData.T,nne,0.1,n_components=k,tol=1e-4,max_iter=max_iter,verbose=False)\n",
    "    returnDict[\"StratipyNNE\"] = (U,V)\n",
    "    \n",
    "    U,V,r = GNMF(allData.T,nnexp0,0.1,n_components=k,tol=1e-4,max_iter=max_iter,verbose=False)\n",
    "    returnDict[\"StratipyNNExp0\"] = (U,V)\n",
    "    \n",
    "    U,V,r = GNMF(allData.T,nnexp1,0.1,n_components=k,tol=1e-4,max_iter=max_iter,verbose=False)\n",
    "    returnDict[\"StratipyNNExp1\"] = (U,V)\n",
    "    \n",
    "    U,V,r = GNMF(allData.T,nnexp2,0.1,n_components=k,tol=1e-4,max_iter=max_iter,verbose=False)\n",
    "    returnDict[\"StratipyNNExp2\"] = (U,V)\n",
    "\n",
    "    U,V,r = GNMF(allData.T,nnexp3,0.1,n_components=k,tol=1e-4,max_iter=max_iter,verbose=False)\n",
    "    returnDict[\"StratipyNNExp3\"] = (U,V)\n",
    "\n",
    "    \n",
    "    \"\"\"\n",
    "    U,V,r = GNMF(allData.T,nne,0.5,n_components=k,tol=1e-4,max_iter=max_iter,verbose=False)\n",
    "    returnDict[\"StratipyGraph0.5\"] = (U,V)\n",
    "    \n",
    "    U,V,r = GNMF(allData.T,nne,10,n_components=k,tol=1e-4,max_iter=max_iter,verbose=False)\n",
    "    returnDict[\"StratipyGraph10\"] = (U,V)\n",
    "    \"\"\"\n",
    "\n",
    "    finish = time.time() - start\n",
    "    \n",
    "    print(k,\"took\",finish,\"seconds\")\n",
    "    \n",
    "    return returnDict"
   ]
  },
  {
   "cell_type": "markdown",
   "metadata": {},
   "source": [
    "#### Evaluate Matrix Completion"
   ]
  },
  {
   "cell_type": "code",
   "execution_count": 12,
   "metadata": {},
   "outputs": [
    {
     "name": "stdout",
     "output_type": "stream",
     "text": [
      "(96, 96)\n"
     ]
    }
   ],
   "source": [
    "from copy import deepcopy\n",
    "\n",
    "# Turn the mutation into a 0/1 matrix\n",
    "zeroOne = deepcopy(allData)\n",
    "zeroOne = np.where(zeroOne>0,1,0)\n",
    "print(zeroOne.shape)\n",
    "\n",
    "## Find where the adjacency has a 1 ##\n",
    "locations = []\n",
    "for i in range(zeroOne.shape[0]):\n",
    "    for j in range(zeroOne.shape[1]):\n",
    "        if(zeroOne[i,j] == 1):\n",
    "            locations.append((i,j))\n",
    "            \n",
    "np.random.shuffle(locations)"
   ]
  },
  {
   "cell_type": "code",
   "execution_count": 14,
   "metadata": {},
   "outputs": [
    {
     "name": "stdout",
     "output_type": "stream",
     "text": [
      "[(0.002, 0.022), (0.552, 0.017)] [[0.0018, 0.05], [0.0018499999999999999, 0.0222], [0.0025, 0.01775], [0.0026, 0.01475], [0.0026, 0.013250000000000001], [0.010450000000000001, 0.0119], [0.02255, 0.01055], [0.053200000000000004, 0.01335], [0.09255, 0.012450000000000003], [0.15660000000000002, 0.0132], [0.2581, 0.014850000000000002], [0.36295, 0.015900000000000004], [0.45895, 0.016050000000000002], [0.5431, 0.016250000000000007]]\n",
      "[(0.002, 0.022), (0.552, 0.017)] [[0.0018, 0.05], [0.0018499999999999999, 0.0222], [0.0025, 0.01775], [0.0026, 0.01475], [0.0026, 0.013250000000000001], [0.010450000000000001, 0.0119], [0.02255, 0.01055], [0.053200000000000004, 0.01335], [0.09255, 0.012450000000000003], [0.15660000000000002, 0.0132], [0.2581, 0.014850000000000002], [0.36295, 0.015900000000000004], [0.45895, 0.016050000000000002], [0.5431, 0.016250000000000007]]\n",
      "[(0.002, 0.022), (0.552, 0.017)]\n",
      "[[0.0018, 0.05], [0.0018499999999999999, 0.0222], [0.0025, 0.01775], [0.0026, 0.01475], [0.0026, 0.013250000000000001], [0.010450000000000001, 0.0119], [0.02255, 0.01055], [0.053200000000000004, 0.01335], [0.09255, 0.012450000000000003], [0.15660000000000002, 0.0132], [0.2581, 0.014850000000000002], [0.36295, 0.015900000000000004], [0.45895, 0.016050000000000002], [0.5431, 0.016250000000000007]]\n"
     ]
    },
    {
     "data": {
      "text/plain": [
       "<Figure size 640x480 with 1 Axes>"
      ]
     },
     "metadata": {},
     "output_type": "display_data"
    }
   ],
   "source": [
    "from sklearn.model_selection import KFold\n",
    "import matplotlib.pyplot as plt\n",
    "\n",
    "W = np.array(createNearestNeighborEpsilon(allData,0.3,metric=\"cosine\"))\n",
    "lamb = 0.05\n",
    "numSplits = 20\n",
    "kf = KFold(n_splits=numSplits)\n",
    "n = 0\n",
    "kList = [1,2, 3, 5, 10, 15]\n",
    "k = 10\n",
    "\n",
    "np.random.shuffle(locations)\n",
    "numbers = [5,10,15,18] + list(range(20,400,40))\n",
    "\n",
    "realNonGraph = [[0,0] for i in range(len(numbers))]\n",
    "realGraph = [[0,0] for i in range(len(numbers))]\n",
    "\n",
    "for k in kList:\n",
    "    nonGraph = [[0,0] for i in range(len(numbers))]\n",
    "    graph = [[0,0] for i in range(len(numbers))]\n",
    "\n",
    "    for train, test in list(kf.split(locations)):\n",
    "        test = [locations[i] for i in test]\n",
    "        train = [locations[i] for i in train]\n",
    "\n",
    "        n+=1\n",
    "        tempAdj = deepcopy(zeroOne)\n",
    "        for i in test:\n",
    "            tempAdj[i] = 0\n",
    "\n",
    "        factored = trifactor(tempAdj,train,k,iterations=200)\n",
    "\n",
    "        for i in train:\n",
    "            factored[tuple(i)] = 0\n",
    "\n",
    "        flattened = factored.flatten()\n",
    "        flattened.sort()\n",
    "\n",
    "        for r,pick in enumerate(numbers):\n",
    "\n",
    "            cutoff = flattened[-(pick)]\n",
    "            truePositive, falsePositive, falseNegative = 0,0,0\n",
    "\n",
    "            indices = np.argwhere(factored>cutoff)\n",
    "\n",
    "            for i in indices:\n",
    "                if zeroOne[tuple(i)] == 1:\n",
    "                    truePositive+=1\n",
    "                else:\n",
    "                    falsePositive+=1\n",
    "\n",
    "            for i in test:\n",
    "                if tuple(i) not in indices:\n",
    "                    falseNegative+=1\n",
    "\n",
    "            precision = 0\n",
    "            if truePositive+falsePositive!=0:\n",
    "                precision = truePositive/(truePositive+falsePositive)\n",
    "\n",
    "            recall = 0\n",
    "            if truePositive+falseNegative!=0:\n",
    "                recall = truePositive/(truePositive+falseNegative)\n",
    "\n",
    "            precision = round(precision,3)\n",
    "            recall = round(recall,3)\n",
    "\n",
    "            nonGraph[r][0]+=recall\n",
    "            nonGraph[r][1]+=precision\n",
    "\n",
    "\n",
    "        tempAdj = deepcopy(zeroOne)\n",
    "        for i in test:\n",
    "            tempAdj[i] = 0\n",
    "\n",
    "        factored = trifactorGraph(tempAdj,train,W,lamb,k,iterations=200)\n",
    "\n",
    "        for i in train:\n",
    "            factored[tuple(i)] = 0\n",
    "\n",
    "        flattened = factored.flatten()\n",
    "        flattened.sort()\n",
    "\n",
    "\n",
    "        for r,pick in enumerate(numbers):\n",
    "\n",
    "            cutoff = flattened[-(pick)]\n",
    "            truePositive, falsePositive, falseNegative = 0,0,0\n",
    "\n",
    "            indices = np.argwhere(factored>cutoff)\n",
    "\n",
    "            for i in indices:\n",
    "                if zeroOne[tuple(i)] == 1:\n",
    "                    truePositive+=1\n",
    "                else:\n",
    "                    falsePositive+=1\n",
    "\n",
    "            for i in test:\n",
    "                if tuple(i) not in indices:\n",
    "                    falseNegative+=1\n",
    "\n",
    "            precision = 0\n",
    "            if truePositive+falsePositive!=0:\n",
    "                precision = truePositive/(truePositive+falsePositive)\n",
    "\n",
    "            recall = 0\n",
    "            if truePositive+falseNegative!=0:\n",
    "                recall = truePositive/(truePositive+falseNegative)\n",
    "\n",
    "            precision = round(precision,3)\n",
    "            recall = round(recall,3)\n",
    "            graph[r][0]+=recall\n",
    "            graph[r][1]+=precision\n",
    "\n",
    "    nonGraph = [[x[0]/numSplits,x[1]/numSplits] for x in nonGraph]\n",
    "    graph = [[x[0]/numSplits,x[1]/numSplits] for x in graph]\n",
    "    \n",
    "    for i in range(len(nonGraph)):\n",
    "        if(nonGraph[i][1]>realNonGraph[i][1]):\n",
    "            realNonGraph[i] = nonGraph[i]\n",
    "        if(graph[i][1]>realGraph[i][1]):\n",
    "            realGraph[i] = graph[i]\n",
    "\n",
    "    \n",
    "        \n",
    "realNonGraph = [(round(x[0],3),round(x[1],3)) for x in realNonGraph]\n",
    "realGraph = [(round(x[0],3),round(x[1],3)) for x in realGraph]\n",
    "\n",
    "\n",
    "nonGraph = []\n",
    "realGraph = []\n",
    "\n",
    "for i in realNonGraph:\n",
    "    paretoOptimal = True\n",
    "    for j in realNonGraph:\n",
    "        paretoOptimal&=(i[0]>j[0] or i[1]>j[1] or i[0]==j[0] and i[1]==j[1])\n",
    "    \n",
    "    if(paretoOptimal):\n",
    "        nonGraph.append(i)\n",
    "\n",
    "print(nonGraph,graph)\n",
    "        \n",
    "for i in realGraph:\n",
    "    paretoOptimal = True\n",
    "    for j in realGraph:\n",
    "        paretoOptimal&=(i[0]>j[0] or i[1]>j[1] or i[0]==j[0] and i[1]==j[1])\n",
    "    \n",
    "    if(paretoOptimal and i not in graph):\n",
    "        graph.append(i)\n",
    "        \n",
    "print(nonGraph,graph)\n",
    "    \n",
    "xNonGraph = [nonGraph[x][0] for x in range(len(nonGraph))]\n",
    "yNonGraph = [nonGraph[x][1] for x in range(len(nonGraph))]\n",
    "\n",
    "xGraph = [graph[x][0] for x in range(len(graph))]\n",
    "yGraph = [graph[x][1] for x in range(len(graph))]\n",
    "\n",
    "print(nonGraph)\n",
    "print(graph)\n",
    "\n",
    "for point in range(len(nonGraph)-1):\n",
    "    plt.plot(xNonGraph[point:point+2], yNonGraph[point:point+2], 'ro--')\n",
    "for point in range(len(graph)-1):\n",
    "    plt.plot(xGraph[point:point+2], yGraph[point:point+2], 'bo--')\n",
    "plt.show()\n"
   ]
  },
  {
   "cell_type": "markdown",
   "metadata": {},
   "source": [
    "#### Creating Communities"
   ]
  },
  {
   "cell_type": "code",
   "execution_count": 14,
   "metadata": {},
   "outputs": [],
   "source": [
    "import networkx as nx\n",
    "from networkx.algorithms.community import greedy_modularity_communities"
   ]
  },
  {
   "cell_type": "code",
   "execution_count": 15,
   "metadata": {},
   "outputs": [],
   "source": [
    "def communityDetection():\n",
    "    \"\"\" Runs the Classet-Newmann community detection algorithm \"\"\"\n",
    "    nn = createNearestNeighbor(allData,k=5,metric=\"Cosine\")\n",
    "    \n",
    "    g = nx.Graph()\n",
    "    for cancer in range(len(cancerNames)):\n",
    "        for nodeNumber in range(startingPositions[cancer],startingPositions[cancer+1]):\n",
    "            g.add_node(nodeNumber)\n",
    "\n",
    "    for i in range(nn.shape[0]):\n",
    "        for j in range(nn.shape[1]):\n",
    "            if(nn[i][j]):\n",
    "                g.add_edge(i,j)\n",
    "\n",
    "    #Amount of each cancer type in each community\n",
    "    communities = greedy_modularity_communities(g)\n",
    "    cancerTypes = []    \n",
    "    \n",
    "    for j,community in enumerate(communities):\n",
    "        tempCancers = {}\n",
    "        for i in range(1,len(startingPositions)):\n",
    "            #Num inbetween\n",
    "            cancersInbetween = len([x for x in community if startingPositions[i-1]<=x<startingPositions[i]])\n",
    "            tempCancers[cancerNames[i-1]] = cancersInbetween\n",
    "                    \n",
    "        cancerTypes.append(tempCancers)\n",
    "\n",
    "    return cancerTypes"
   ]
  },
  {
   "cell_type": "code",
   "execution_count": 16,
   "metadata": {},
   "outputs": [
    {
     "data": {
      "text/plain": [
       "[{'alexandrovdata/breast': 32},\n",
       " {'alexandrovdata/breast': 26},\n",
       " {'alexandrovdata/breast': 19},\n",
       " {'alexandrovdata/breast': 17},\n",
       " {'alexandrovdata/breast': 2}]"
      ]
     },
     "execution_count": 16,
     "metadata": {},
     "output_type": "execute_result"
    }
   ],
   "source": [
    "communityDetection()"
   ]
  },
  {
   "cell_type": "markdown",
   "metadata": {},
   "source": [
    "#### Running K Means"
   ]
  },
  {
   "cell_type": "code",
   "execution_count": 17,
   "metadata": {},
   "outputs": [],
   "source": [
    "from scipy.cluster.vq import kmeans2"
   ]
  },
  {
   "cell_type": "code",
   "execution_count": 18,
   "metadata": {},
   "outputs": [],
   "source": [
    "def runKmeans():\n",
    "    a = kmeans2(allData,CANCER_TYPES)\n",
    "    clusterList = a[1]\n",
    "    clusters = [{} for i in range(CANCER_TYPES)]\n",
    "    \n",
    "    for i in range(len(clusters)):\n",
    "        for j in cancerNames:\n",
    "            clusters[i][j] = 0\n",
    "    \n",
    "    for i in range(len(clusterList)):\n",
    "        #Find out which type of cancer this is\n",
    "        cancerType = \"\"\n",
    "        for j in range(0,len(startingPositions)-1):\n",
    "            if(startingPositions[j]<=i<startingPositions[j+1]):\n",
    "                cancerType = cancerNames[j]\n",
    "                break\n",
    "        \n",
    "        clusters[clusterList[i]][cancerType]+=1\n",
    "\n",
    "    #Get rid of empty clusters\n",
    "    clusters = [i for i in clusters if sum(i.values())!=0]\n",
    "        \n",
    "    return clusters"
   ]
  },
  {
   "cell_type": "code",
   "execution_count": 19,
   "metadata": {},
   "outputs": [
    {
     "data": {
      "text/plain": [
       "[{'alexandrovdata/breast': 96}]"
      ]
     },
     "execution_count": 19,
     "metadata": {},
     "output_type": "execute_result"
    }
   ],
   "source": [
    "runKmeans()"
   ]
  },
  {
   "cell_type": "markdown",
   "metadata": {},
   "source": [
    "#### Measuring the clustering algorithms"
   ]
  },
  {
   "cell_type": "code",
   "execution_count": 20,
   "metadata": {},
   "outputs": [],
   "source": [
    "import scipy.optimize"
   ]
  },
  {
   "cell_type": "code",
   "execution_count": 21,
   "metadata": {},
   "outputs": [],
   "source": [
    "def AC(realLabels,ourLabels):\n",
    "    maxLabel = max(max(realLabels),max(ourLabels))+1\n",
    "    mat = np.zeros((maxLabel,maxLabel))\n",
    "    \n",
    "    for i in range(len(realLabels)):\n",
    "        mat[realLabels[i]][ourLabels[i]]+=1\n",
    "        \n",
    "    mat*=-1\n",
    "    \n",
    "    optimal = scipy.optimize.linear_sum_assignment(mat)\n",
    "    \n",
    "    mapping = {}\n",
    "    for i in range(len(optimal[1])):\n",
    "        mapping[optimal[1][i]] = optimal[0][i]\n",
    "    \n",
    "    n = len(ourLabels)\n",
    "    acScore = 0\n",
    "    for i in range(len(realLabels)):\n",
    "        if(realLabels[i] == mapping[ourLabels[i]]):\n",
    "            acScore+=1\n",
    "    \n",
    "    return acScore/n"
   ]
  },
  {
   "cell_type": "code",
   "execution_count": 22,
   "metadata": {},
   "outputs": [],
   "source": [
    "def createLabels(W):\n",
    "    labels = []\n",
    "    for row in W:\n",
    "        labels.append(np.argmax(row))\n",
    "    return labels\n",
    "\n",
    "def realLabels():\n",
    "    labels = []\n",
    "    for i in range(1,len(startingPositions)):\n",
    "        num = startingPositions[i]-startingPositions[i-1]\n",
    "        for j in range(num):\n",
    "            labels.append(i-1)\n",
    "    \n",
    "    return labels\n",
    "\n",
    "def evaluateGNMF(k=5,max_iter=100):\n",
    "    real = realLabels()\n",
    "    lambdas = [0,0.1,0.25]\n",
    "    plots = [[] for i in range(len(lambdas))]\n",
    "    \n",
    "    for k in range(5,15):\n",
    "        nne = np.array(createNearestNeighbor(allData,metric=\"Cosine\"))\n",
    "        \n",
    "        for lamb in range(len(lambdas)):\n",
    "            U,V,r = GNMF(allData.T,nne,lambdas[lamb],n_components=k,tol=1e-4,max_iter=max_iter,verbose=False)\n",
    "            ourLabels = createLabels(V)\n",
    "            \n",
    "            plots[lamb].append(AC(real,ourLabels))\n",
    "    \n",
    "    return plots\n"
   ]
  },
  {
   "cell_type": "code",
   "execution_count": 23,
   "metadata": {},
   "outputs": [
    {
     "data": {
      "text/plain": [
       "[[0.4375,\n",
       "  0.2604166666666667,\n",
       "  0.23958333333333334,\n",
       "  0.25,\n",
       "  0.20833333333333334,\n",
       "  0.15625,\n",
       "  0.14583333333333334,\n",
       "  0.15625,\n",
       "  0.14583333333333334,\n",
       "  0.14583333333333334],\n",
       " [0.2916666666666667,\n",
       "  0.2708333333333333,\n",
       "  0.23958333333333334,\n",
       "  0.1875,\n",
       "  0.20833333333333334,\n",
       "  0.19791666666666666,\n",
       "  0.16666666666666666,\n",
       "  0.14583333333333334,\n",
       "  0.15625,\n",
       "  0.13541666666666666],\n",
       " [0.3125,\n",
       "  0.3229166666666667,\n",
       "  0.23958333333333334,\n",
       "  0.23958333333333334,\n",
       "  0.1875,\n",
       "  0.15625,\n",
       "  0.1875,\n",
       "  0.15625,\n",
       "  0.13541666666666666,\n",
       "  0.13541666666666666]]"
      ]
     },
     "execution_count": 23,
     "metadata": {},
     "output_type": "execute_result"
    }
   ],
   "source": [
    "evaluateGNMF()"
   ]
  },
  {
   "cell_type": "markdown",
   "metadata": {},
   "source": [
    "#### Presenting the data from the clusters"
   ]
  },
  {
   "cell_type": "code",
   "execution_count": 24,
   "metadata": {},
   "outputs": [],
   "source": [
    "import operator\n",
    "import matplotlib.pyplot as plt"
   ]
  },
  {
   "cell_type": "code",
   "execution_count": 25,
   "metadata": {},
   "outputs": [],
   "source": [
    "def plotReconstruction(kStart,kEnd,step=1):\n",
    "    points = []\n",
    "    types = []\n",
    " \n",
    "    styles = ['r','y','b','g','c','k']\n",
    "\n",
    "    x = [k for k in range(kStart,kEnd,step)]\n",
    "\n",
    "    for k in range(kStart,kEnd,step):\n",
    "        points.append(getReconstructionErrors(k=k))\n",
    "    \n",
    "    types = list(points[0].keys())\n",
    "    scatter = [[] for i in range(len(types))]\n",
    "    for d in points:\n",
    "        for i in range(len(types)):\n",
    "            scatter[i].append(d[types[i]])\n",
    "            print(types[i],d[types[i]])\n",
    "    \n",
    "    for point in range(len(x)-1):\n",
    "        for type in range(len(types)):\n",
    "            plt.plot(x[point:point+2], scatter[type][point:point+2], styles[type]+'o-')\n",
    "\n",
    "    for type in range(len(types)):\n",
    "        print(types[type],styles[type])\n",
    "            \n",
    "    plt.show()\n",
    "    "
   ]
  },
  {
   "cell_type": "code",
   "execution_count": 26,
   "metadata": {},
   "outputs": [
    {
     "name": "stdout",
     "output_type": "stream",
     "text": [
      "6 took 8.117805004119873 seconds\n",
      "Stratipy 65.06482317764188\n",
      "StratipyNNE 65.23541999596516\n",
      "StratipyNNExp0 64.83677860317458\n",
      "StratipyNNExp1 65.3273526008579\n",
      "StratipyNNExp2 65.98744361833673\n",
      "StratipyNNExp3 65.16555303180505\n",
      "Stratipy r\n",
      "StratipyNNE y\n",
      "StratipyNNExp0 b\n",
      "StratipyNNExp1 g\n",
      "StratipyNNExp2 c\n",
      "StratipyNNExp3 k\n"
     ]
    }
   ],
   "source": [
    "plotReconstruction(6,7)"
   ]
  },
  {
   "cell_type": "code",
   "execution_count": 27,
   "metadata": {},
   "outputs": [],
   "source": [
    "def presentCSV(clusters):\n",
    "    csvData = np.zeros(len(clusters),CANCER_TYPES)\n",
    "    for i in range(len(clusters)):\n",
    "        for j,cancerName in enumerate(cancerNames):\n",
    "            csvData[i,j] = clusters[i][cancerName]\n",
    "    \n",
    "    csvData = csvData.T\n",
    "    \n",
    "    w = open(\"communityCSV.csv\",\"w\")\n",
    "    for i in range(csvData.shape[0]):\n",
    "        tempLine = cancerNames[i]+\",\"\n",
    "        tempLine+=\",\".join(list(map(str,csvData[i])))\n",
    "        tempLine+=\"\\n\"\n",
    "        w.write(tempLine)\n",
    "\n",
    "    w.close()"
   ]
  },
  {
   "cell_type": "code",
   "execution_count": 28,
   "metadata": {},
   "outputs": [],
   "source": [
    "def printClusters(clusters):\n",
    "    for i,community in enumerate(clusters):\n",
    "        sortedCommunity = sorted(community.items(), key=operator.itemgetter(1),reverse=True)  \n",
    "        print(\"Community #\",(i+1))\n",
    "        for j in sortedCommunity:\n",
    "            if(j[1]!=0):\n",
    "                print(j[0],\":\",j[1])\n",
    "        print()"
   ]
  },
  {
   "cell_type": "code",
   "execution_count": 29,
   "metadata": {},
   "outputs": [],
   "source": [
    "def epsilonConnectedComponents(epsilons):\n",
    "    scatter = []\n",
    "    x = epsilons\n",
    "    \n",
    "    for epsilon in epsilons:\n",
    "        nne = createNearestNeighborEpsilon(allData,epsilon=epsilon)\n",
    "        \n",
    "        g = nx.Graph()\n",
    "        for cancer in range(len(cancerNames)):\n",
    "            for nodeNumber in range(startingPositions[cancer],startingPositions[cancer+1]):\n",
    "                g.add_node(nodeNumber)\n",
    "\n",
    "        for i in range(nne.shape[0]):\n",
    "            for j in range(nne.shape[1]):\n",
    "                if(nne[i][j]):\n",
    "                    g.add_edge(i,j)\n",
    "\n",
    "        connectedComponents = nx.number_connected_components(g)\n",
    "        scatter.append(connectedComponents)\n",
    "        \n",
    "    for point in range(len(scatter)-1):\n",
    "        plt.plot(x[point:point+2], scatter[point:point+2], 'ro-')\n",
    "\n",
    "    plt.ylabel(\"Connected components\")\n",
    "    plt.xlabel(\"Value of epsilon\")\n",
    "        \n",
    "    plt.show()"
   ]
  },
  {
   "cell_type": "code",
   "execution_count": 30,
   "metadata": {},
   "outputs": [
    {
     "name": "stdout",
     "output_type": "stream",
     "text": [
      "Community # 1\n",
      "alexandrovdata/breast : 96\n",
      "\n"
     ]
    }
   ],
   "source": [
    "printClusters(runKmeans())"
   ]
  },
  {
   "cell_type": "code",
   "execution_count": 31,
   "metadata": {},
   "outputs": [
    {
     "data": {
      "image/png": "[encoded data removed]",
      "text/plain": [
       "<Figure size 432x288 with 1 Axes>"
      ]
     },
     "metadata": {
      "needs_background": "light"
     },
     "output_type": "display_data"
    }
   ],
   "source": [
    "epsilonConnectedComponents([0.1,0.2,0.3,0.4,0.5])"
   ]
  },
  {
   "cell_type": "code",
   "execution_count": 32,
   "metadata": {},
   "outputs": [],
   "source": [
    "def histogram(v,title):\n",
    "    fig, ax = plt.subplots()\n",
    "    plt.xticks(rotation=90)\n",
    "\n",
    "    actualCancers = [i for i in list(v.keys()) if v[i]!=0]\n",
    "    actualValues = [i for i in v.values() if i != 0]\n",
    "    \n",
    "    plt.title(title)\n",
    "    plt.bar(np.arange(len(v.values())), v.values(), align='center', alpha=0.5)\n",
    "    ax.set_xticklabels(list(v.keys()))\n",
    "    plt.show()"
   ]
  },
  {
   "cell_type": "code",
   "execution_count": 33,
   "metadata": {},
   "outputs": [],
   "source": [
    "def cancerHistogram(clusters,cancerName):\n",
    "    plt.title(cancerName)\n",
    "    \n",
    "    values = []\n",
    "    for i in range(len(clusters)):\n",
    "        if(cancerName in clusters[i]):\n",
    "            values.append(clusters[i][cancerName])\n",
    "        else:\n",
    "            values.append(0)\n",
    "    \n",
    "    plt.bar(np.arange(len(values)),values, align='center', alpha=0.5)\n",
    "    plt.show()"
   ]
  },
  {
   "cell_type": "code",
   "execution_count": 34,
   "metadata": {},
   "outputs": [
    {
     "data": {
      "image/png": "[encoded data removed]",
      "text/plain": [
       "<Figure size 432x288 with 1 Axes>"
      ]
     },
     "metadata": {
      "needs_background": "light"
     },
     "output_type": "display_data"
    },
    {
     "data": {
      "image/png": "[encoded data removed]",
      "text/plain": [
       "<Figure size 432x288 with 1 Axes>"
      ]
     },
     "metadata": {
      "needs_background": "light"
     },
     "output_type": "display_data"
    }
   ],
   "source": [
    "a = runKmeans()\n",
    "for i in cancerNames:\n",
    "    cancerHistogram(a,i)\n",
    "\n",
    "for i in range(len(a)):\n",
    "    histogram(a[i],str(i+1))"
   ]
  },
  {
   "cell_type": "code",
   "execution_count": 35,
   "metadata": {},
   "outputs": [],
   "source": [
    "def printHistogram(distanceMatrix):\n",
    "    flattened = distanceMatrix.flatten()\n",
    "    plt.hist(flattened,np.arange(0,1,0.1),alpha=0.5, histtype='bar', ec='black')\n",
    "    plt.title(\"Distribution of distance values using distance=1-cosine similarity for all pairs of samples\")\n",
    "    plt.show()\n",
    "    \n",
    "def inclusionThreshold(nn,threshold):\n",
    "    return len([i for i in range(len(nn)) if sum(nn[i])<=threshold])\n",
    "\n",
    "def inclusionThresholdEpsilon(threshold):\n",
    "    nne = createNearestNeighborEpsilon(allData,epsilon=epsilon)\n",
    "    return inclusionThreshold(nne,threshold)\n",
    "    \n",
    "def numberNodesEpsilon(epsilon):\n",
    "    nne = createNearestNeighborEpsilon(allData,epsilon=epsilon)\n",
    "    bins = [0,1,5,10]\n",
    "    \n",
    "    binNumbers = [0 for i in range(len(bins))]\n",
    "    \n",
    "    for i in range(len(bins)):\n",
    "        binNumbers[i] = inclusionThreshold(nne,bins[i])\n",
    "        if(i != 0):\n",
    "            binNumbers[i]-=sum(binNumbers[0:i])\n",
    "    binNumbers.append(nne.shape[0]-sum(binNumbers))\n",
    "    \n",
    "    plt.title(str(bins))\n",
    "    plt.bar(np.arange(len(binNumbers)),binNumbers, align='center', alpha=0.5)\n",
    "    plt.show()\n",
    "    \n",
    "    return binNumbers[0]"
   ]
  },
  {
   "cell_type": "code",
   "execution_count": 36,
   "metadata": {},
   "outputs": [
    {
     "data": {
      "image/png": "[encoded data removed]",
      "text/plain": [
       "<Figure size 432x288 with 1 Axes>"
      ]
     },
     "metadata": {
      "needs_background": "light"
     },
     "output_type": "display_data"
    }
   ],
   "source": [
    "printHistogram(distanceGraph(allData))"
   ]
  },
  {
   "cell_type": "code",
   "execution_count": 37,
   "metadata": {},
   "outputs": [
    {
     "data": {
      "text/plain": [
       "(96, 96)"
      ]
     },
     "execution_count": 37,
     "metadata": {},
     "output_type": "execute_result"
    }
   ],
   "source": [
    "distanceGraph(allData).shape"
   ]
  },
  {
   "cell_type": "code",
   "execution_count": 38,
   "metadata": {},
   "outputs": [
    {
     "data": {
      "image/png": "[encoded data removed]",
      "text/plain": [
       "<Figure size 432x288 with 1 Axes>"
      ]
     },
     "metadata": {
      "needs_background": "light"
     },
     "output_type": "display_data"
    },
    {
     "name": "stdout",
     "output_type": "stream",
     "text": [
      "1 90\n"
     ]
    },
    {
     "data": {
      "image/png": "[encoded data removed]",
      "text/plain": [
       "<Figure size 432x288 with 1 Axes>"
      ]
     },
     "metadata": {
      "needs_background": "light"
     },
     "output_type": "display_data"
    },
    {
     "name": "stdout",
     "output_type": "stream",
     "text": [
      "2 84\n"
     ]
    },
    {
     "data": {
      "image/png": "[encoded data removed]",
      "text/plain": [
       "<Figure size 432x288 with 1 Axes>"
      ]
     },
     "metadata": {
      "needs_background": "light"
     },
     "output_type": "display_data"
    },
    {
     "name": "stdout",
     "output_type": "stream",
     "text": [
      "3 70\n"
     ]
    },
    {
     "data": {
      "image/png": "[encoded data removed]",
      "text/plain": [
       "<Figure size 432x288 with 1 Axes>"
      ]
     },
     "metadata": {
      "needs_background": "light"
     },
     "output_type": "display_data"
    },
    {
     "name": "stdout",
     "output_type": "stream",
     "text": [
      "4 29\n"
     ]
    },
    {
     "data": {
      "image/png": "[encoded data removed]",
      "text/plain": [
       "<Figure size 432x288 with 1 Axes>"
      ]
     },
     "metadata": {
      "needs_background": "light"
     },
     "output_type": "display_data"
    },
    {
     "name": "stdout",
     "output_type": "stream",
     "text": [
      "5 7\n"
     ]
    },
    {
     "data": {
      "image/png": "[encoded data removed]",
      "text/plain": [
       "<Figure size 432x288 with 1 Axes>"
      ]
     },
     "metadata": {
      "needs_background": "light"
     },
     "output_type": "display_data"
    },
    {
     "name": "stdout",
     "output_type": "stream",
     "text": [
      "6 1\n"
     ]
    },
    {
     "data": {
      "image/png": "[encoded data removed]",
      "text/plain": [
       "<Figure size 432x288 with 1 Axes>"
      ]
     },
     "metadata": {
      "needs_background": "light"
     },
     "output_type": "display_data"
    },
    {
     "name": "stdout",
     "output_type": "stream",
     "text": [
      "7 0\n"
     ]
    },
    {
     "data": {
      "image/png": "[encoded data removed]",
      "text/plain": [
       "<Figure size 432x288 with 1 Axes>"
      ]
     },
     "metadata": {
      "needs_background": "light"
     },
     "output_type": "display_data"
    },
    {
     "name": "stdout",
     "output_type": "stream",
     "text": [
      "8 0\n"
     ]
    },
    {
     "data": {
      "image/png": "[encoded data removed]",
      "text/plain": [
       "<Figure size 432x288 with 1 Axes>"
      ]
     },
     "metadata": {
      "needs_background": "light"
     },
     "output_type": "display_data"
    },
    {
     "name": "stdout",
     "output_type": "stream",
     "text": [
      "9 0\n"
     ]
    },
    {
     "data": {
      "image/png": "[encoded data removed]",
      "text/plain": [
       "<Figure size 432x288 with 1 Axes>"
      ]
     },
     "metadata": {
      "needs_background": "light"
     },
     "output_type": "display_data"
    },
    {
     "name": "stdout",
     "output_type": "stream",
     "text": [
      "10 0\n"
     ]
    }
   ],
   "source": [
    "for i in range(1,11):\n",
    "    print(i,numberNodesEpsilon(i/10))"
   ]
  },
  {
   "cell_type": "code",
   "execution_count": 39,
   "metadata": {},
   "outputs": [],
   "source": [
    "import scipy.optimize"
   ]
  },
  {
   "cell_type": "code",
   "execution_count": 40,
   "metadata": {},
   "outputs": [],
   "source": [
    "def findSignatures(fileName):\n",
    "    f = open(fileName).read().split(\"\\n\")[1:]\n",
    "    for i in range(len(f)):\n",
    "        f[i] = f[i].split(\" \")[3:]\n",
    "        f[i] = list(map(float,f[i]))\n",
    "    f = np.array(f).T\n",
    "    return f\n",
    "\n",
    "def findBreastSignatures():\n",
    "    signatureNumbers = [1,2,3,5,6,8,10,13,17,18,20,26,30]\n",
    "    signatureNumbers = [i-1 for i in signatureNumbers]\n",
    "    fileName = \"signatures.txt\"\n",
    "    \n",
    "    return findSignatures(fileName)[signatureNumbers,:]"
   ]
  },
  {
   "cell_type": "code",
   "execution_count": 41,
   "metadata": {},
   "outputs": [],
   "source": [
    "def cosineTable(a,b):\n",
    "    \"\"\"Show Best runs the Hungarian algorithm to determine the best matching\"\"\"\n",
    "\n",
    "    print(len(b),len(a))\n",
    "    similarities = [[scipy.spatial.distance.cosine(a[i],b[j]) for j in range(len(b))] for i in range(len(a))]\n",
    "    similarities = np.array(similarities)\n",
    "    numSignatures = len(similarities)\n",
    "\n",
    "    s = 0\n",
    "\n",
    "    row,col = scipy.optimize.linear_sum_assignment(similarities)\n",
    "    best = [[False for i in range(numSignatures)] for j in range(numSignatures)]\n",
    "\n",
    "    for i in range(len(row)):\n",
    "        s+=similarities[row[i],col[i]]\n",
    "        best[row[i]][col[i]] = True\n",
    "\n",
    "    #similarities[np.logical_not(best)] = 0\n",
    "\n",
    "    fig = plt.figure()\n",
    "    ax = fig.add_subplot(111)\n",
    "    m = ax.matshow(similarities)\n",
    "    fig.colorbar(m)\n",
    "\n",
    "    plt.ylabel(\"My Signature\")\n",
    "    plt.xlabel(\"Actual signature\")\n",
    "    ax.set_xticklabels(['']+list(range(1,numSignatures+1)))\n",
    "    ax.set_yticklabels(['']+list(range(1,numSignatures+1)))\n",
    "\n",
    "    return s/numSignatures\n"
   ]
  },
  {
   "cell_type": "code",
   "execution_count": 42,
   "metadata": {},
   "outputs": [
    {
     "name": "stdout",
     "output_type": "stream",
     "text": [
      "13 took 11.818440675735474 seconds\n"
     ]
    },
    {
     "ename": "KeyError",
     "evalue": "'StratipyGraph0.25'",
     "output_type": "error",
     "traceback": [
      "\u001b[1;31m---------------------------------------------------------------------------\u001b[0m",
      "\u001b[1;31mKeyError\u001b[0m                                  Traceback (most recent call last)",
      "\u001b[1;32m<ipython-input-42-ba8a007702bd>\u001b[0m in \u001b[0;36m<module>\u001b[1;34m\u001b[0m\n\u001b[1;32m----> 1\u001b[1;33m \u001b[0mourSignatures\u001b[0m \u001b[1;33m=\u001b[0m \u001b[0mfactorData\u001b[0m\u001b[1;33m(\u001b[0m\u001b[0mk\u001b[0m\u001b[1;33m=\u001b[0m\u001b[1;36m13\u001b[0m\u001b[1;33m)\u001b[0m\u001b[1;33m[\u001b[0m\u001b[1;34m'StratipyGraph0.25'\u001b[0m\u001b[1;33m]\u001b[0m\u001b[1;33m[\u001b[0m\u001b[1;36m0\u001b[0m\u001b[1;33m]\u001b[0m\u001b[1;33m.\u001b[0m\u001b[0mT\u001b[0m\u001b[1;33m\u001b[0m\u001b[0m\n\u001b[0m",
      "\u001b[1;31mKeyError\u001b[0m: 'StratipyGraph0.25'"
     ]
    }
   ],
   "source": [
    "ourSignatures = factorData(k=13)['StratipyGraph0.25'][0].T"
   ]
  },
  {
   "cell_type": "code",
   "execution_count": 43,
   "metadata": {},
   "outputs": [],
   "source": [
    "theirSignatures = findBreastSignatures()"
   ]
  },
  {
   "cell_type": "code",
   "execution_count": 44,
   "metadata": {},
   "outputs": [
    {
     "ename": "NameError",
     "evalue": "name 'ourSignatures' is not defined",
     "output_type": "error",
     "traceback": [
      "\u001b[1;31m---------------------------------------------------------------------------\u001b[0m",
      "\u001b[1;31mNameError\u001b[0m                                 Traceback (most recent call last)",
      "\u001b[1;32m<ipython-input-44-b5693e68f2e9>\u001b[0m in \u001b[0;36m<module>\u001b[1;34m\u001b[0m\n\u001b[1;32m----> 1\u001b[1;33m \u001b[0mcosineTable\u001b[0m\u001b[1;33m(\u001b[0m\u001b[0mourSignatures\u001b[0m\u001b[1;33m,\u001b[0m\u001b[0mtheirSignatures\u001b[0m\u001b[1;33m)\u001b[0m\u001b[1;33m\u001b[0m\u001b[0m\n\u001b[0m",
      "\u001b[1;31mNameError\u001b[0m: name 'ourSignatures' is not defined"
     ]
    }
   ],
   "source": [
    "cosineTable(ourSignatures,theirSignatures)"
   ]
  },
  {
   "cell_type": "code",
   "execution_count": 45,
   "metadata": {},
   "outputs": [],
   "source": [
    "def similarity(signatureOne,signatureTwo):\n",
    "    dist = np.zeros((signatureOne.shape[0],signatureTwo.shape[0]))\n",
    "    for i in range(signatureOne.shape[0]):\n",
    "        for j in range(signatureTwo.shape[0]):\n",
    "            dist[i,j] = scipy.spatial.distance.cosine(signatureOne[i],signatureTwo[j])\n",
    "    \n",
    "    row, col = scipy.optimize.linear_sum_assignment(dist)\n",
    "    score = dist[row,col].sum()/(signatureOne.shape[0])\n",
    "    return 1-score\n",
    "            "
   ]
  },
  {
   "cell_type": "code",
   "execution_count": null,
   "metadata": {},
   "outputs": [],
   "source": [
    "similarity(ourSignatures[0].T,theirSignatures)"
   ]
  },
  {
   "cell_type": "code",
   "execution_count": null,
   "metadata": {},
   "outputs": [],
   "source": [
    "theirSignatures"
   ]
  },
  {
   "cell_type": "code",
   "execution_count": null,
   "metadata": {},
   "outputs": [],
   "source": []
  }
 ],
 "metadata": {
  "kernelspec": {
   "display_name": "Python 3",
   "language": "python",
   "name": "python3"
  },
  "language_info": {
   "codemirror_mode": {
    "name": "ipython",
    "version": 3
   },
   "file_extension": ".py",
   "mimetype": "text/x-python",
   "name": "python",
   "nbconvert_exporter": "python",
   "pygments_lexer": "ipython3",
   "version": "3.7.0"
  }
 },
 "nbformat": 4,
 "nbformat_minor": 2
}
