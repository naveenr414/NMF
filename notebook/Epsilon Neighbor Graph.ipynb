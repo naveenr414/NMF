{
 "cells": [
  {
   "cell_type": "markdown",
   "metadata": {},
   "source": [
    "### Creating an Epsilon Nearest Neighbors Graph"
   ]
  },
  {
   "cell_type": "markdown",
   "metadata": {},
   "source": [
    "Imports"
   ]
  },
  {
   "cell_type": "markdown",
   "metadata": {},
   "source": [
    "#### Import data and basic functions"
   ]
  },
  {
   "cell_type": "code",
   "execution_count": 1,
   "metadata": {},
   "outputs": [],
   "source": [
    "import glob\n",
    "import random\n",
    "import numpy as np\n",
    "import scipy"
   ]
  },
  {
   "cell_type": "code",
   "execution_count": 2,
   "metadata": {},
   "outputs": [],
   "source": [
    "SAMPLES = 100\n",
    "CANCER_TYPES = 10 # How many of the types of cancer should we use\n",
    "normalize = False\n",
    "outliers = True\n",
    "restrictSamples = False # Remove cancer types with less than SAMPLES samples"
   ]
  },
  {
   "cell_type": "code",
   "execution_count": 3,
   "metadata": {},
   "outputs": [],
   "source": [
    "def generateColors(n):\n",
    "    \"\"\" Generates n random colors in hex \"\"\"\n",
    "    \n",
    "    colorList = []\n",
    "    possibleValues = list(range(10))+[\"A\",\"B\",\"C\",\"D\",\"E\",\"F\"]\n",
    "    \n",
    "    for i in range(n):\n",
    "        tempColor = \"#\"\n",
    "        for j in range(6):\n",
    "            tempColor+=str(possibleValues[random.randint(0,len(possibleValues)-1)])\n",
    "        colorList.append(tempColor)\n",
    "    \n",
    "    return colorList\n",
    "\n",
    "def toArray(fileName):\n",
    "    \"\"\"Converts exome data to an NP array \"\"\"\n",
    "    \n",
    "    with open(fileName) as f:\n",
    "        cancerData = f.read().split(\"\\n\")[1:-1]\n",
    "        for i in range(0,len(cancerData)):\n",
    "            cancerData[i] = cancerData[i].split(\"\\t\")[1:]\n",
    "            cancerData[i] = list(map(int,cancerData[i]))\n",
    "\n",
    "    cancerData = np.array(cancerData,dtype=np.float).T\n",
    "    return cancerData\n",
    "\n",
    "def normalizeRows(mat):\n",
    "    \"\"\" Normalized the rows of the matrix mat \"\"\"\n",
    "    \n",
    "    mat = deepcopy(mat)\n",
    "    \n",
    "    for i in range(mat.shape[0]):\n",
    "        s = sum(mat[i])\n",
    "        for j in range(mat.shape[1]):\n",
    "            num = float(mat[i][j])/float(s)\n",
    "            mat[i][j] = float(mat[i][j])\n",
    "            mat[i][j]/=float(s)\n",
    "\n",
    "            mat[i][j] = num\n",
    "\n",
    "    return mat\n"
   ]
  },
  {
   "cell_type": "code",
   "execution_count": 4,
   "metadata": {},
   "outputs": [],
   "source": [
    "#This sections inits all the cancer types \n",
    "alexandrovFiles = [\"alexandrov_data/breast_exome.txt\"]#glob.glob(\"alexandrov_data/*.txt\")\n",
    "\n",
    "startingPositions = []\n",
    "allData = np.empty((0,0),dtype=np.float)\n",
    "\n",
    "if(CANCER_TYPES<len(alexandrovFiles)):\n",
    "    alexandrovFiles = np.random.choice(alexandrovFiles,CANCER_TYPES,replace=False)\n",
    "CANCER_TYPES = len(alexandrovFiles)\n",
    "\n",
    "cancerNames = [i.split(\"\\\\\")[-1].replace(\"_\",\"\").split(\"exome\")[0] for i in alexandrovFiles]\n",
    "\n",
    "colors = generateColors(len(cancerNames))\n",
    "unusedCancers = []\n",
    "\n",
    "#Combines the data from each of the samples\n",
    "for i,file in enumerate(alexandrovFiles):\n",
    "    cancerData = toArray(file)\n",
    "    sampleRows = cancerData.shape[0]    \n",
    "    selectedSamples = np.random.choice(sampleRows,min(sampleRows,SAMPLES),replace=False)\n",
    "\n",
    "    if(sampleRows>=SAMPLES or True):\n",
    "        if(len(startingPositions)==0):\n",
    "            startingPositions.append(0)\n",
    "\n",
    "        startingPositions.append(startingPositions[-1] + min(sampleRows,SAMPLES))\n",
    "\n",
    "\n",
    "        cancerData = cancerData[selectedSamples]\n",
    "        \n",
    "        if(allData.size == 0): \n",
    "            allData = cancerData\n",
    "        else:\n",
    "            allData = np.append(allData,cancerData,axis=0)\n",
    "    else:\n",
    "        unusedCancers.append(i)\n",
    "\n",
    "cancerNames = [i for j,i in enumerate(cancerNames) if j not in unusedCancers]\n",
    "CANCER_TYPES = len(cancerNames)\n",
    "\n",
    "\n",
    "if(normalize):\n",
    "    allData = normalizeRows(allData)\n",
    "\n",
    "np.savetxt(\"allData.csv\", allData, delimiter=\",\")"
   ]
  },
  {
   "cell_type": "code",
   "execution_count": 5,
   "metadata": {},
   "outputs": [],
   "source": [
    "def findMutationOrder(fileName):\n",
    "    f = open(fileName).read().split(\"\\n\")\n",
    "    mutationList = []\n",
    "    for i in f:\n",
    "        i = i.split(\" \")\n",
    "        for j in i:\n",
    "            if(\"[\" in j):\n",
    "                mutationList.append(j.strip(\"\\t\").split(\"\\t\")[0])\n",
    "    return mutationList"
   ]
  },
  {
   "cell_type": "markdown",
   "metadata": {},
   "source": [
    "#### Creating Nearest Neighbor graphs"
   ]
  },
  {
   "cell_type": "code",
   "execution_count": 6,
   "metadata": {},
   "outputs": [],
   "source": [
    "import scipy.spatial.distance\n",
    "from pynrnmf import NRNMF\n",
    "import warnings\n",
    "warnings.filterwarnings(\"ignore\")"
   ]
  },
  {
   "cell_type": "code",
   "execution_count": 7,
   "metadata": {},
   "outputs": [],
   "source": [
    "def distanceGraph(mat,epsilon=0.3,metric=\"Cosine\"):\n",
    "    numRows = mat.shape[0]\n",
    "    graph = np.zeros((numRows,numRows))\n",
    "    dist = np.zeros((numRows,numRows))\n",
    "    for row in range(numRows):\n",
    "        for otherRow in range(numRows):\n",
    "            if(otherRow==row):\n",
    "                dist[row][otherRow] = 10000000\n",
    "            else:\n",
    "                if(metric==\"Cosine\"):\n",
    "                    dist[row][otherRow] = scipy.spatial.distance.cosine(mat[row],mat[otherRow])\n",
    "                elif(metric==\"Norm\"):\n",
    "                    dist[row][otherRow] = np.linalg.norm(mat[row]-mat[otherRow])\n",
    "    return dist\n",
    "\n",
    "\n",
    "def createNearestNeighborEpsilon(mat,epsilon=0.3,metric=\"Cosine\"):\n",
    "    dist = distanceGraph(mat,epsilon=epsilon,metric=metric)\n",
    "    numRows = mat.shape[0]\n",
    "    graph = np.zeros((numRows,numRows))  \n",
    "\n",
    "    for row in range(numRows):\n",
    "        for otherRow in range(numRows):\n",
    "            if(dist[row][otherRow]<=epsilon):\n",
    "                graph[row][otherRow] = 1\n",
    "                graph[otherRow][row] = 1\n",
    "            else:\n",
    "                graph[row][otherRow] = 0\n",
    "                graph[otherRow][row] = 0\n",
    "\n",
    "    return graph\n",
    "\n",
    "def createNearestNeighbor(mat,k=1,metric=\"Norm\"):\n",
    "    numRows = mat.shape[0]\n",
    "    graph = np.zeros((numRows,numRows))\n",
    "    dist = np.zeros((numRows,numRows))\n",
    "    for row in range(numRows):\n",
    "        for otherRow in range(numRows):\n",
    "            if(otherRow==row):\n",
    "                dist[row][otherRow] = 10000000\n",
    "            else:\n",
    "                if(metric==\"Cosine\"):\n",
    "                    dist[row][otherRow] = scipy.spatial.distance.cosine(mat[row],mat[otherRow])#np.linalg.norm(mat[row]-mat[otherRow])\n",
    "                elif(metric==\"Norm\"):\n",
    "                    dist[row][otherRow] = np.linalg.norm(mat[row]-mat[otherRow])\n",
    "    \n",
    "    for row in range(numRows):\n",
    "        smallestNums = np.argpartition(dist[row],k)[:k]\n",
    "        for i in smallestNums:\n",
    "            graph[row][i] = 1\n",
    "            graph[i][row] = 1\n",
    "\n",
    "    return graph"
   ]
  },
  {
   "cell_type": "markdown",
   "metadata": {},
   "source": [
    "#### Comparing Factoring Methods "
   ]
  },
  {
   "cell_type": "code",
   "execution_count": 8,
   "metadata": {},
   "outputs": [],
   "source": [
    "from sklearn.utils import check_random_state, check_array\n",
    "from numpy.linalg import norm\n",
    "import scipy.sparse as sp\n",
    "\n",
    "def GNMF(X,L,lambd=0,n_components=None,tol=1e-4,max_iter=100,verbose=False):\n",
    "        n_samples, n_features = X.shape\n",
    "\n",
    "        if not n_components:\n",
    "            n_components = n_features\n",
    "        else:\n",
    "            n_components = n_components\n",
    "\n",
    "        #W, H = NBS_init(X,n_components)\n",
    "        W = np.random.normal(0,1,(n_samples,n_components))**2\n",
    "        H = np.random.normal(0,1,(n_components,n_features))**2\n",
    "\n",
    "        reconstruction_err_ = norm(X - np.dot(W, H))\n",
    "        eps=1e-4#spacing(1) #10e-14\n",
    "        Lp = (abs(L)+L)/2\n",
    "        Lm = (abs(L)-L)/2\n",
    "\n",
    "        for n_iter in range(1, max_iter + 1):\n",
    "            h1=lambd*np.dot(H,Lm)+np.dot(W.T,(X+eps)/(np.dot(W,H)+eps))\n",
    "            h2=lambd*np.dot(H,Lp)+np.dot(W.T,np.ones(X.shape))\n",
    "            H = np.multiply(H,(h1+eps)/(h2+eps))\n",
    "            H[H<=0]=eps\n",
    "            H[np.isnan(H)]=eps\n",
    "\n",
    "            w1=np.dot((X+eps)/(np.dot(W,H)+eps),H.T)\n",
    "            w2=np.dot(np.ones(X.shape),H.T)\n",
    "            W = np.multiply(W,(w1+eps)/(w2+eps))\n",
    "            W[W<=0]=eps\n",
    "            W[np.isnan(W)]=eps\n",
    "\n",
    "            if not sp.issparse(X):\n",
    "                if reconstruction_err_ > norm(X - np.dot(W, H)):\n",
    "                    H=(1-eps)*H+eps*np.random.normal(0,1,(n_components,n_features))**2\n",
    "                    W=(1-eps)*W+eps*np.random.normal(0,1,(n_samples,n_components))**2\n",
    "                reconstruction_err_ = norm(X - np.dot(W, H))\n",
    "            else:\n",
    "                norm2X = np.sum(X.data ** 2)  # Ok because X is CSR\n",
    "                normWHT = np.trace(np.dot(np.dot(H.T, np.dot(W.T, W)), H))\n",
    "                cross_prod = np.trace(np.dot((X * H.T).T, W))\n",
    "                reconstruction_err_ = np.sqrt(norm2X + normWHT - 2. * cross_prod)\n",
    "\n",
    "        return np.squeeze(np.asarray(W)), np.squeeze(np.asarray(H)).T, reconstruction_err_\n",
    "\n"
   ]
  },
  {
   "cell_type": "code",
   "execution_count": 36,
   "metadata": {},
   "outputs": [],
   "source": [
    "from sklearn.decomposition import NMF\n",
    "import time\n",
    "\n",
    "def getReconstructionErrors(k=5):\n",
    "    errors = {}\n",
    "    matrices = factorData(k=k)\n",
    "    \n",
    "    for factorMethod in matrices:\n",
    "        U, V = matrices[factorMethod]\n",
    "        errors[factorMethod] = np.linalg.norm(allData.T-U.dot(V.T))\n",
    "    \n",
    "    return errors\n",
    "\n",
    "def factorData(k=5,n_inits=100,max_iter=100,n_jobs=1,metric=\"Cosine\"):\n",
    "    start = time.time()\n",
    "    returnDict = {}\n",
    "    \n",
    "    nn = np.array(createNearestNeighbor(allData,metric=metric))\n",
    "    nne = np.array(createNearestNeighbor(allData,metric=metric))\n",
    "    \n",
    "    \"\"\"\n",
    "    model = NRNMF(k=k,W=nn,alpha=10000,init='random',n_inits=n_inits, max_iter=max_iter, n_jobs=n_jobs)\n",
    "    U, V = model.fit_transform(allData.T)\n",
    "    returnDict[\"NN\"] = (U,V)\n",
    "      \n",
    "      \n",
    "    model = NRNMF(k=k,W=nn,alpha=0,init='random',n_inits=n_inits, max_iter=max_iter, n_jobs=n_jobs)\n",
    "    U, V = model.fit_transform(allData.T)\n",
    "    returnDict[\"Regular\"] = (U,V)\n",
    "    \n",
    "    \n",
    "    model = NRNMF(k=k,W=nne,alpha=10000,init='random',n_inits=n_inits, max_iter=max_iter, n_jobs=n_jobs)\n",
    "    U, V = model.fit_transform(allData.T)\n",
    "    returnDict[\"Epsilon\"] = (U,V)\n",
    "    \"\"\"    \n",
    "        \n",
    "    model = NMF(n_components=k, init='random', random_state=0)\n",
    "    U = model.fit_transform(allData.T)\n",
    "    V = model.components_.T\n",
    "    returnDict[\"Sklearn\"] = (U,V)\n",
    "    \n",
    "    \n",
    "    U,V,r = GNMF(allData.T,nne,0,n_components=k,tol=1e-4,max_iter=max_iter,verbose=False)\n",
    "    returnDict[\"Stratipy\"] = (U,V)\n",
    "    \n",
    "    U,V,r = GNMF(allData.T,nne,0.1,n_components=k,tol=1e-4,max_iter=max_iter,verbose=False)\n",
    "    returnDict[\"StratipyGraph0.1\"] = (U,V)\n",
    "    \n",
    "    U,V,r = GNMF(allData.T,nne,0.25,n_components=k,tol=1e-4,max_iter=max_iter,verbose=False)\n",
    "    returnDict[\"StratipyGraph0.25\"] = (U,V)\n",
    "    \n",
    "    U,V,r = GNMF(allData.T,nne,0.5,n_components=k,tol=1e-4,max_iter=max_iter,verbose=False)\n",
    "    returnDict[\"StratipyGraph0.5\"] = (U,V)\n",
    "    \n",
    "    U,V,r = GNMF(allData.T,nne,10,n_components=k,tol=1e-4,max_iter=max_iter,verbose=False)\n",
    "    returnDict[\"StratipyGraph10\"] = (U,V)\n",
    "\n",
    "    finish = time.time() - start\n",
    "    \n",
    "    print(k,\"took\",finish,\"seconds\")\n",
    "    \n",
    "    return returnDict"
   ]
  },
  {
   "cell_type": "markdown",
   "metadata": {},
   "source": [
    "#### Creating Communities"
   ]
  },
  {
   "cell_type": "code",
   "execution_count": 91,
   "metadata": {},
   "outputs": [],
   "source": [
    "import networkx as nx\n",
    "from networkx.algorithms.community import greedy_modularity_communities"
   ]
  },
  {
   "cell_type": "code",
   "execution_count": 86,
   "metadata": {},
   "outputs": [],
   "source": [
    "def communityDetection():\n",
    "    \"\"\" Runs the Classet-Newmann community detection algorithm \"\"\"\n",
    "    nn = createNearestNeighbor(allData,k=5,metric=\"Cosine\")\n",
    "    \n",
    "    g = nx.Graph()\n",
    "    for cancer in range(len(cancerNames)):\n",
    "        for nodeNumber in range(startingPositions[cancer],startingPositions[cancer+1]):\n",
    "            g.add_node(nodeNumber)\n",
    "\n",
    "    for i in range(nn.shape[0]):\n",
    "        for j in range(nn.shape[1]):\n",
    "            if(nn[i][j]):\n",
    "                g.add_edge(i,j)\n",
    "\n",
    "    #Amount of each cancer type in each community\n",
    "    communities = greedy_modularity_communities(g)\n",
    "    cancerTypes = []    \n",
    "    \n",
    "    for j,community in enumerate(communities):\n",
    "        tempCancers = {}\n",
    "        for i in range(1,len(startingPositions)):\n",
    "            #Num inbetween\n",
    "            cancersInbetween = len([x for x in community if startingPositions[i-1]<=x<startingPositions[i]])\n",
    "            tempCancers[cancerNames[i-1]] = cancersInbetween\n",
    "                    \n",
    "        cancerTypes.append(tempCancers)\n",
    "\n",
    "    return cancerTypes"
   ]
  },
  {
   "cell_type": "code",
   "execution_count": 87,
   "metadata": {},
   "outputs": [
    {
     "data": {
      "text/plain": [
       "[{'breast': 288},\n",
       " {'breast': 231},\n",
       " {'breast': 182},\n",
       " {'breast': 92},\n",
       " {'breast': 41},\n",
       " {'breast': 10}]"
      ]
     },
     "execution_count": 87,
     "metadata": {},
     "output_type": "execute_result"
    }
   ],
   "source": [
    "communityDetection()"
   ]
  },
  {
   "cell_type": "markdown",
   "metadata": {},
   "source": [
    "#### Running K Means"
   ]
  },
  {
   "cell_type": "code",
   "execution_count": 36,
   "metadata": {},
   "outputs": [],
   "source": [
    "from scipy.cluster.vq import kmeans2"
   ]
  },
  {
   "cell_type": "code",
   "execution_count": 37,
   "metadata": {},
   "outputs": [],
   "source": [
    "def runKmeans():\n",
    "    a = kmeans2(allData,CANCER_TYPES)\n",
    "    clusterList = a[1]\n",
    "    clusters = [{} for i in range(CANCER_TYPES)]\n",
    "    \n",
    "    for i in range(len(clusters)):\n",
    "        for j in cancerNames:\n",
    "            clusters[i][j] = 0\n",
    "    \n",
    "    for i in range(len(clusterList)):\n",
    "        #Find out which type of cancer this is\n",
    "        cancerType = \"\"\n",
    "        for j in range(0,len(startingPositions)-1):\n",
    "            if(startingPositions[j]<=i<startingPositions[j+1]):\n",
    "                cancerType = cancerNames[j]\n",
    "                break\n",
    "        \n",
    "        clusters[clusterList[i]][cancerType]+=1\n",
    "\n",
    "    #Get rid of empty clusters\n",
    "    clusters = [i for i in clusters if sum(i.values())!=0]\n",
    "        \n",
    "    return clusters"
   ]
  },
  {
   "cell_type": "code",
   "execution_count": 15,
   "metadata": {},
   "outputs": [
    {
     "data": {
      "text/plain": [
       "[{'bladder': 16,\n",
       "  'esophageal': 29,\n",
       "  'glioma': 30,\n",
       "  'breast': 29,\n",
       "  'prostate': 29,\n",
       "  'adeno': 22,\n",
       "  'lungsmall': 29,\n",
       "  'neuroblastoma': 30,\n",
       "  'glioblastoma': 30,\n",
       "  'melanoma': 7,\n",
       "  'clearcell': 30,\n",
       "  'stomach': 25,\n",
       "  'uterus': 24,\n",
       "  'pancreas': 30,\n",
       "  'thyroid': 30,\n",
       "  'cervix': 23,\n",
       "  'papillary': 30,\n",
       "  'neck': 25,\n",
       "  'colorectum': 26,\n",
       "  'lymphoma': 24},\n",
       " {'bladder': 4,\n",
       "  'esophageal': 0,\n",
       "  'glioma': 0,\n",
       "  'breast': 0,\n",
       "  'prostate': 0,\n",
       "  'adeno': 0,\n",
       "  'lungsmall': 0,\n",
       "  'neuroblastoma': 0,\n",
       "  'glioblastoma': 0,\n",
       "  'melanoma': 0,\n",
       "  'clearcell': 0,\n",
       "  'stomach': 0,\n",
       "  'uterus': 0,\n",
       "  'pancreas': 0,\n",
       "  'thyroid': 0,\n",
       "  'cervix': 1,\n",
       "  'papillary': 0,\n",
       "  'neck': 0,\n",
       "  'colorectum': 0,\n",
       "  'lymphoma': 0},\n",
       " {'bladder': 0,\n",
       "  'esophageal': 0,\n",
       "  'glioma': 0,\n",
       "  'breast': 0,\n",
       "  'prostate': 0,\n",
       "  'adeno': 0,\n",
       "  'lungsmall': 0,\n",
       "  'neuroblastoma': 0,\n",
       "  'glioblastoma': 0,\n",
       "  'melanoma': 0,\n",
       "  'clearcell': 0,\n",
       "  'stomach': 0,\n",
       "  'uterus': 1,\n",
       "  'pancreas': 0,\n",
       "  'thyroid': 0,\n",
       "  'cervix': 0,\n",
       "  'papillary': 0,\n",
       "  'neck': 0,\n",
       "  'colorectum': 0,\n",
       "  'lymphoma': 0},\n",
       " {'bladder': 0,\n",
       "  'esophageal': 0,\n",
       "  'glioma': 0,\n",
       "  'breast': 0,\n",
       "  'prostate': 0,\n",
       "  'adeno': 0,\n",
       "  'lungsmall': 0,\n",
       "  'neuroblastoma': 0,\n",
       "  'glioblastoma': 0,\n",
       "  'melanoma': 0,\n",
       "  'clearcell': 0,\n",
       "  'stomach': 1,\n",
       "  'uterus': 3,\n",
       "  'pancreas': 0,\n",
       "  'thyroid': 0,\n",
       "  'cervix': 0,\n",
       "  'papillary': 0,\n",
       "  'neck': 0,\n",
       "  'colorectum': 2,\n",
       "  'lymphoma': 0},\n",
       " {'bladder': 10,\n",
       "  'esophageal': 0,\n",
       "  'glioma': 0,\n",
       "  'breast': 1,\n",
       "  'prostate': 0,\n",
       "  'adeno': 8,\n",
       "  'lungsmall': 1,\n",
       "  'neuroblastoma': 0,\n",
       "  'glioblastoma': 0,\n",
       "  'melanoma': 0,\n",
       "  'clearcell': 0,\n",
       "  'stomach': 0,\n",
       "  'uterus': 0,\n",
       "  'pancreas': 0,\n",
       "  'thyroid': 0,\n",
       "  'cervix': 6,\n",
       "  'papillary': 0,\n",
       "  'neck': 4,\n",
       "  'colorectum': 0,\n",
       "  'lymphoma': 0},\n",
       " {'bladder': 0,\n",
       "  'esophageal': 0,\n",
       "  'glioma': 0,\n",
       "  'breast': 0,\n",
       "  'prostate': 0,\n",
       "  'adeno': 0,\n",
       "  'lungsmall': 0,\n",
       "  'neuroblastoma': 0,\n",
       "  'glioblastoma': 0,\n",
       "  'melanoma': 7,\n",
       "  'clearcell': 0,\n",
       "  'stomach': 0,\n",
       "  'uterus': 0,\n",
       "  'pancreas': 0,\n",
       "  'thyroid': 0,\n",
       "  'cervix': 0,\n",
       "  'papillary': 0,\n",
       "  'neck': 0,\n",
       "  'colorectum': 0,\n",
       "  'lymphoma': 0},\n",
       " {'bladder': 0,\n",
       "  'esophageal': 1,\n",
       "  'glioma': 0,\n",
       "  'breast': 0,\n",
       "  'prostate': 1,\n",
       "  'adeno': 0,\n",
       "  'lungsmall': 0,\n",
       "  'neuroblastoma': 0,\n",
       "  'glioblastoma': 0,\n",
       "  'melanoma': 0,\n",
       "  'clearcell': 0,\n",
       "  'stomach': 4,\n",
       "  'uterus': 1,\n",
       "  'pancreas': 0,\n",
       "  'thyroid': 0,\n",
       "  'cervix': 0,\n",
       "  'papillary': 0,\n",
       "  'neck': 0,\n",
       "  'colorectum': 2,\n",
       "  'lymphoma': 0},\n",
       " {'bladder': 0,\n",
       "  'esophageal': 0,\n",
       "  'glioma': 0,\n",
       "  'breast': 0,\n",
       "  'prostate': 0,\n",
       "  'adeno': 0,\n",
       "  'lungsmall': 0,\n",
       "  'neuroblastoma': 0,\n",
       "  'glioblastoma': 0,\n",
       "  'melanoma': 0,\n",
       "  'clearcell': 0,\n",
       "  'stomach': 0,\n",
       "  'uterus': 1,\n",
       "  'pancreas': 0,\n",
       "  'thyroid': 0,\n",
       "  'cervix': 0,\n",
       "  'papillary': 0,\n",
       "  'neck': 0,\n",
       "  'colorectum': 0,\n",
       "  'lymphoma': 0},\n",
       " {'bladder': 0,\n",
       "  'esophageal': 0,\n",
       "  'glioma': 0,\n",
       "  'breast': 0,\n",
       "  'prostate': 0,\n",
       "  'adeno': 0,\n",
       "  'lungsmall': 0,\n",
       "  'neuroblastoma': 0,\n",
       "  'glioblastoma': 0,\n",
       "  'melanoma': 10,\n",
       "  'clearcell': 0,\n",
       "  'stomach': 0,\n",
       "  'uterus': 0,\n",
       "  'pancreas': 0,\n",
       "  'thyroid': 0,\n",
       "  'cervix': 0,\n",
       "  'papillary': 0,\n",
       "  'neck': 0,\n",
       "  'colorectum': 0,\n",
       "  'lymphoma': 0},\n",
       " {'bladder': 0,\n",
       "  'esophageal': 0,\n",
       "  'glioma': 0,\n",
       "  'breast': 0,\n",
       "  'prostate': 0,\n",
       "  'adeno': 0,\n",
       "  'lungsmall': 0,\n",
       "  'neuroblastoma': 0,\n",
       "  'glioblastoma': 0,\n",
       "  'melanoma': 6,\n",
       "  'clearcell': 0,\n",
       "  'stomach': 0,\n",
       "  'uterus': 0,\n",
       "  'pancreas': 0,\n",
       "  'thyroid': 0,\n",
       "  'cervix': 0,\n",
       "  'papillary': 0,\n",
       "  'neck': 1,\n",
       "  'colorectum': 0,\n",
       "  'lymphoma': 0}]"
      ]
     },
     "execution_count": 15,
     "metadata": {},
     "output_type": "execute_result"
    }
   ],
   "source": [
    "runKmeans()"
   ]
  },
  {
   "cell_type": "markdown",
   "metadata": {},
   "source": [
    "#### Presenting the data from the clusters"
   ]
  },
  {
   "cell_type": "code",
   "execution_count": 20,
   "metadata": {},
   "outputs": [],
   "source": [
    "import operator\n",
    "import matplotlib.pyplot as plt"
   ]
  },
  {
   "cell_type": "code",
   "execution_count": 40,
   "metadata": {},
   "outputs": [],
   "source": [
    "def plotReconstruction(kStart,kEnd,step=1):\n",
    "    points = []\n",
    "    types = []\n",
    " \n",
    "    styles = ['r','y','b','g','c','k']\n",
    "\n",
    "    x = [k for k in range(kStart,kEnd,step)]\n",
    "\n",
    "    for k in range(kStart,kEnd,step):\n",
    "        points.append(getReconstructionErrors(k=k))\n",
    "    \n",
    "    types = list(points[0].keys())\n",
    "    scatter = [[] for i in range(len(types))]\n",
    "    for d in points:\n",
    "        for i in range(len(types)):\n",
    "            scatter[i].append(d[types[i]])\n",
    "            print(types[i],d[types[i]])\n",
    "    \n",
    "    for point in range(len(x)-1):\n",
    "        for type in range(len(types)):\n",
    "            plt.plot(x[point:point+2], scatter[type][point:point+2], styles[type]+'o-')\n",
    "\n",
    "    for type in range(len(types)):\n",
    "        print(types[type],styles[type])\n",
    "            \n",
    "    plt.show()\n",
    "    "
   ]
  },
  {
   "cell_type": "code",
   "execution_count": 41,
   "metadata": {},
   "outputs": [
    {
     "name": "stdout",
     "output_type": "stream",
     "text": [
      "5 took 1.775200605392456 seconds\n",
      "6 took 1.7846918106079102 seconds\n",
      "7 took 1.8325929641723633 seconds\n",
      "8 took 1.840651035308838 seconds\n",
      "9 took 1.8294289112091064 seconds\n",
      "10 took 1.9326202869415283 seconds\n",
      "11 took 1.9685258865356445 seconds\n",
      "12 took 2.031273126602173 seconds\n",
      "13 took 1.9821252822875977 seconds\n",
      "14 took 2.055821180343628 seconds\n",
      "Sklearn 57.106348108228445\n",
      "Stratipy 66.59356954883701\n",
      "StratipyGraph0.1 66.52612546103322\n",
      "StratipyGraph0.25 66.95442466425163\n",
      "StratipyGraph0.5 66.68170710958896\n",
      "StratipyGraph10 62.932940850666505\n",
      "Sklearn 55.0327485448661\n",
      "Stratipy 61.84994628945839\n",
      "StratipyGraph0.1 66.080764359714\n",
      "StratipyGraph0.25 61.36931050580943\n",
      "StratipyGraph0.5 62.34726105684234\n",
      "StratipyGraph10 61.20851858057177\n",
      "Sklearn 53.095997537754165\n",
      "Stratipy 65.61542712289696\n",
      "StratipyGraph0.1 62.09002676680062\n",
      "StratipyGraph0.25 61.91104348983566\n",
      "StratipyGraph0.5 65.11066211896939\n",
      "StratipyGraph10 66.85572033049266\n",
      "Sklearn 51.662212247750396\n",
      "Stratipy 61.115392429146375\n",
      "StratipyGraph0.1 61.06314934072407\n",
      "StratipyGraph0.25 61.14702529288628\n",
      "StratipyGraph0.5 59.951576517171524\n",
      "StratipyGraph10 59.20327911422797\n",
      "Sklearn 49.798787866246975\n",
      "Stratipy 57.87380773368084\n",
      "StratipyGraph0.1 62.61446793194987\n",
      "StratipyGraph0.25 58.07553546175248\n",
      "StratipyGraph0.5 58.23326005550852\n",
      "StratipyGraph10 62.17893605431582\n",
      "Sklearn 48.584964983100285\n",
      "Stratipy 61.75739166071223\n",
      "StratipyGraph0.1 62.48971780451651\n",
      "StratipyGraph0.25 58.76547044115855\n",
      "StratipyGraph0.5 57.57258454537514\n",
      "StratipyGraph10 59.737308198500834\n",
      "Sklearn 47.17820547990093\n",
      "Stratipy 59.9248270146111\n",
      "StratipyGraph0.1 58.55389071912389\n",
      "StratipyGraph0.25 59.13318205583256\n",
      "StratipyGraph0.5 60.7040229316794\n",
      "StratipyGraph10 59.569541358209214\n",
      "Sklearn 45.99566798146923\n",
      "Stratipy 61.14682674968737\n",
      "StratipyGraph0.1 57.35230524295143\n",
      "StratipyGraph0.25 58.37520730091931\n",
      "StratipyGraph0.5 57.165932931163056\n",
      "StratipyGraph10 56.521969540670334\n",
      "Sklearn 44.91032041926834\n",
      "Stratipy 56.86170663063056\n",
      "StratipyGraph0.1 57.50304985426264\n",
      "StratipyGraph0.25 60.96916524258339\n",
      "StratipyGraph0.5 57.926652538110744\n",
      "StratipyGraph10 58.140511409817364\n",
      "Sklearn 43.98638466041215\n",
      "Stratipy 53.81853149646203\n",
      "StratipyGraph0.1 54.95239687847938\n",
      "StratipyGraph0.25 55.28877198506737\n",
      "StratipyGraph0.5 55.11498160518173\n",
      "StratipyGraph10 56.721357760519965\n",
      "Sklearn r\n",
      "Stratipy y\n",
      "StratipyGraph0.1 b\n",
      "StratipyGraph0.25 g\n",
      "StratipyGraph0.5 c\n",
      "StratipyGraph10 k\n"
     ]
    },
    {
     "data": {
      "image/png": "[encoded data removed]",
      "text/plain": [
       "<Figure size 432x288 with 1 Axes>"
      ]
     },
     "metadata": {
      "needs_background": "light"
     },
     "output_type": "display_data"
    }
   ],
   "source": [
    "plotReconstruction(5,15)"
   ]
  },
  {
   "cell_type": "code",
   "execution_count": 58,
   "metadata": {},
   "outputs": [],
   "source": [
    "def presentCSV(clusters):\n",
    "    csvData = np.zeros(len(clusters),CANCER_TYPES)\n",
    "    for i in range(len(clusters)):\n",
    "        for j,cancerName in enumerate(cancerNames):\n",
    "            csvData[i,j] = clusters[i][cancerName]\n",
    "    \n",
    "    csvData = csvData.T\n",
    "    \n",
    "    w = open(\"communityCSV.csv\",\"w\")\n",
    "    for i in range(csvData.shape[0]):\n",
    "        tempLine = cancerNames[i]+\",\"\n",
    "        tempLine+=\",\".join(list(map(str,csvData[i])))\n",
    "        tempLine+=\"\\n\"\n",
    "        w.write(tempLine)\n",
    "\n",
    "    w.close()"
   ]
  },
  {
   "cell_type": "code",
   "execution_count": 59,
   "metadata": {},
   "outputs": [],
   "source": [
    "def printClusters(clusters):\n",
    "    for i,community in enumerate(clusters):\n",
    "        sortedCommunity = sorted(community.items(), key=operator.itemgetter(1),reverse=True)  \n",
    "        print(\"Community #\",(i+1))\n",
    "        for j in sortedCommunity:\n",
    "            if(j[1]!=0):\n",
    "                print(j[0],\":\",j[1])\n",
    "        print()"
   ]
  },
  {
   "cell_type": "code",
   "execution_count": 96,
   "metadata": {},
   "outputs": [],
   "source": [
    "def epsilonConnectedComponents(epsilons):\n",
    "    scatter = []\n",
    "    x = epsilons\n",
    "    \n",
    "    for epsilon in epsilons:\n",
    "        nne = createNearestNeighborEpsilon(allData,epsilon=epsilon)\n",
    "        \n",
    "        g = nx.Graph()\n",
    "        for cancer in range(len(cancerNames)):\n",
    "            for nodeNumber in range(startingPositions[cancer],startingPositions[cancer+1]):\n",
    "                g.add_node(nodeNumber)\n",
    "\n",
    "        for i in range(nne.shape[0]):\n",
    "            for j in range(nne.shape[1]):\n",
    "                if(nne[i][j]):\n",
    "                    g.add_edge(i,j)\n",
    "\n",
    "        connectedComponents = nx.number_connected_components(g)\n",
    "        scatter.append(connectedComponents)\n",
    "    \n",
    "    for point in range(len(scatter)-1):\n",
    "        plt.plot(x[point:point+2], scatter[point:point+2], 'ro-')\n",
    "\n",
    "    plt.ylabel(\"Connected components\")\n",
    "    plt.xlabel(\"Value of epsilon\")\n",
    "        \n",
    "    plt.show()"
   ]
  },
  {
   "cell_type": "code",
   "execution_count": 60,
   "metadata": {},
   "outputs": [
    {
     "ename": "NameError",
     "evalue": "name 'runKmeans' is not defined",
     "output_type": "error",
     "traceback": [
      "\u001b[1;31m---------------------------------------------------------------------------\u001b[0m",
      "\u001b[1;31mNameError\u001b[0m                                 Traceback (most recent call last)",
      "\u001b[1;32m<ipython-input-60-9a6ce7857828>\u001b[0m in \u001b[0;36m<module>\u001b[1;34m\u001b[0m\n\u001b[1;32m----> 1\u001b[1;33m \u001b[0mprintClusters\u001b[0m\u001b[1;33m(\u001b[0m\u001b[0mrunKmeans\u001b[0m\u001b[1;33m(\u001b[0m\u001b[1;33m)\u001b[0m\u001b[1;33m)\u001b[0m\u001b[1;33m\u001b[0m\u001b[0m\n\u001b[0m",
      "\u001b[1;31mNameError\u001b[0m: name 'runKmeans' is not defined"
     ]
    }
   ],
   "source": [
    "printClusters(runKmeans())"
   ]
  },
  {
   "cell_type": "code",
   "execution_count": 97,
   "metadata": {},
   "outputs": [
    {
     "data": {
      "image/png": "[encoded data removed]",
      "text/plain": [
       "<Figure size 432x288 with 1 Axes>"
      ]
     },
     "metadata": {
      "needs_background": "light"
     },
     "output_type": "display_data"
    }
   ],
   "source": [
    "epsilonConnectedComponents([0.1,0.2,0.3,0.4,0.5])"
   ]
  },
  {
   "cell_type": "code",
   "execution_count": 43,
   "metadata": {},
   "outputs": [],
   "source": [
    "def histogram(v,title):\n",
    "    fig, ax = plt.subplots()\n",
    "    plt.xticks(rotation=90)\n",
    "\n",
    "    actualCancers = [i for i in list(v.keys()) if v[i]!=0]\n",
    "    actualValues = [i for i in v.values() if i != 0]\n",
    "    \n",
    "    plt.title(title)\n",
    "    plt.bar(np.arange(len(v.values())), v.values(), align='center', alpha=0.5)\n",
    "    ax.set_xticklabels(list(v.keys()))\n",
    "    plt.show()"
   ]
  },
  {
   "cell_type": "code",
   "execution_count": 44,
   "metadata": {},
   "outputs": [],
   "source": [
    "def cancerHistogram(clusters,cancerName):\n",
    "    plt.title(cancerName)\n",
    "    \n",
    "    values = []\n",
    "    for i in range(len(clusters)):\n",
    "        if(cancerName in clusters[i]):\n",
    "            values.append(clusters[i][cancerName])\n",
    "        else:\n",
    "            values.append(0)\n",
    "    \n",
    "    plt.bar(np.arange(len(values)),values, align='center', alpha=0.5)\n",
    "    plt.show()"
   ]
  },
  {
   "cell_type": "code",
   "execution_count": 46,
   "metadata": {},
   "outputs": [
    {
     "data": {
      "image/png": "[encoded data removed]",
      "text/plain": [
       "<Figure size 432x288 with 1 Axes>"
      ]
     },
     "metadata": {
      "needs_background": "light"
     },
     "output_type": "display_data"
    },
    {
     "data": {
      "image/png": "[encoded data removed]",
      "text/plain": [
       "<Figure size 432x288 with 1 Axes>"
      ]
     },
     "metadata": {
      "needs_background": "light"
     },
     "output_type": "display_data"
    },
    {
     "data": {
      "image/png": "[encoded data removed]",
      "text/plain": [
       "<Figure size 432x288 with 1 Axes>"
      ]
     },
     "metadata": {
      "needs_background": "light"
     },
     "output_type": "display_data"
    },
    {
     "data": {
      "image/png": "[encoded data removed]",
      "text/plain": [
       "<Figure size 432x288 with 1 Axes>"
      ]
     },
     "metadata": {
      "needs_background": "light"
     },
     "output_type": "display_data"
    },
    {
     "data": {
      "image/png": "[encoded data removed]",
      "text/plain": [
       "<Figure size 432x288 with 1 Axes>"
      ]
     },
     "metadata": {
      "needs_background": "light"
     },
     "output_type": "display_data"
    },
    {
     "data": {
      "image/png": "[encoded data removed]",
      "text/plain": [
       "<Figure size 432x288 with 1 Axes>"
      ]
     },
     "metadata": {
      "needs_background": "light"
     },
     "output_type": "display_data"
    },
    {
     "data": {
      "image/png": "[encoded data removed]",
      "text/plain": [
       "<Figure size 432x288 with 1 Axes>"
      ]
     },
     "metadata": {
      "needs_background": "light"
     },
     "output_type": "display_data"
    },
    {
     "data": {
      "image/png": "[encoded data removed]",
      "text/plain": [
       "<Figure size 432x288 with 1 Axes>"
      ]
     },
     "metadata": {
      "needs_background": "light"
     },
     "output_type": "display_data"
    },
    {
     "data": {
      "image/png": "[encoded data removed]",
      "text/plain": [
       "<Figure size 432x288 with 1 Axes>"
      ]
     },
     "metadata": {
      "needs_background": "light"
     },
     "output_type": "display_data"
    },
    {
     "data": {
      "image/png": "[encoded data removed]",
      "text/plain": [
       "<Figure size 432x288 with 1 Axes>"
      ]
     },
     "metadata": {
      "needs_background": "light"
     },
     "output_type": "display_data"
    },
    {
     "data": {
      "image/png": "[encoded data removed]",
      "text/plain": [
       "<Figure size 432x288 with 1 Axes>"
      ]
     },
     "metadata": {
      "needs_background": "light"
     },
     "output_type": "display_data"
    },
    {
     "data": {
      "image/png": "[encoded data removed]",
      "text/plain": [
       "<Figure size 432x288 with 1 Axes>"
      ]
     },
     "metadata": {
      "needs_background": "light"
     },
     "output_type": "display_data"
    },
    {
     "data": {
      "image/png": "[encoded data removed]",
      "text/plain": [
       "<Figure size 432x288 with 1 Axes>"
      ]
     },
     "metadata": {
      "needs_background": "light"
     },
     "output_type": "display_data"
    },
    {
     "data": {
      "image/png": "[encoded data removed]",
      "text/plain": [
       "<Figure size 432x288 with 1 Axes>"
      ]
     },
     "metadata": {
      "needs_background": "light"
     },
     "output_type": "display_data"
    },
    {
     "data": {
      "image/png": "[encoded data removed]",
      "text/plain": [
       "<Figure size 432x288 with 1 Axes>"
      ]
     },
     "metadata": {
      "needs_background": "light"
     },
     "output_type": "display_data"
    },
    {
     "data": {
      "image/png": "[encoded data removed]",
      "text/plain": [
       "<Figure size 432x288 with 1 Axes>"
      ]
     },
     "metadata": {
      "needs_background": "light"
     },
     "output_type": "display_data"
    },
    {
     "data": {
      "image/png": "[encoded data removed]",
      "text/plain": [
       "<Figure size 432x288 with 1 Axes>"
      ]
     },
     "metadata": {
      "needs_background": "light"
     },
     "output_type": "display_data"
    },
    {
     "data": {
      "image/png": "[encoded data removed]",
      "text/plain": [
       "<Figure size 432x288 with 1 Axes>"
      ]
     },
     "metadata": {
      "needs_background": "light"
     },
     "output_type": "display_data"
    },
    {
     "data": {
      "image/png": "[encoded data removed]",
      "text/plain": [
       "<Figure size 432x288 with 1 Axes>"
      ]
     },
     "metadata": {
      "needs_background": "light"
     },
     "output_type": "display_data"
    },
    {
     "data": {
      "image/png": "[encoded data removed]",
      "text/plain": [
       "<Figure size 432x288 with 1 Axes>"
      ]
     },
     "metadata": {
      "needs_background": "light"
     },
     "output_type": "display_data"
    },
    {
     "data": {
      "image/png": "[encoded data removed]",
      "text/plain": [
       "<Figure size 432x288 with 1 Axes>"
      ]
     },
     "metadata": {
      "needs_background": "light"
     },
     "output_type": "display_data"
    },
    {
     "data": {
      "image/png": "[encoded data removed]",
      "text/plain": [
       "<Figure size 432x288 with 1 Axes>"
      ]
     },
     "metadata": {
      "needs_background": "light"
     },
     "output_type": "display_data"
    },
    {
     "data": {
      "image/png": "[encoded data removed]",
      "text/plain": [
       "<Figure size 432x288 with 1 Axes>"
      ]
     },
     "metadata": {
      "needs_background": "light"
     },
     "output_type": "display_data"
    },
    {
     "data": {
      "image/png": "[encoded data removed]",
      "text/plain": [
       "<Figure size 432x288 with 1 Axes>"
      ]
     },
     "metadata": {
      "needs_background": "light"
     },
     "output_type": "display_data"
    },
    {
     "data": {
      "image/png": "[encoded data removed]",
      "text/plain": [
       "<Figure size 432x288 with 1 Axes>"
      ]
     },
     "metadata": {
      "needs_background": "light"
     },
     "output_type": "display_data"
    },
    {
     "data": {
      "image/png": "[encoded data removed]",
      "text/plain": [
       "<Figure size 432x288 with 1 Axes>"
      ]
     },
     "metadata": {
      "needs_background": "light"
     },
     "output_type": "display_data"
    },
    {
     "data": {
      "image/png": "[encoded data removed]",
      "text/plain": [
       "<Figure size 432x288 with 1 Axes>"
      ]
     },
     "metadata": {
      "needs_background": "light"
     },
     "output_type": "display_data"
    }
   ],
   "source": [
    "a = runKmeans()\n",
    "for i in cancerNames:\n",
    "    cancerHistogram(a,i)\n",
    "\n",
    "for i in range(len(a)):\n",
    "    histogram(a[i],str(i+1))"
   ]
  },
  {
   "cell_type": "code",
   "execution_count": 14,
   "metadata": {},
   "outputs": [],
   "source": [
    "def printHistogram(distanceMatrix):\n",
    "    flattened = distanceMatrix.flatten()\n",
    "    plt.hist(flattened,np.arange(0,1,0.1),alpha=0.5, histtype='bar', ec='black')\n",
    "    plt.title(\"Distribution of distance values using distance=1-cosine similarity for all pairs of samples\")\n",
    "    plt.show()\n",
    "    \n",
    "def inclusionThreshold(nn,threshold):\n",
    "    return len([i for i in range(len(nn)) if sum(nn[i])<=threshold])\n",
    "\n",
    "def inclusionThresholdEpsilon(threshold):\n",
    "    nne = createNearestNeighborEpsilon(allData,epsilon=epsilon)\n",
    "    return inclusionThreshold(nne,threshold)\n",
    "    \n",
    "def numberNodesEpsilon(epsilon):\n",
    "    nne = createNearestNeighborEpsilon(allData,epsilon=epsilon)\n",
    "    bins = [0,1,5,10]\n",
    "    \n",
    "    binNumbers = [0 for i in range(len(bins))]\n",
    "    \n",
    "    for i in range(len(bins)):\n",
    "        binNumbers[i] = inclusionThreshold(nne,bins[i])\n",
    "        if(i != 0):\n",
    "            binNumbers[i]-=sum(binNumbers[0:i])\n",
    "    binNumbers.append(nne.shape[0]-sum(binNumbers))\n",
    "    \n",
    "    plt.title(str(bins))\n",
    "    plt.bar(np.arange(len(binNumbers)),binNumbers, align='center', alpha=0.5)\n",
    "    plt.show()\n",
    "    \n",
    "    return binNumbers[0]"
   ]
  },
  {
   "cell_type": "code",
   "execution_count": 45,
   "metadata": {},
   "outputs": [
    {
     "data": {
      "image/png": "[encoded data removed]",
      "text/plain": [
       "<Figure size 432x288 with 1 Axes>"
      ]
     },
     "metadata": {
      "needs_background": "light"
     },
     "output_type": "display_data"
    }
   ],
   "source": [
    "printHistogram(distanceGraph(allData))"
   ]
  },
  {
   "cell_type": "code",
   "execution_count": 27,
   "metadata": {},
   "outputs": [
    {
     "data": {
      "text/plain": [
       "(594, 594)"
      ]
     },
     "execution_count": 27,
     "metadata": {},
     "output_type": "execute_result"
    }
   ],
   "source": [
    "distanceGraph(allData).shape"
   ]
  },
  {
   "cell_type": "code",
   "execution_count": 16,
   "metadata": {},
   "outputs": [
    {
     "data": {
      "image/png": "[encoded data removed]",
      "text/plain": [
       "<Figure size 432x288 with 1 Axes>"
      ]
     },
     "metadata": {
      "needs_background": "light"
     },
     "output_type": "display_data"
    },
    {
     "name": "stdout",
     "output_type": "stream",
     "text": [
      "1 95\n"
     ]
    },
    {
     "data": {
      "image/png": "[encoded data removed]",
      "text/plain": [
       "<Figure size 432x288 with 1 Axes>"
      ]
     },
     "metadata": {
      "needs_background": "light"
     },
     "output_type": "display_data"
    },
    {
     "name": "stdout",
     "output_type": "stream",
     "text": [
      "2 92\n"
     ]
    },
    {
     "data": {
      "image/png": "[encoded data removed]",
      "text/plain": [
       "<Figure size 432x288 with 1 Axes>"
      ]
     },
     "metadata": {
      "needs_background": "light"
     },
     "output_type": "display_data"
    },
    {
     "name": "stdout",
     "output_type": "stream",
     "text": [
      "3 64\n"
     ]
    },
    {
     "data": {
      "image/png": "[encoded data removed]",
      "text/plain": [
       "<Figure size 432x288 with 1 Axes>"
      ]
     },
     "metadata": {
      "needs_background": "light"
     },
     "output_type": "display_data"
    },
    {
     "name": "stdout",
     "output_type": "stream",
     "text": [
      "4 16\n"
     ]
    },
    {
     "data": {
      "image/png": "[encoded data removed]",
      "text/plain": [
       "<Figure size 432x288 with 1 Axes>"
      ]
     },
     "metadata": {
      "needs_background": "light"
     },
     "output_type": "display_data"
    },
    {
     "name": "stdout",
     "output_type": "stream",
     "text": [
      "5 5\n"
     ]
    },
    {
     "data": {
      "image/png": "[encoded data removed]",
      "text/plain": [
       "<Figure size 432x288 with 1 Axes>"
      ]
     },
     "metadata": {
      "needs_background": "light"
     },
     "output_type": "display_data"
    },
    {
     "name": "stdout",
     "output_type": "stream",
     "text": [
      "6 0\n"
     ]
    },
    {
     "data": {
      "image/png": "[encoded data removed]",
      "text/plain": [
       "<Figure size 432x288 with 1 Axes>"
      ]
     },
     "metadata": {
      "needs_background": "light"
     },
     "output_type": "display_data"
    },
    {
     "name": "stdout",
     "output_type": "stream",
     "text": [
      "7 0\n"
     ]
    },
    {
     "data": {
      "image/png": "[encoded data removed]",
      "text/plain": [
       "<Figure size 432x288 with 1 Axes>"
      ]
     },
     "metadata": {
      "needs_background": "light"
     },
     "output_type": "display_data"
    },
    {
     "name": "stdout",
     "output_type": "stream",
     "text": [
      "8 0\n"
     ]
    },
    {
     "data": {
      "image/png": "[encoded data removed]",
      "text/plain": [
       "<Figure size 432x288 with 1 Axes>"
      ]
     },
     "metadata": {
      "needs_background": "light"
     },
     "output_type": "display_data"
    },
    {
     "name": "stdout",
     "output_type": "stream",
     "text": [
      "9 0\n"
     ]
    },
    {
     "data": {
      "image/png": "[encoded data removed]",
      "text/plain": [
       "<Figure size 432x288 with 1 Axes>"
      ]
     },
     "metadata": {
      "needs_background": "light"
     },
     "output_type": "display_data"
    },
    {
     "name": "stdout",
     "output_type": "stream",
     "text": [
      "10 0\n"
     ]
    }
   ],
   "source": [
    "for i in range(1,11):\n",
    "    print(i,numberNodesEpsilon(i/10))"
   ]
  },
  {
   "cell_type": "code",
   "execution_count": 12,
   "metadata": {},
   "outputs": [],
   "source": [
    "import scipy.optimize"
   ]
  },
  {
   "cell_type": "code",
   "execution_count": 13,
   "metadata": {},
   "outputs": [],
   "source": [
    "def findSignatures(fileName):\n",
    "    f = open(fileName).read().split(\"\\n\")[1:]\n",
    "    for i in range(len(f)):\n",
    "        f[i] = f[i].split(\" \")[3:]\n",
    "        f[i] = list(map(float,f[i]))\n",
    "    f = np.array(f).T\n",
    "    return f\n",
    "\n",
    "def findBreastSignatures():\n",
    "    signatureNumbers = [1,2,3,5,6,8,10,13,17,18,20,26,30]\n",
    "    signatureNumbers = [i-1 for i in signatureNumbers]\n",
    "    fileName = \"signatures.txt\"\n",
    "    \n",
    "    return findSignatures(fileName)[signatureNumbers,:]"
   ]
  },
  {
   "cell_type": "code",
   "execution_count": 14,
   "metadata": {},
   "outputs": [],
   "source": [
    "def cosineTable(a,b):\n",
    "    \"\"\"Show Best runs the Hungarian algorithm to determine the best matching\"\"\"\n",
    "\n",
    "    print(len(b),len(a))\n",
    "    similarities = [[scipy.spatial.distance.cosine(a[i],b[j]) for j in range(len(b))] for i in range(len(a))]\n",
    "    similarities = np.array(similarities)\n",
    "    numSignatures = len(similarities)\n",
    "\n",
    "    s = 0\n",
    "\n",
    "    row,col = scipy.optimize.linear_sum_assignment(similarities)\n",
    "    best = [[False for i in range(numSignatures)] for j in range(numSignatures)]\n",
    "\n",
    "    for i in range(len(row)):\n",
    "        s+=similarities[row[i],col[i]]\n",
    "        best[row[i]][col[i]] = True\n",
    "\n",
    "    #similarities[np.logical_not(best)] = 0\n",
    "\n",
    "    fig = plt.figure()\n",
    "    ax = fig.add_subplot(111)\n",
    "    m = ax.matshow(similarities)\n",
    "    fig.colorbar(m)\n",
    "\n",
    "    plt.ylabel(\"My Signature\")\n",
    "    plt.xlabel(\"Actual signature\")\n",
    "    ax.set_xticklabels(['']+list(range(1,numSignatures+1)))\n",
    "    ax.set_yticklabels(['']+list(range(1,numSignatures+1)))\n",
    "\n",
    "    return s/numSignatures\n"
   ]
  },
  {
   "cell_type": "code",
   "execution_count": 33,
   "metadata": {},
   "outputs": [
    {
     "name": "stdout",
     "output_type": "stream",
     "text": [
      "13 took 1.8832950592041016 seconds\n"
     ]
    }
   ],
   "source": [
    "ourSignatures = factorData(k=13)['StratipyGraph0.25'][0].T"
   ]
  },
  {
   "cell_type": "code",
   "execution_count": 34,
   "metadata": {},
   "outputs": [],
   "source": [
    "theirSignatures = findBreastSignatures()"
   ]
  },
  {
   "cell_type": "code",
   "execution_count": 35,
   "metadata": {},
   "outputs": [
    {
     "name": "stdout",
     "output_type": "stream",
     "text": [
      "13 13\n"
     ]
    },
    {
     "data": {
      "text/plain": [
       "0.44030263408757225"
      ]
     },
     "execution_count": 35,
     "metadata": {},
     "output_type": "execute_result"
    },
    {
     "data": {
      "image/png": "[encoded data removed]",
      "text/plain": [
       "<Figure size 432x288 with 2 Axes>"
      ]
     },
     "metadata": {
      "needs_background": "light"
     },
     "output_type": "display_data"
    }
   ],
   "source": [
    "cosineTable(ourSignatures,theirSignatures)"
   ]
  },
  {
   "cell_type": "code",
   "execution_count": 29,
   "metadata": {},
   "outputs": [],
   "source": [
    "def similarity(signatureOne,signatureTwo):\n",
    "    dist = np.zeros((signatureOne.shape[0],signatureTwo.shape[0]))\n",
    "    for i in range(signatureOne.shape[0]):\n",
    "        for j in range(signatureTwo.shape[0]):\n",
    "            dist[i,j] = scipy.spatial.distance.cosine(signatureOne[i],signatureTwo[j])\n",
    "    \n",
    "    row, col = scipy.optimize.linear_sum_assignment(dist)\n",
    "    score = dist[row,col].sum()/(signatureOne.shape[0])\n",
    "    return 1-score\n",
    "            "
   ]
  },
  {
   "cell_type": "code",
   "execution_count": 30,
   "metadata": {},
   "outputs": [
    {
     "ename": "ValueError",
     "evalue": "matrix contains invalid numeric entries",
     "output_type": "error",
     "traceback": [
      "\u001b[1;31m---------------------------------------------------------------------------\u001b[0m",
      "\u001b[1;31mValueError\u001b[0m                                Traceback (most recent call last)",
      "\u001b[1;32m<ipython-input-30-8050d21f8db0>\u001b[0m in \u001b[0;36m<module>\u001b[1;34m\u001b[0m\n\u001b[1;32m----> 1\u001b[1;33m \u001b[0msimilarity\u001b[0m\u001b[1;33m(\u001b[0m\u001b[0mourSignatures\u001b[0m\u001b[1;33m[\u001b[0m\u001b[1;36m0\u001b[0m\u001b[1;33m]\u001b[0m\u001b[1;33m.\u001b[0m\u001b[0mT\u001b[0m\u001b[1;33m,\u001b[0m\u001b[0mtheirSignatures\u001b[0m\u001b[1;33m)\u001b[0m\u001b[1;33m\u001b[0m\u001b[0m\n\u001b[0m",
      "\u001b[1;32m<ipython-input-29-d5aaba695167>\u001b[0m in \u001b[0;36msimilarity\u001b[1;34m(signatureOne, signatureTwo)\u001b[0m\n\u001b[0;32m      5\u001b[0m             \u001b[0mdist\u001b[0m\u001b[1;33m[\u001b[0m\u001b[0mi\u001b[0m\u001b[1;33m,\u001b[0m\u001b[0mj\u001b[0m\u001b[1;33m]\u001b[0m \u001b[1;33m=\u001b[0m \u001b[0mscipy\u001b[0m\u001b[1;33m.\u001b[0m\u001b[0mspatial\u001b[0m\u001b[1;33m.\u001b[0m\u001b[0mdistance\u001b[0m\u001b[1;33m.\u001b[0m\u001b[0mcosine\u001b[0m\u001b[1;33m(\u001b[0m\u001b[0msignatureOne\u001b[0m\u001b[1;33m[\u001b[0m\u001b[0mi\u001b[0m\u001b[1;33m]\u001b[0m\u001b[1;33m,\u001b[0m\u001b[0msignatureTwo\u001b[0m\u001b[1;33m[\u001b[0m\u001b[0mj\u001b[0m\u001b[1;33m]\u001b[0m\u001b[1;33m)\u001b[0m\u001b[1;33m\u001b[0m\u001b[0m\n\u001b[0;32m      6\u001b[0m \u001b[1;33m\u001b[0m\u001b[0m\n\u001b[1;32m----> 7\u001b[1;33m     \u001b[0mrow\u001b[0m\u001b[1;33m,\u001b[0m \u001b[0mcol\u001b[0m \u001b[1;33m=\u001b[0m \u001b[0mscipy\u001b[0m\u001b[1;33m.\u001b[0m\u001b[0moptimize\u001b[0m\u001b[1;33m.\u001b[0m\u001b[0mlinear_sum_assignment\u001b[0m\u001b[1;33m(\u001b[0m\u001b[0mdist\u001b[0m\u001b[1;33m)\u001b[0m\u001b[1;33m\u001b[0m\u001b[0m\n\u001b[0m\u001b[0;32m      8\u001b[0m     \u001b[0mscore\u001b[0m \u001b[1;33m=\u001b[0m \u001b[0mdist\u001b[0m\u001b[1;33m[\u001b[0m\u001b[0mrow\u001b[0m\u001b[1;33m,\u001b[0m\u001b[0mcol\u001b[0m\u001b[1;33m]\u001b[0m\u001b[1;33m.\u001b[0m\u001b[0msum\u001b[0m\u001b[1;33m(\u001b[0m\u001b[1;33m)\u001b[0m\u001b[1;33m/\u001b[0m\u001b[1;33m(\u001b[0m\u001b[0msignatureOne\u001b[0m\u001b[1;33m.\u001b[0m\u001b[0mshape\u001b[0m\u001b[1;33m[\u001b[0m\u001b[1;36m0\u001b[0m\u001b[1;33m]\u001b[0m\u001b[1;33m)\u001b[0m\u001b[1;33m\u001b[0m\u001b[0m\n\u001b[0;32m      9\u001b[0m     \u001b[1;32mreturn\u001b[0m \u001b[1;36m1\u001b[0m\u001b[1;33m-\u001b[0m\u001b[0mscore\u001b[0m\u001b[1;33m\u001b[0m\u001b[0m\n",
      "\u001b[1;32m~\\AppData\\Local\\Programs\\Python\\Python37-32\\lib\\site-packages\\scipy\\optimize\\_hungarian.py\u001b[0m in \u001b[0;36mlinear_sum_assignment\u001b[1;34m(cost_matrix)\u001b[0m\n\u001b[0;32m     91\u001b[0m \u001b[1;33m\u001b[0m\u001b[0m\n\u001b[0;32m     92\u001b[0m     \u001b[1;32mif\u001b[0m \u001b[0mnp\u001b[0m\u001b[1;33m.\u001b[0m\u001b[0many\u001b[0m\u001b[1;33m(\u001b[0m\u001b[0mnp\u001b[0m\u001b[1;33m.\u001b[0m\u001b[0misinf\u001b[0m\u001b[1;33m(\u001b[0m\u001b[0mcost_matrix\u001b[0m\u001b[1;33m)\u001b[0m \u001b[1;33m|\u001b[0m \u001b[0mnp\u001b[0m\u001b[1;33m.\u001b[0m\u001b[0misnan\u001b[0m\u001b[1;33m(\u001b[0m\u001b[0mcost_matrix\u001b[0m\u001b[1;33m)\u001b[0m\u001b[1;33m)\u001b[0m\u001b[1;33m:\u001b[0m\u001b[1;33m\u001b[0m\u001b[0m\n\u001b[1;32m---> 93\u001b[1;33m         \u001b[1;32mraise\u001b[0m \u001b[0mValueError\u001b[0m\u001b[1;33m(\u001b[0m\u001b[1;34m\"matrix contains invalid numeric entries\"\u001b[0m\u001b[1;33m)\u001b[0m\u001b[1;33m\u001b[0m\u001b[0m\n\u001b[0m\u001b[0;32m     94\u001b[0m \u001b[1;33m\u001b[0m\u001b[0m\n\u001b[0;32m     95\u001b[0m     \u001b[1;32mif\u001b[0m \u001b[0mcost_matrix\u001b[0m\u001b[1;33m.\u001b[0m\u001b[0mdtype\u001b[0m \u001b[1;33m==\u001b[0m \u001b[0mnp\u001b[0m\u001b[1;33m.\u001b[0m\u001b[0mdtype\u001b[0m\u001b[1;33m(\u001b[0m\u001b[0mnp\u001b[0m\u001b[1;33m.\u001b[0m\u001b[0mbool\u001b[0m\u001b[1;33m)\u001b[0m\u001b[1;33m:\u001b[0m\u001b[1;33m\u001b[0m\u001b[0m\n",
      "\u001b[1;31mValueError\u001b[0m: matrix contains invalid numeric entries"
     ]
    }
   ],
   "source": [
    "similarity(ourSignatures[0].T,theirSignatures)"
   ]
  },
  {
   "cell_type": "code",
   "execution_count": 32,
   "metadata": {},
   "outputs": [
    {
     "data": {
      "text/plain": [
       "array([[1.10983262e-02, 9.14934073e-03, 1.49007047e-03, ...,\n",
       "        1.29173698e-03, 2.03107688e-03, 4.03012816e-03],\n",
       "       [6.82708227e-04, 6.19107232e-04, 9.92789560e-05, ...,\n",
       "        1.42814560e-05, 2.06615168e-04, 2.35982040e-05],\n",
       "       [2.21723068e-02, 1.78716754e-02, 2.13833962e-03, ...,\n",
       "        6.16025042e-03, 1.10765263e-02, 1.30009842e-02],\n",
       "       ...,\n",
       "       [1.17996160e-03, 2.21150515e-03, 1.61691000e-07, ...,\n",
       "        3.77234437e-04, 5.15421599e-04, 6.15656691e-04],\n",
       "       [2.03977291e-03, 1.48716228e-03, 2.83945614e-04, ...,\n",
       "        2.71850985e-03, 1.36916117e-03, 2.56807673e-03],\n",
       "       [0.00000000e+00, 0.00000000e+00, 1.96730000e-03, ...,\n",
       "        4.32820000e-03, 8.26280000e-03, 0.00000000e+00]])"
      ]
     },
     "execution_count": 32,
     "metadata": {},
     "output_type": "execute_result"
    }
   ],
   "source": [
    "theirSignatures"
   ]
  },
  {
   "cell_type": "code",
   "execution_count": null,
   "metadata": {},
   "outputs": [],
   "source": []
  }
 ],
 "metadata": {
  "kernelspec": {
   "display_name": "Python 3",
   "language": "python",
   "name": "python3"
  },
  "language_info": {
   "codemirror_mode": {
    "name": "ipython",
    "version": 3
   },
   "file_extension": ".py",
   "mimetype": "text/x-python",
   "name": "python",
   "nbconvert_exporter": "python",
   "pygments_lexer": "ipython3",
   "version": "3.7.0"
  }
 },
 "nbformat": 4,
 "nbformat_minor": 2
}
