{
 "cells": [
  {
   "cell_type": "markdown",
   "metadata": {},
   "source": [
    "### Creating an Epsilon Nearest Neighbors Graph"
   ]
  },
  {
   "cell_type": "markdown",
   "metadata": {},
   "source": [
    "Imports"
   ]
  },
  {
   "cell_type": "markdown",
   "metadata": {},
   "source": [
    "#### Import data and basic functions"
   ]
  },
  {
   "cell_type": "code",
   "execution_count": 28,
   "metadata": {},
   "outputs": [],
   "source": [
    "import glob\n",
    "import random\n",
    "import numpy as np\n",
    "import scipy"
   ]
  },
  {
   "cell_type": "code",
   "execution_count": 21,
   "metadata": {},
   "outputs": [],
   "source": [
    "SAMPLES = 10\n",
    "CANCER_TYPES = 10 # How many of the types of cancer should we use\n",
    "normalize = False\n",
    "outliers = True\n",
    "restrictSamples = False # Remove cancer types with less than SAMPLES samples"
   ]
  },
  {
   "cell_type": "code",
   "execution_count": 30,
   "metadata": {},
   "outputs": [],
   "source": [
    "def generateColors(n):\n",
    "    \"\"\" Generates n random colors in hex \"\"\"\n",
    "    \n",
    "    colorList = []\n",
    "    possibleValues = list(range(10))+[\"A\",\"B\",\"C\",\"D\",\"E\",\"F\"]\n",
    "    \n",
    "    for i in range(n):\n",
    "        tempColor = \"#\"\n",
    "        for j in range(6):\n",
    "            tempColor+=str(possibleValues[random.randint(0,len(possibleValues)-1)])\n",
    "        colorList.append(tempColor)\n",
    "    \n",
    "    return colorList\n",
    "\n",
    "def toArray(fileName):\n",
    "    \"\"\"Converts exome data to an NP array \"\"\"\n",
    "    \n",
    "    with open(fileName) as f:\n",
    "        cancerData = f.read().split(\"\\n\")[1:-1]\n",
    "        for i in range(0,len(cancerData)):\n",
    "            cancerData[i] = cancerData[i].split(\"\\t\")[1:]\n",
    "            cancerData[i] = list(map(int,cancerData[i]))\n",
    "\n",
    "    cancerData = np.array(cancerData,dtype=np.float).T\n",
    "    return cancerData\n",
    "\n",
    "def normalizeRows(mat):\n",
    "    \"\"\" Normalized the rows of the matrix mat \"\"\"\n",
    "    \n",
    "    mat = deepcopy(mat)\n",
    "    \n",
    "    for i in range(mat.shape[0]):\n",
    "        s = sum(mat[i])\n",
    "        for j in range(mat.shape[1]):\n",
    "            num = float(mat[i][j])/float(s)\n",
    "            mat[i][j] = float(mat[i][j])\n",
    "            mat[i][j]/=float(s)\n",
    "\n",
    "            mat[i][j] = num\n",
    "\n",
    "    return mat\n"
   ]
  },
  {
   "cell_type": "code",
   "execution_count": 32,
   "metadata": {},
   "outputs": [],
   "source": [
    "#This sections inits all the cancer types \n",
    "alexandrovFiles = glob.glob(\"alexandrov_data/*.txt\")\n",
    "\n",
    "startingPositions = []\n",
    "allData = np.empty((0,0),dtype=np.float)\n",
    "\n",
    "if(CANCER_TYPES<len(alexandrovFiles)):\n",
    "    alexandrovFiles = np.random.choice(alexandrovFiles,CANCER_TYPES,replace=False)\n",
    "CANCER_TYPES = len(alexandrovFiles)\n",
    "\n",
    "cancerNames = [i.split(\"\\\\\")[-1].replace(\"_\",\"\").split(\"exome\")[0] for i in alexandrovFiles]\n",
    "\n",
    "colors = generateColors(len(cancerNames))\n",
    "unusedCancers = []\n",
    "\n",
    "#Combines the data from each of the samples\n",
    "for i,file in enumerate(alexandrovFiles):\n",
    "    cancerData = toArray(file)\n",
    "    sampleRows = cancerData.shape[0]    \n",
    "    selectedSamples = np.random.choice(sampleRows,min(sampleRows,SAMPLES),replace=False)\n",
    "\n",
    "    if(sampleRows>=SAMPLES or True):\n",
    "        if(len(startingPositions)==0):\n",
    "            startingPositions.append(0)\n",
    "\n",
    "        startingPositions.append(startingPositions[-1] + min(sampleRows,SAMPLES))\n",
    "\n",
    "\n",
    "        cancerData = cancerData[selectedSamples]\n",
    "        \n",
    "        if(allData.size == 0): \n",
    "            allData = cancerData\n",
    "        else:\n",
    "            allData = np.append(allData,cancerData,axis=0)\n",
    "    else:\n",
    "        unusedCancers.append(i)\n",
    "\n",
    "cancerNames = [i for j,i in enumerate(cancerNames) if j not in unusedCancers]\n",
    "CANCER_TYPES = len(cancerNames)\n",
    "\n",
    "\n",
    "if(normalize):\n",
    "    allData = normalizeRows(allData)\n",
    "\n",
    "np.savetxt(\"allData.csv\", allData, delimiter=\",\")"
   ]
  },
  {
   "cell_type": "markdown",
   "metadata": {},
   "source": [
    "#### Creating Nearest Neighbor graphs"
   ]
  },
  {
   "cell_type": "code",
   "execution_count": 54,
   "metadata": {},
   "outputs": [],
   "source": [
    "import scipy.spatial.distance\n",
    "from pynrnmf import NRNMF\n",
    "import warnings"
   ]
  },
  {
   "cell_type": "code",
   "execution_count": 49,
   "metadata": {},
   "outputs": [],
   "source": [
    "def createNearestNeighborEpsilon(mat,epsilon=0.3,metric=\"Cosine\"):\n",
    "    numRows = mat.shape[0]\n",
    "    graph = np.zeros((numRows,numRows))\n",
    "    dist = np.zeros((numRows,numRows))\n",
    "    for row in range(numRows):\n",
    "        for otherRow in range(numRows):\n",
    "            if(otherRow==row):\n",
    "                dist[row][otherRow] = 10000000\n",
    "            else:\n",
    "                if(metric==\"Cosine\"):\n",
    "                    dist[row][otherRow] = scipy.spatial.distance.cosine(mat[row],mat[otherRow])\n",
    "                elif(metric==\"Norm\"):\n",
    "                    dist[row][otherRow] = np.linalg.norm(mat[row]-mat[otherRow])\n",
    "        \n",
    "    for row in range(numRows):\n",
    "        for otherRow in range(numRows):\n",
    "            if(dist[row][otherRow]<=epsilon):\n",
    "                graph[row][otherRow] = 1\n",
    "                graph[otherRow][row] = 1\n",
    "            else:\n",
    "                graph[row][otherRow] = 0\n",
    "                graph[otherRow][row] = 0\n",
    "\n",
    "    return graph\n",
    "\n",
    "def createNearestNeighbor(mat,k=1,metric=\"Norm\"):\n",
    "    numRows = mat.shape[0]\n",
    "    graph = np.zeros((numRows,numRows))\n",
    "    dist = np.zeros((numRows,numRows))\n",
    "    for row in range(numRows):\n",
    "        for otherRow in range(numRows):\n",
    "            if(otherRow==row):\n",
    "                dist[row][otherRow] = 10000000\n",
    "            else:\n",
    "                if(metric==\"Cosine\"):\n",
    "                    dist[row][otherRow] = 1-scipy.spatial.distance.cosine(mat[row],mat[otherRow])#np.linalg.norm(mat[row]-mat[otherRow])\n",
    "                elif(metric==\"Norm\"):\n",
    "                    dist[row][otherRow] = np.linalg.norm(mat[row]-mat[otherRow])\n",
    "    \n",
    "    for row in range(numRows):\n",
    "        smallestNums = np.argpartition(dist[row],k)[:k]\n",
    "        for i in smallestNums:\n",
    "            graph[row][i] = 1\n",
    "            graph[i][row] = 1\n",
    "\n",
    "    return graph"
   ]
  },
  {
   "cell_type": "markdown",
   "metadata": {},
   "source": [
    "#### Comparing Factoring Methods "
   ]
  },
  {
   "cell_type": "code",
   "execution_count": 55,
   "metadata": {},
   "outputs": [],
   "source": [
    "def factorData(k=5):\n",
    "    warnings.filterwarnings(\"ignore\")\n",
    "\n",
    "    nn = np.array(createNearestNeighbor(allData,k=5,metric=\"Cosine\"))\n",
    "    model = NRNMF(k=k,W=nn,alpha=10000,init='random',n_inits=1, max_iter=50000, n_jobs=1)\n",
    "    U, V = model.fit_transform(allData.T)\n",
    "    reconstructionError = np.linalg.norm(allData.T-U.dot(V.T))\n",
    "    print(\"Reconstruction Error with graph regularization nearest neighbor\",reconstructionError)\n",
    "    \n",
    "    nn = np.array(createNearestNeighborEpsilon(allData,metric=\"Cosine\"))\n",
    "    model = NRNMF(k=k,W=nn,alpha=10000,init='random',n_inits=1, max_iter=50000, n_jobs=1)\n",
    "    U, V = model.fit_transform(allData.T)\n",
    "    reconstructionError = np.linalg.norm(allData.T-U.dot(V.T))\n",
    "    print(\"Reconstruction Error with graph regularization nearest neighbor epsilon\",reconstructionError)\n",
    "    \n",
    "    # Relies on the Frobenius Norm\n",
    "    model = NRNMF(k=k,W=nn,alpha=0,init='random',n_inits=1, max_iter=50000, n_jobs=1)\n",
    "    U, V = model.fit_transform(allData.T)\n",
    "    reconstructionError = np.linalg.norm(allData.T-U.dot(V.T))\n",
    "    print(\"Reconstruction Error without graph regularization\",reconstructionError)"
   ]
  },
  {
   "cell_type": "code",
   "execution_count": 130,
   "metadata": {},
   "outputs": [
    {
     "name": "stdout",
     "output_type": "stream",
     "text": [
      "Reconstruction Error with graph regularization nearest neighbor 160.07586384117783\n",
      "[[0. 0. 0. ... 0. 0. 0.]\n",
      " [0. 0. 0. ... 0. 0. 0.]\n",
      " [0. 0. 0. ... 0. 0. 0.]\n",
      " ...\n",
      " [0. 0. 0. ... 0. 0. 1.]\n",
      " [0. 0. 0. ... 0. 0. 0.]\n",
      " [0. 0. 0. ... 1. 0. 0.]]\n"
     ]
    },
    {
     "ename": "ValueError",
     "evalue": "array must not contain infs or NaNs",
     "output_type": "error",
     "traceback": [
      "\u001b[1;31m---------------------------------------------------------------------------\u001b[0m",
      "\u001b[1;31mValueError\u001b[0m                                Traceback (most recent call last)",
      "\u001b[1;32m<ipython-input-130-ae1868de8212>\u001b[0m in \u001b[0;36m<module>\u001b[1;34m\u001b[0m\n\u001b[1;32m----> 1\u001b[1;33m \u001b[0mfactorData\u001b[0m\u001b[1;33m(\u001b[0m\u001b[1;33m)\u001b[0m\u001b[1;33m\u001b[0m\u001b[0m\n\u001b[0m",
      "\u001b[1;32m<ipython-input-55-497e437fb4c6>\u001b[0m in \u001b[0;36mfactorData\u001b[1;34m(k)\u001b[0m\n\u001b[0;32m     11\u001b[0m     \u001b[0mprint\u001b[0m\u001b[1;33m(\u001b[0m\u001b[0mnn\u001b[0m\u001b[1;33m)\u001b[0m\u001b[1;33m\u001b[0m\u001b[0m\n\u001b[0;32m     12\u001b[0m     \u001b[0mmodel\u001b[0m \u001b[1;33m=\u001b[0m \u001b[0mNRNMF\u001b[0m\u001b[1;33m(\u001b[0m\u001b[0mk\u001b[0m\u001b[1;33m=\u001b[0m\u001b[0mk\u001b[0m\u001b[1;33m,\u001b[0m\u001b[0mW\u001b[0m\u001b[1;33m=\u001b[0m\u001b[0mnn\u001b[0m\u001b[1;33m,\u001b[0m\u001b[0malpha\u001b[0m\u001b[1;33m=\u001b[0m\u001b[1;36m10000\u001b[0m\u001b[1;33m,\u001b[0m\u001b[0minit\u001b[0m\u001b[1;33m=\u001b[0m\u001b[1;34m'random'\u001b[0m\u001b[1;33m,\u001b[0m\u001b[0mn_inits\u001b[0m\u001b[1;33m=\u001b[0m\u001b[1;36m1\u001b[0m\u001b[1;33m,\u001b[0m \u001b[0mmax_iter\u001b[0m\u001b[1;33m=\u001b[0m\u001b[1;36m50000\u001b[0m\u001b[1;33m,\u001b[0m \u001b[0mn_jobs\u001b[0m\u001b[1;33m=\u001b[0m\u001b[1;36m1\u001b[0m\u001b[1;33m)\u001b[0m\u001b[1;33m\u001b[0m\u001b[0m\n\u001b[1;32m---> 13\u001b[1;33m     \u001b[0mU\u001b[0m\u001b[1;33m,\u001b[0m \u001b[0mV\u001b[0m \u001b[1;33m=\u001b[0m \u001b[0mmodel\u001b[0m\u001b[1;33m.\u001b[0m\u001b[0mfit_transform\u001b[0m\u001b[1;33m(\u001b[0m\u001b[0mallData\u001b[0m\u001b[1;33m.\u001b[0m\u001b[0mT\u001b[0m\u001b[1;33m)\u001b[0m\u001b[1;33m\u001b[0m\u001b[0m\n\u001b[0m\u001b[0;32m     14\u001b[0m     \u001b[0mreconstructionError\u001b[0m \u001b[1;33m=\u001b[0m \u001b[0mnp\u001b[0m\u001b[1;33m.\u001b[0m\u001b[0mlinalg\u001b[0m\u001b[1;33m.\u001b[0m\u001b[0mnorm\u001b[0m\u001b[1;33m(\u001b[0m\u001b[0mallData\u001b[0m\u001b[1;33m.\u001b[0m\u001b[0mT\u001b[0m\u001b[1;33m-\u001b[0m\u001b[0mU\u001b[0m\u001b[1;33m.\u001b[0m\u001b[0mdot\u001b[0m\u001b[1;33m(\u001b[0m\u001b[0mV\u001b[0m\u001b[1;33m.\u001b[0m\u001b[0mT\u001b[0m\u001b[1;33m)\u001b[0m\u001b[1;33m)\u001b[0m\u001b[1;33m\u001b[0m\u001b[0m\n\u001b[0;32m     15\u001b[0m     \u001b[0mprint\u001b[0m\u001b[1;33m(\u001b[0m\u001b[1;34m\"Reconstruction Error with graph regularization nearest neighbor epsilon\"\u001b[0m\u001b[1;33m,\u001b[0m\u001b[0mreconstructionError\u001b[0m\u001b[1;33m)\u001b[0m\u001b[1;33m\u001b[0m\u001b[0m\n",
      "\u001b[1;32m~\\AppData\\Local\\Programs\\Python\\Python37-32\\lib\\site-packages\\pynrnmf-0.1-py3.7.egg\\pynrnmf\\__init__.py\u001b[0m in \u001b[0;36mfit_transform\u001b[1;34m(self, X)\u001b[0m\n\u001b[0;32m    100\u001b[0m             \u001b[0mself\u001b[0m\u001b[1;33m.\u001b[0m\u001b[0mL\u001b[0m \u001b[1;33m=\u001b[0m \u001b[0mself\u001b[0m\u001b[1;33m.\u001b[0m\u001b[0mD\u001b[0m \u001b[1;33m-\u001b[0m \u001b[0mself\u001b[0m\u001b[1;33m.\u001b[0m\u001b[0mW\u001b[0m\u001b[1;33m\u001b[0m\u001b[0m\n\u001b[0;32m    101\u001b[0m \u001b[1;33m\u001b[0m\u001b[0m\n\u001b[1;32m--> 102\u001b[1;33m         \u001b[0mresults\u001b[0m \u001b[1;33m=\u001b[0m \u001b[0mParallel\u001b[0m\u001b[1;33m(\u001b[0m\u001b[0mn_jobs\u001b[0m\u001b[1;33m=\u001b[0m\u001b[0mself\u001b[0m\u001b[1;33m.\u001b[0m\u001b[0mn_jobs\u001b[0m\u001b[1;33m,\u001b[0m \u001b[0mbackend\u001b[0m\u001b[1;33m=\u001b[0m\u001b[0mself\u001b[0m\u001b[1;33m.\u001b[0m\u001b[0mparallel_backend\u001b[0m\u001b[1;33m)\u001b[0m\u001b[1;33m(\u001b[0m\u001b[0mdelayed\u001b[0m\u001b[1;33m(\u001b[0m\u001b[0mself\u001b[0m\u001b[1;33m.\u001b[0m\u001b[0m_fit\u001b[0m\u001b[1;33m)\u001b[0m\u001b[1;33m(\u001b[0m\u001b[0mX\u001b[0m\u001b[1;33m)\u001b[0m \u001b[1;32mfor\u001b[0m \u001b[0mx\u001b[0m \u001b[1;32min\u001b[0m \u001b[0mrange\u001b[0m\u001b[1;33m(\u001b[0m\u001b[0mself\u001b[0m\u001b[1;33m.\u001b[0m\u001b[0mn_inits\u001b[0m\u001b[1;33m)\u001b[0m\u001b[1;33m)\u001b[0m\u001b[1;33m\u001b[0m\u001b[0m\n\u001b[0m\u001b[0;32m    103\u001b[0m         \u001b[0mbest_results\u001b[0m \u001b[1;33m=\u001b[0m \u001b[1;33m{\u001b[0m\u001b[1;34m\"e\"\u001b[0m\u001b[1;33m:\u001b[0m \u001b[0mnp\u001b[0m\u001b[1;33m.\u001b[0m\u001b[0minf\u001b[0m\u001b[1;33m,\u001b[0m \u001b[1;34m\"U\"\u001b[0m\u001b[1;33m:\u001b[0m \u001b[1;32mNone\u001b[0m\u001b[1;33m,\u001b[0m \u001b[1;34m\"V\"\u001b[0m\u001b[1;33m:\u001b[0m \u001b[1;32mNone\u001b[0m\u001b[1;33m}\u001b[0m\u001b[1;33m\u001b[0m\u001b[0m\n\u001b[0;32m    104\u001b[0m         \u001b[1;32mfor\u001b[0m \u001b[0mr\u001b[0m \u001b[1;32min\u001b[0m \u001b[0mresults\u001b[0m\u001b[1;33m:\u001b[0m\u001b[1;33m\u001b[0m\u001b[0m\n",
      "\u001b[1;32m~\\AppData\\Local\\Programs\\Python\\Python37-32\\lib\\site-packages\\joblib-0.12.5-py3.7.egg\\joblib\\parallel.py\u001b[0m in \u001b[0;36m__call__\u001b[1;34m(self, iterable)\u001b[0m\n\u001b[0;32m    981\u001b[0m             \u001b[1;31m# remaining jobs.\u001b[0m\u001b[1;33m\u001b[0m\u001b[1;33m\u001b[0m\u001b[0m\n\u001b[0;32m    982\u001b[0m             \u001b[0mself\u001b[0m\u001b[1;33m.\u001b[0m\u001b[0m_iterating\u001b[0m \u001b[1;33m=\u001b[0m \u001b[1;32mFalse\u001b[0m\u001b[1;33m\u001b[0m\u001b[0m\n\u001b[1;32m--> 983\u001b[1;33m             \u001b[1;32mif\u001b[0m \u001b[0mself\u001b[0m\u001b[1;33m.\u001b[0m\u001b[0mdispatch_one_batch\u001b[0m\u001b[1;33m(\u001b[0m\u001b[0miterator\u001b[0m\u001b[1;33m)\u001b[0m\u001b[1;33m:\u001b[0m\u001b[1;33m\u001b[0m\u001b[0m\n\u001b[0m\u001b[0;32m    984\u001b[0m                 \u001b[0mself\u001b[0m\u001b[1;33m.\u001b[0m\u001b[0m_iterating\u001b[0m \u001b[1;33m=\u001b[0m \u001b[0mself\u001b[0m\u001b[1;33m.\u001b[0m\u001b[0m_original_iterator\u001b[0m \u001b[1;32mis\u001b[0m \u001b[1;32mnot\u001b[0m \u001b[1;32mNone\u001b[0m\u001b[1;33m\u001b[0m\u001b[0m\n\u001b[0;32m    985\u001b[0m \u001b[1;33m\u001b[0m\u001b[0m\n",
      "\u001b[1;32m~\\AppData\\Local\\Programs\\Python\\Python37-32\\lib\\site-packages\\joblib-0.12.5-py3.7.egg\\joblib\\parallel.py\u001b[0m in \u001b[0;36mdispatch_one_batch\u001b[1;34m(self, iterator)\u001b[0m\n\u001b[0;32m    823\u001b[0m                 \u001b[1;32mreturn\u001b[0m \u001b[1;32mFalse\u001b[0m\u001b[1;33m\u001b[0m\u001b[0m\n\u001b[0;32m    824\u001b[0m             \u001b[1;32melse\u001b[0m\u001b[1;33m:\u001b[0m\u001b[1;33m\u001b[0m\u001b[0m\n\u001b[1;32m--> 825\u001b[1;33m                 \u001b[0mself\u001b[0m\u001b[1;33m.\u001b[0m\u001b[0m_dispatch\u001b[0m\u001b[1;33m(\u001b[0m\u001b[0mtasks\u001b[0m\u001b[1;33m)\u001b[0m\u001b[1;33m\u001b[0m\u001b[0m\n\u001b[0m\u001b[0;32m    826\u001b[0m                 \u001b[1;32mreturn\u001b[0m \u001b[1;32mTrue\u001b[0m\u001b[1;33m\u001b[0m\u001b[0m\n\u001b[0;32m    827\u001b[0m \u001b[1;33m\u001b[0m\u001b[0m\n",
      "\u001b[1;32m~\\AppData\\Local\\Programs\\Python\\Python37-32\\lib\\site-packages\\joblib-0.12.5-py3.7.egg\\joblib\\parallel.py\u001b[0m in \u001b[0;36m_dispatch\u001b[1;34m(self, batch)\u001b[0m\n\u001b[0;32m    780\u001b[0m         \u001b[1;32mwith\u001b[0m \u001b[0mself\u001b[0m\u001b[1;33m.\u001b[0m\u001b[0m_lock\u001b[0m\u001b[1;33m:\u001b[0m\u001b[1;33m\u001b[0m\u001b[0m\n\u001b[0;32m    781\u001b[0m             \u001b[0mjob_idx\u001b[0m \u001b[1;33m=\u001b[0m \u001b[0mlen\u001b[0m\u001b[1;33m(\u001b[0m\u001b[0mself\u001b[0m\u001b[1;33m.\u001b[0m\u001b[0m_jobs\u001b[0m\u001b[1;33m)\u001b[0m\u001b[1;33m\u001b[0m\u001b[0m\n\u001b[1;32m--> 782\u001b[1;33m             \u001b[0mjob\u001b[0m \u001b[1;33m=\u001b[0m \u001b[0mself\u001b[0m\u001b[1;33m.\u001b[0m\u001b[0m_backend\u001b[0m\u001b[1;33m.\u001b[0m\u001b[0mapply_async\u001b[0m\u001b[1;33m(\u001b[0m\u001b[0mbatch\u001b[0m\u001b[1;33m,\u001b[0m \u001b[0mcallback\u001b[0m\u001b[1;33m=\u001b[0m\u001b[0mcb\u001b[0m\u001b[1;33m)\u001b[0m\u001b[1;33m\u001b[0m\u001b[0m\n\u001b[0m\u001b[0;32m    783\u001b[0m             \u001b[1;31m# A job can complete so quickly than its callback is\u001b[0m\u001b[1;33m\u001b[0m\u001b[1;33m\u001b[0m\u001b[0m\n\u001b[0;32m    784\u001b[0m             \u001b[1;31m# called before we get here, causing self._jobs to\u001b[0m\u001b[1;33m\u001b[0m\u001b[1;33m\u001b[0m\u001b[0m\n",
      "\u001b[1;32m~\\AppData\\Local\\Programs\\Python\\Python37-32\\lib\\site-packages\\joblib-0.12.5-py3.7.egg\\joblib\\_parallel_backends.py\u001b[0m in \u001b[0;36mapply_async\u001b[1;34m(self, func, callback)\u001b[0m\n\u001b[0;32m    180\u001b[0m     \u001b[1;32mdef\u001b[0m \u001b[0mapply_async\u001b[0m\u001b[1;33m(\u001b[0m\u001b[0mself\u001b[0m\u001b[1;33m,\u001b[0m \u001b[0mfunc\u001b[0m\u001b[1;33m,\u001b[0m \u001b[0mcallback\u001b[0m\u001b[1;33m=\u001b[0m\u001b[1;32mNone\u001b[0m\u001b[1;33m)\u001b[0m\u001b[1;33m:\u001b[0m\u001b[1;33m\u001b[0m\u001b[0m\n\u001b[0;32m    181\u001b[0m         \u001b[1;34m\"\"\"Schedule a func to be run\"\"\"\u001b[0m\u001b[1;33m\u001b[0m\u001b[0m\n\u001b[1;32m--> 182\u001b[1;33m         \u001b[0mresult\u001b[0m \u001b[1;33m=\u001b[0m \u001b[0mImmediateResult\u001b[0m\u001b[1;33m(\u001b[0m\u001b[0mfunc\u001b[0m\u001b[1;33m)\u001b[0m\u001b[1;33m\u001b[0m\u001b[0m\n\u001b[0m\u001b[0;32m    183\u001b[0m         \u001b[1;32mif\u001b[0m \u001b[0mcallback\u001b[0m\u001b[1;33m:\u001b[0m\u001b[1;33m\u001b[0m\u001b[0m\n\u001b[0;32m    184\u001b[0m             \u001b[0mcallback\u001b[0m\u001b[1;33m(\u001b[0m\u001b[0mresult\u001b[0m\u001b[1;33m)\u001b[0m\u001b[1;33m\u001b[0m\u001b[0m\n",
      "\u001b[1;32m~\\AppData\\Local\\Programs\\Python\\Python37-32\\lib\\site-packages\\joblib-0.12.5-py3.7.egg\\joblib\\_parallel_backends.py\u001b[0m in \u001b[0;36m__init__\u001b[1;34m(self, batch)\u001b[0m\n\u001b[0;32m    543\u001b[0m         \u001b[1;31m# Don't delay the application, to avoid keeping the input\u001b[0m\u001b[1;33m\u001b[0m\u001b[1;33m\u001b[0m\u001b[0m\n\u001b[0;32m    544\u001b[0m         \u001b[1;31m# arguments in memory\u001b[0m\u001b[1;33m\u001b[0m\u001b[1;33m\u001b[0m\u001b[0m\n\u001b[1;32m--> 545\u001b[1;33m         \u001b[0mself\u001b[0m\u001b[1;33m.\u001b[0m\u001b[0mresults\u001b[0m \u001b[1;33m=\u001b[0m \u001b[0mbatch\u001b[0m\u001b[1;33m(\u001b[0m\u001b[1;33m)\u001b[0m\u001b[1;33m\u001b[0m\u001b[0m\n\u001b[0m\u001b[0;32m    546\u001b[0m \u001b[1;33m\u001b[0m\u001b[0m\n\u001b[0;32m    547\u001b[0m     \u001b[1;32mdef\u001b[0m \u001b[0mget\u001b[0m\u001b[1;33m(\u001b[0m\u001b[0mself\u001b[0m\u001b[1;33m)\u001b[0m\u001b[1;33m:\u001b[0m\u001b[1;33m\u001b[0m\u001b[0m\n",
      "\u001b[1;32m~\\AppData\\Local\\Programs\\Python\\Python37-32\\lib\\site-packages\\joblib-0.12.5-py3.7.egg\\joblib\\parallel.py\u001b[0m in \u001b[0;36m__call__\u001b[1;34m(self)\u001b[0m\n\u001b[0;32m    259\u001b[0m         \u001b[1;32mwith\u001b[0m \u001b[0mparallel_backend\u001b[0m\u001b[1;33m(\u001b[0m\u001b[0mself\u001b[0m\u001b[1;33m.\u001b[0m\u001b[0m_backend\u001b[0m\u001b[1;33m)\u001b[0m\u001b[1;33m:\u001b[0m\u001b[1;33m\u001b[0m\u001b[0m\n\u001b[0;32m    260\u001b[0m             return [func(*args, **kwargs)\n\u001b[1;32m--> 261\u001b[1;33m                     for func, args, kwargs in self.items]\n\u001b[0m\u001b[0;32m    262\u001b[0m \u001b[1;33m\u001b[0m\u001b[0m\n\u001b[0;32m    263\u001b[0m     \u001b[1;32mdef\u001b[0m \u001b[0m__len__\u001b[0m\u001b[1;33m(\u001b[0m\u001b[0mself\u001b[0m\u001b[1;33m)\u001b[0m\u001b[1;33m:\u001b[0m\u001b[1;33m\u001b[0m\u001b[0m\n",
      "\u001b[1;32m~\\AppData\\Local\\Programs\\Python\\Python37-32\\lib\\site-packages\\joblib-0.12.5-py3.7.egg\\joblib\\parallel.py\u001b[0m in \u001b[0;36m<listcomp>\u001b[1;34m(.0)\u001b[0m\n\u001b[0;32m    259\u001b[0m         \u001b[1;32mwith\u001b[0m \u001b[0mparallel_backend\u001b[0m\u001b[1;33m(\u001b[0m\u001b[0mself\u001b[0m\u001b[1;33m.\u001b[0m\u001b[0m_backend\u001b[0m\u001b[1;33m)\u001b[0m\u001b[1;33m:\u001b[0m\u001b[1;33m\u001b[0m\u001b[0m\n\u001b[0;32m    260\u001b[0m             return [func(*args, **kwargs)\n\u001b[1;32m--> 261\u001b[1;33m                     for func, args, kwargs in self.items]\n\u001b[0m\u001b[0;32m    262\u001b[0m \u001b[1;33m\u001b[0m\u001b[0m\n\u001b[0;32m    263\u001b[0m     \u001b[1;32mdef\u001b[0m \u001b[0m__len__\u001b[0m\u001b[1;33m(\u001b[0m\u001b[0mself\u001b[0m\u001b[1;33m)\u001b[0m\u001b[1;33m:\u001b[0m\u001b[1;33m\u001b[0m\u001b[0m\n",
      "\u001b[1;32m~\\AppData\\Local\\Programs\\Python\\Python37-32\\lib\\site-packages\\pynrnmf-0.1-py3.7.egg\\pynrnmf\\__init__.py\u001b[0m in \u001b[0;36m_fit\u001b[1;34m(self, X)\u001b[0m\n\u001b[0;32m     77\u001b[0m         \u001b[1;32mfor\u001b[0m \u001b[0mx\u001b[0m \u001b[1;32min\u001b[0m \u001b[0mrange\u001b[0m\u001b[1;33m(\u001b[0m\u001b[0mself\u001b[0m\u001b[1;33m.\u001b[0m\u001b[0mmax_iter\u001b[0m\u001b[1;33m)\u001b[0m\u001b[1;33m:\u001b[0m\u001b[1;33m\u001b[0m\u001b[0m\n\u001b[0;32m     78\u001b[0m             \u001b[0mUn\u001b[0m\u001b[1;33m,\u001b[0m \u001b[0mVn\u001b[0m \u001b[1;33m=\u001b[0m \u001b[0mself\u001b[0m\u001b[1;33m.\u001b[0m\u001b[0m_update\u001b[0m\u001b[1;33m(\u001b[0m\u001b[0mU\u001b[0m\u001b[1;33m,\u001b[0m \u001b[0mV\u001b[0m\u001b[1;33m,\u001b[0m \u001b[0mX\u001b[0m\u001b[1;33m,\u001b[0m \u001b[0mself\u001b[0m\u001b[1;33m.\u001b[0m\u001b[0malpha\u001b[0m\u001b[1;33m)\u001b[0m\u001b[1;33m\u001b[0m\u001b[0m\n\u001b[1;32m---> 79\u001b[1;33m             \u001b[0me\u001b[0m \u001b[1;33m=\u001b[0m \u001b[0mlinalg\u001b[0m\u001b[1;33m.\u001b[0m\u001b[0mnorm\u001b[0m\u001b[1;33m(\u001b[0m\u001b[0mU\u001b[0m\u001b[1;33m-\u001b[0m\u001b[0mUn\u001b[0m\u001b[1;33m)\u001b[0m\u001b[1;33m\u001b[0m\u001b[0m\n\u001b[0m\u001b[0;32m     80\u001b[0m             \u001b[0mU\u001b[0m\u001b[1;33m,\u001b[0m \u001b[0mV\u001b[0m \u001b[1;33m=\u001b[0m \u001b[0mUn\u001b[0m\u001b[1;33m,\u001b[0m \u001b[0mVn\u001b[0m\u001b[1;33m\u001b[0m\u001b[0m\n\u001b[0;32m     81\u001b[0m             \u001b[1;32mif\u001b[0m \u001b[0me\u001b[0m \u001b[1;33m<\u001b[0m \u001b[0mself\u001b[0m\u001b[1;33m.\u001b[0m\u001b[0mtol\u001b[0m\u001b[1;33m:\u001b[0m\u001b[1;33m\u001b[0m\u001b[0m\n",
      "\u001b[1;32m~\\AppData\\Local\\Programs\\Python\\Python37-32\\lib\\site-packages\\scipy\\linalg\\misc.py\u001b[0m in \u001b[0;36mnorm\u001b[1;34m(a, ord, axis, keepdims)\u001b[0m\n\u001b[0;32m    135\u001b[0m     \"\"\"\n\u001b[0;32m    136\u001b[0m     \u001b[1;31m# Differs from numpy only in non-finite handling and the use of blas.\u001b[0m\u001b[1;33m\u001b[0m\u001b[1;33m\u001b[0m\u001b[0m\n\u001b[1;32m--> 137\u001b[1;33m     \u001b[0ma\u001b[0m \u001b[1;33m=\u001b[0m \u001b[0mnp\u001b[0m\u001b[1;33m.\u001b[0m\u001b[0masarray_chkfinite\u001b[0m\u001b[1;33m(\u001b[0m\u001b[0ma\u001b[0m\u001b[1;33m)\u001b[0m\u001b[1;33m\u001b[0m\u001b[0m\n\u001b[0m\u001b[0;32m    138\u001b[0m \u001b[1;33m\u001b[0m\u001b[0m\n\u001b[0;32m    139\u001b[0m     \u001b[1;31m# Only use optimized norms if axis and keepdims are not specified.\u001b[0m\u001b[1;33m\u001b[0m\u001b[1;33m\u001b[0m\u001b[0m\n",
      "\u001b[1;32m~\\AppData\\Local\\Programs\\Python\\Python37-32\\lib\\site-packages\\numpy\\lib\\function_base.py\u001b[0m in \u001b[0;36masarray_chkfinite\u001b[1;34m(a, dtype, order)\u001b[0m\n\u001b[0;32m    459\u001b[0m     \u001b[1;32mif\u001b[0m \u001b[0ma\u001b[0m\u001b[1;33m.\u001b[0m\u001b[0mdtype\u001b[0m\u001b[1;33m.\u001b[0m\u001b[0mchar\u001b[0m \u001b[1;32min\u001b[0m \u001b[0mtypecodes\u001b[0m\u001b[1;33m[\u001b[0m\u001b[1;34m'AllFloat'\u001b[0m\u001b[1;33m]\u001b[0m \u001b[1;32mand\u001b[0m \u001b[1;32mnot\u001b[0m \u001b[0mnp\u001b[0m\u001b[1;33m.\u001b[0m\u001b[0misfinite\u001b[0m\u001b[1;33m(\u001b[0m\u001b[0ma\u001b[0m\u001b[1;33m)\u001b[0m\u001b[1;33m.\u001b[0m\u001b[0mall\u001b[0m\u001b[1;33m(\u001b[0m\u001b[1;33m)\u001b[0m\u001b[1;33m:\u001b[0m\u001b[1;33m\u001b[0m\u001b[0m\n\u001b[0;32m    460\u001b[0m         raise ValueError(\n\u001b[1;32m--> 461\u001b[1;33m             \"array must not contain infs or NaNs\")\n\u001b[0m\u001b[0;32m    462\u001b[0m     \u001b[1;32mreturn\u001b[0m \u001b[0ma\u001b[0m\u001b[1;33m\u001b[0m\u001b[0m\n\u001b[0;32m    463\u001b[0m \u001b[1;33m\u001b[0m\u001b[0m\n",
      "\u001b[1;31mValueError\u001b[0m: array must not contain infs or NaNs"
     ]
    }
   ],
   "source": [
    "factorData()"
   ]
  },
  {
   "cell_type": "markdown",
   "metadata": {},
   "source": [
    "#### Creating Communities"
   ]
  },
  {
   "cell_type": "code",
   "execution_count": 65,
   "metadata": {},
   "outputs": [],
   "source": [
    "import networkx as nx\n",
    "from networkx.algorithms.community import greedy_modularity_communities"
   ]
  },
  {
   "cell_type": "code",
   "execution_count": 70,
   "metadata": {},
   "outputs": [],
   "source": [
    "def communityDetection():\n",
    "    \"\"\" Runs the Classet-Newmann community detection algorithm \"\"\"\n",
    "    nn = createNearestNeighbor(allData,k=5,metric=\"Cosine\")\n",
    "    \n",
    "    g = nx.Graph()\n",
    "    for cancer in range(len(cancerNames)):\n",
    "        for nodeNumber in range(startingPositions[cancer],startingPositions[cancer+1]):\n",
    "            g.add_node(nodeNumber)\n",
    "\n",
    "    for i in range(nn.shape[0]):\n",
    "        for j in range(nn.shape[1]):\n",
    "            if(nn[i][j]):\n",
    "                g.add_edge(i,j)\n",
    "\n",
    "    #Amount of each cancer type in each community\n",
    "    communities = greedy_modularity_communities(g)\n",
    "    cancerTypes = []    \n",
    "    \n",
    "    for j,community in enumerate(communities):\n",
    "        tempCancers = {}\n",
    "        for i in range(1,len(startingPositions)):\n",
    "            #Num inbetween\n",
    "            cancersInbetween = len([x for x in community if startingPositions[i-1]<=x<startingPositions[i]])\n",
    "            tempCancers[cancerNames[i-1]] = cancersInbetween\n",
    "                    \n",
    "        cancerTypes.append(tempCancers)\n",
    "\n",
    "    return cancerTypes"
   ]
  },
  {
   "cell_type": "code",
   "execution_count": 71,
   "metadata": {},
   "outputs": [
    {
     "name": "stdout",
     "output_type": "stream",
     "text": [
      "4\n"
     ]
    },
    {
     "data": {
      "text/plain": [
       "[{'prostate': 3,\n",
       "  'esophageal': 8,\n",
       "  'myeloma': 5,\n",
       "  'pancreas': 4,\n",
       "  'stomach': 4,\n",
       "  'ovary': 2,\n",
       "  'neuroblastoma': 2,\n",
       "  'bladder': 0,\n",
       "  'breast': 4,\n",
       "  'glioblastoma': 4},\n",
       " {'prostate': 3,\n",
       "  'esophageal': 1,\n",
       "  'myeloma': 2,\n",
       "  'pancreas': 5,\n",
       "  'stomach': 2,\n",
       "  'ovary': 3,\n",
       "  'neuroblastoma': 6,\n",
       "  'bladder': 3,\n",
       "  'breast': 3,\n",
       "  'glioblastoma': 2},\n",
       " {'prostate': 1,\n",
       "  'esophageal': 0,\n",
       "  'myeloma': 2,\n",
       "  'pancreas': 0,\n",
       "  'stomach': 0,\n",
       "  'ovary': 5,\n",
       "  'neuroblastoma': 1,\n",
       "  'bladder': 4,\n",
       "  'breast': 2,\n",
       "  'glioblastoma': 4},\n",
       " {'prostate': 3,\n",
       "  'esophageal': 1,\n",
       "  'myeloma': 1,\n",
       "  'pancreas': 1,\n",
       "  'stomach': 4,\n",
       "  'ovary': 0,\n",
       "  'neuroblastoma': 1,\n",
       "  'bladder': 3,\n",
       "  'breast': 1,\n",
       "  'glioblastoma': 0}]"
      ]
     },
     "execution_count": 71,
     "metadata": {},
     "output_type": "execute_result"
    }
   ],
   "source": [
    "communityDetection()"
   ]
  },
  {
   "cell_type": "markdown",
   "metadata": {},
   "source": [
    "#### Running K Means"
   ]
  },
  {
   "cell_type": "code",
   "execution_count": 75,
   "metadata": {},
   "outputs": [],
   "source": [
    "from scipy.cluster.vq import kmeans2"
   ]
  },
  {
   "cell_type": "code",
   "execution_count": 81,
   "metadata": {},
   "outputs": [],
   "source": [
    "def runKmeans():\n",
    "    a = kmeans2(allData,CANCER_TYPES)\n",
    "    clusterList = a[1]\n",
    "    clusters = [{} for i in range(CANCER_TYPES)]\n",
    "    \n",
    "    for i in range(len(clusters)):\n",
    "        for j in cancerNames:\n",
    "            clusters[i][j] = 0\n",
    "    \n",
    "    for i in range(len(clusterList)):\n",
    "        #Find out which type of cancer this is\n",
    "        cancerType = \"\"\n",
    "        for j in range(0,len(startingPositions)-1):\n",
    "            if(startingPositions[j]<=i<startingPositions[j+1]):\n",
    "                cancerType = cancerNames[j]\n",
    "                break\n",
    "        \n",
    "        clusters[clusterList[i]][cancerType]+=1\n",
    "\n",
    "    #Get rid of empty clusters\n",
    "    clusters = [i for i in clusters if sum(i.values())!=0]\n",
    "        \n",
    "    return clusters"
   ]
  },
  {
   "cell_type": "code",
   "execution_count": 82,
   "metadata": {},
   "outputs": [
    {
     "data": {
      "text/plain": [
       "[{'prostate': 0,\n",
       "  'esophageal': 0,\n",
       "  'myeloma': 0,\n",
       "  'pancreas': 0,\n",
       "  'stomach': 1,\n",
       "  'ovary': 0,\n",
       "  'neuroblastoma': 0,\n",
       "  'bladder': 0,\n",
       "  'breast': 0,\n",
       "  'glioblastoma': 0},\n",
       " {'prostate': 10,\n",
       "  'esophageal': 8,\n",
       "  'myeloma': 10,\n",
       "  'pancreas': 10,\n",
       "  'stomach': 7,\n",
       "  'ovary': 10,\n",
       "  'neuroblastoma': 10,\n",
       "  'bladder': 5,\n",
       "  'breast': 10,\n",
       "  'glioblastoma': 10},\n",
       " {'prostate': 0,\n",
       "  'esophageal': 0,\n",
       "  'myeloma': 0,\n",
       "  'pancreas': 0,\n",
       "  'stomach': 0,\n",
       "  'ovary': 0,\n",
       "  'neuroblastoma': 0,\n",
       "  'bladder': 5,\n",
       "  'breast': 0,\n",
       "  'glioblastoma': 0},\n",
       " {'prostate': 0,\n",
       "  'esophageal': 0,\n",
       "  'myeloma': 0,\n",
       "  'pancreas': 0,\n",
       "  'stomach': 1,\n",
       "  'ovary': 0,\n",
       "  'neuroblastoma': 0,\n",
       "  'bladder': 0,\n",
       "  'breast': 0,\n",
       "  'glioblastoma': 0},\n",
       " {'prostate': 0,\n",
       "  'esophageal': 2,\n",
       "  'myeloma': 0,\n",
       "  'pancreas': 0,\n",
       "  'stomach': 1,\n",
       "  'ovary': 0,\n",
       "  'neuroblastoma': 0,\n",
       "  'bladder': 0,\n",
       "  'breast': 0,\n",
       "  'glioblastoma': 0}]"
      ]
     },
     "execution_count": 82,
     "metadata": {},
     "output_type": "execute_result"
    }
   ],
   "source": [
    "runKmeans()"
   ]
  },
  {
   "cell_type": "markdown",
   "metadata": {},
   "source": [
    "#### Presenting the data from the clusters"
   ]
  },
  {
   "cell_type": "code",
   "execution_count": 90,
   "metadata": {},
   "outputs": [],
   "source": [
    "import operator"
   ]
  },
  {
   "cell_type": "code",
   "execution_count": 91,
   "metadata": {},
   "outputs": [],
   "source": [
    "def presentCSV(clusters):\n",
    "    csvData = np.zeros(len(clusters),CANCER_TYPES)\n",
    "    for i in range(len(clusters)):\n",
    "        for j,cancerName in enumerate(cancerNames):\n",
    "            csvData[i,j] = clusters[i][cancerName]\n",
    "    \n",
    "    csvData = csvData.T\n",
    "    \n",
    "    w = open(\"communityCSV.csv\",\"w\")\n",
    "    for i in range(csvData.shape[0]):\n",
    "        tempLine = cancerNames[i]+\",\"\n",
    "        tempLine+=\",\".join(list(map(str,csvData[i])))\n",
    "        tempLine+=\"\\n\"\n",
    "        w.write(tempLine)\n",
    "\n",
    "    w.close()"
   ]
  },
  {
   "cell_type": "code",
   "execution_count": 98,
   "metadata": {},
   "outputs": [],
   "source": [
    "def printClusters(clusters):\n",
    "    for i,community in enumerate(clusters):\n",
    "        sortedCommunity = sorted(community.items(), key=operator.itemgetter(1),reverse=True)  \n",
    "        print(\"Community #\",(i+1))\n",
    "        for j in sortedCommunity:\n",
    "            if(j[1]!=0):\n",
    "                print(j[0],\":\",j[1])\n",
    "        print()"
   ]
  },
  {
   "cell_type": "code",
   "execution_count": 99,
   "metadata": {},
   "outputs": [
    {
     "name": "stdout",
     "output_type": "stream",
     "text": [
      "Community # 1\n",
      "prostate : 10\n",
      "myeloma : 10\n",
      "ovary : 10\n",
      "neuroblastoma : 10\n",
      "glioblastoma : 9\n",
      "pancreas : 8\n",
      "breast : 8\n",
      "stomach : 6\n",
      "esophageal : 1\n",
      "\n",
      "Community # 2\n",
      "stomach : 1\n",
      "\n",
      "Community # 3\n",
      "esophageal : 9\n",
      "bladder : 3\n",
      "pancreas : 2\n",
      "breast : 2\n",
      "stomach : 1\n",
      "glioblastoma : 1\n",
      "\n",
      "Community # 4\n",
      "bladder : 6\n",
      "\n",
      "Community # 5\n",
      "stomach : 1\n",
      "\n",
      "Community # 6\n",
      "stomach : 1\n",
      "\n",
      "Community # 7\n",
      "bladder : 1\n",
      "\n"
     ]
    }
   ],
   "source": [
    "printClusters(runKmeans())"
   ]
  },
  {
   "cell_type": "code",
   "execution_count": 126,
   "metadata": {},
   "outputs": [],
   "source": [
    "def histogram(v,title):\n",
    "    fig, ax = plt.subplots()\n",
    "    plt.xticks(rotation=90)\n",
    "\n",
    "    actualCancers = [i for i in list(v.keys()) if v[i]!=0]\n",
    "    actualValues = [i for i in v.values() if i != 0]\n",
    "    \n",
    "    plt.title(title)\n",
    "    plt.bar(np.arange(len(v.values())), v.values(), align='center', alpha=0.5)\n",
    "    ax.set_xticklabels(list(v.keys()))\n",
    "    plt.show()"
   ]
  },
  {
   "cell_type": "code",
   "execution_count": 128,
   "metadata": {},
   "outputs": [],
   "source": [
    "def cancerHistogram(clusters,cancerName):\n",
    "    plt.title(cancerName)\n",
    "    \n",
    "    values = []\n",
    "    for i in range(len(clusters)):\n",
    "        if(cancerName in clusters[i]):\n",
    "            values.append(clusters[i][cancerName])\n",
    "        else:\n",
    "            values.append(0)\n",
    "    \n",
    "    plt.bar(np.arange(len(values)),values, align='center', alpha=0.5)\n",
    "    plt.show()"
   ]
  },
  {
   "cell_type": "code",
   "execution_count": 129,
   "metadata": {},
   "outputs": [
    {
     "data": {
      "image/png": "[encoded data removed]",
      "text/plain": [
       "<Figure size 432x288 with 1 Axes>"
      ]
     },
     "metadata": {
      "needs_background": "light"
     },
     "output_type": "display_data"
    }
   ],
   "source": [
    "cancerHistogram(runKmeans(),cancerNames[0])"
   ]
  },
  {
   "cell_type": "code",
   "execution_count": null,
   "metadata": {},
   "outputs": [],
   "source": []
  }
 ],
 "metadata": {
  "kernelspec": {
   "display_name": "Python 3",
   "language": "python",
   "name": "python3"
  },
  "language_info": {
   "codemirror_mode": {
    "name": "ipython",
    "version": 3
   },
   "file_extension": ".py",
   "mimetype": "text/x-python",
   "name": "python",
   "nbconvert_exporter": "python",
   "pygments_lexer": "ipython3",
   "version": "3.7.0"
  }
 },
 "nbformat": 4,
 "nbformat_minor": 2
}
