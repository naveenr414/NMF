{
 "cells": [
  {
   "cell_type": "markdown",
   "metadata": {},
   "source": [
    "### Creating an Epsilon Nearest Neighbors Graph"
   ]
  },
  {
   "cell_type": "markdown",
   "metadata": {},
   "source": [
    "Imports"
   ]
  },
  {
   "cell_type": "markdown",
   "metadata": {},
   "source": [
    "#### Import data and basic functions"
   ]
  },
  {
   "cell_type": "code",
   "execution_count": 28,
   "metadata": {},
   "outputs": [],
   "source": [
    "import glob\n",
    "import random\n",
    "import numpy as np\n",
    "import scipy"
   ]
  },
  {
   "cell_type": "code",
   "execution_count": 21,
   "metadata": {},
   "outputs": [],
   "source": [
    "SAMPLES = 10\n",
    "CANCER_TYPES = 10 # How many of the types of cancer should we use\n",
    "normalize = False\n",
    "outliers = True\n",
    "restrictSamples = False # Remove cancer types with less than SAMPLES samples"
   ]
  },
  {
   "cell_type": "code",
   "execution_count": 30,
   "metadata": {},
   "outputs": [],
   "source": [
    "def generateColors(n):\n",
    "    \"\"\" Generates n random colors in hex \"\"\"\n",
    "    \n",
    "    colorList = []\n",
    "    possibleValues = list(range(10))+[\"A\",\"B\",\"C\",\"D\",\"E\",\"F\"]\n",
    "    \n",
    "    for i in range(n):\n",
    "        tempColor = \"#\"\n",
    "        for j in range(6):\n",
    "            tempColor+=str(possibleValues[random.randint(0,len(possibleValues)-1)])\n",
    "        colorList.append(tempColor)\n",
    "    \n",
    "    return colorList\n",
    "\n",
    "def toArray(fileName):\n",
    "    \"\"\"Converts exome data to an NP array \"\"\"\n",
    "    \n",
    "    with open(fileName) as f:\n",
    "        cancerData = f.read().split(\"\\n\")[1:-1]\n",
    "        for i in range(0,len(cancerData)):\n",
    "            cancerData[i] = cancerData[i].split(\"\\t\")[1:]\n",
    "            cancerData[i] = list(map(int,cancerData[i]))\n",
    "\n",
    "    cancerData = np.array(cancerData,dtype=np.float).T\n",
    "    return cancerData\n",
    "\n",
    "def normalizeRows(mat):\n",
    "    \"\"\" Normalized the rows of the matrix mat \"\"\"\n",
    "    \n",
    "    mat = deepcopy(mat)\n",
    "    \n",
    "    for i in range(mat.shape[0]):\n",
    "        s = sum(mat[i])\n",
    "        for j in range(mat.shape[1]):\n",
    "            num = float(mat[i][j])/float(s)\n",
    "            mat[i][j] = float(mat[i][j])\n",
    "            mat[i][j]/=float(s)\n",
    "\n",
    "            mat[i][j] = num\n",
    "\n",
    "    return mat\n"
   ]
  },
  {
   "cell_type": "code",
   "execution_count": 32,
   "metadata": {},
   "outputs": [],
   "source": [
    "#This sections inits all the cancer types \n",
    "alexandrovFiles = glob.glob(\"alexandrov_data/*.txt\")\n",
    "\n",
    "startingPositions = []\n",
    "allData = np.empty((0,0),dtype=np.float)\n",
    "\n",
    "if(CANCER_TYPES<len(alexandrovFiles)):\n",
    "    alexandrovFiles = np.random.choice(alexandrovFiles,CANCER_TYPES,replace=False)\n",
    "CANCER_TYPES = len(alexandrovFiles)\n",
    "\n",
    "cancerNames = [i.split(\"\\\\\")[-1].replace(\"_\",\"\").split(\"exome\")[0] for i in alexandrovFiles]\n",
    "\n",
    "colors = generateColors(len(cancerNames))\n",
    "unusedCancers = []\n",
    "\n",
    "#Combines the data from each of the samples\n",
    "for i,file in enumerate(alexandrovFiles):\n",
    "    cancerData = toArray(file)\n",
    "    sampleRows = cancerData.shape[0]    \n",
    "    selectedSamples = np.random.choice(sampleRows,min(sampleRows,SAMPLES),replace=False)\n",
    "\n",
    "    if(sampleRows>=SAMPLES or True):\n",
    "        if(len(startingPositions)==0):\n",
    "            startingPositions.append(0)\n",
    "\n",
    "        startingPositions.append(startingPositions[-1] + min(sampleRows,SAMPLES))\n",
    "\n",
    "\n",
    "        cancerData = cancerData[selectedSamples]\n",
    "        \n",
    "        if(allData.size == 0): \n",
    "            allData = cancerData\n",
    "        else:\n",
    "            allData = np.append(allData,cancerData,axis=0)\n",
    "    else:\n",
    "        unusedCancers.append(i)\n",
    "\n",
    "cancerNames = [i for j,i in enumerate(cancerNames) if j not in unusedCancers]\n",
    "CANCER_TYPES = len(cancerNames)\n",
    "\n",
    "\n",
    "if(normalize):\n",
    "    allData = normalizeRows(allData)\n",
    "\n",
    "np.savetxt(\"allData.csv\", allData, delimiter=\",\")"
   ]
  },
  {
   "cell_type": "markdown",
   "metadata": {},
   "source": [
    "#### Creating Nearest Neighbor graphs"
   ]
  },
  {
   "cell_type": "code",
   "execution_count": 54,
   "metadata": {},
   "outputs": [],
   "source": [
    "import scipy.spatial.distance\n",
    "from pynrnmf import NRNMF\n",
    "import warnings"
   ]
  },
  {
   "cell_type": "code",
   "execution_count": 49,
   "metadata": {},
   "outputs": [],
   "source": [
    "def createNearestNeighborEpsilon(mat,epsilon=0.3,metric=\"Cosine\"):\n",
    "    numRows = mat.shape[0]\n",
    "    graph = np.zeros((numRows,numRows))\n",
    "    dist = np.zeros((numRows,numRows))\n",
    "    for row in range(numRows):\n",
    "        for otherRow in range(numRows):\n",
    "            if(otherRow==row):\n",
    "                dist[row][otherRow] = 10000000\n",
    "            else:\n",
    "                if(metric==\"Cosine\"):\n",
    "                    dist[row][otherRow] = scipy.spatial.distance.cosine(mat[row],mat[otherRow])\n",
    "                elif(metric==\"Norm\"):\n",
    "                    dist[row][otherRow] = np.linalg.norm(mat[row]-mat[otherRow])\n",
    "        \n",
    "    for row in range(numRows):\n",
    "        for otherRow in range(numRows):\n",
    "            if(dist[row][otherRow]<=epsilon):\n",
    "                graph[row][otherRow] = 1\n",
    "                graph[otherRow][row] = 1\n",
    "            else:\n",
    "                graph[row][otherRow] = 0\n",
    "                graph[otherRow][row] = 0\n",
    "\n",
    "    return graph\n",
    "\n",
    "def createNearestNeighbor(mat,k=1,metric=\"Norm\"):\n",
    "    numRows = mat.shape[0]\n",
    "    graph = np.zeros((numRows,numRows))\n",
    "    dist = np.zeros((numRows,numRows))\n",
    "    for row in range(numRows):\n",
    "        for otherRow in range(numRows):\n",
    "            if(otherRow==row):\n",
    "                dist[row][otherRow] = 10000000\n",
    "            else:\n",
    "                if(metric==\"Cosine\"):\n",
    "                    dist[row][otherRow] = 1-scipy.spatial.distance.cosine(mat[row],mat[otherRow])#np.linalg.norm(mat[row]-mat[otherRow])\n",
    "                elif(metric==\"Norm\"):\n",
    "                    dist[row][otherRow] = np.linalg.norm(mat[row]-mat[otherRow])\n",
    "    \n",
    "    for row in range(numRows):\n",
    "        smallestNums = np.argpartition(dist[row],k)[:k]\n",
    "        for i in smallestNums:\n",
    "            graph[row][i] = 1\n",
    "            graph[i][row] = 1\n",
    "\n",
    "    return graph"
   ]
  },
  {
   "cell_type": "markdown",
   "metadata": {},
   "source": [
    "#### Comparing Factoring Methods "
   ]
  },
  {
   "cell_type": "code",
   "execution_count": 55,
   "metadata": {},
   "outputs": [],
   "source": [
    "def factorData(k=5):\n",
    "    warnings.filterwarnings(\"ignore\")\n",
    "\n",
    "    nn = np.array(createNearestNeighbor(allData,k=5,metric=\"Cosine\"))\n",
    "    model = NRNMF(k=k,W=nn,alpha=10000,init='random',n_inits=1, max_iter=50000, n_jobs=1)\n",
    "    U, V = model.fit_transform(allData.T)\n",
    "    reconstructionError = np.linalg.norm(allData.T-U.dot(V.T))\n",
    "    print(\"Reconstruction Error with graph regularization nearest neighbor\",reconstructionError)\n",
    "    \n",
    "    nn = np.array(createNearestNeighborEpsilon(allData,metric=\"Cosine\"))\n",
    "    model = NRNMF(k=k,W=nn,alpha=10000,init='random',n_inits=1, max_iter=50000, n_jobs=1)\n",
    "    U, V = model.fit_transform(allData.T)\n",
    "    reconstructionError = np.linalg.norm(allData.T-U.dot(V.T))\n",
    "    print(\"Reconstruction Error with graph regularization nearest neighbor epsilon\",reconstructionError)\n",
    "    \n",
    "    # Relies on the Frobenius Norm\n",
    "    model = NRNMF(k=k,W=nn,alpha=0,init='random',n_inits=1, max_iter=50000, n_jobs=1)\n",
    "    U, V = model.fit_transform(allData.T)\n",
    "    reconstructionError = np.linalg.norm(allData.T-U.dot(V.T))\n",
    "    print(\"Reconstruction Error without graph regularization\",reconstructionError)"
   ]
  },
  {
   "cell_type": "code",
   "execution_count": 56,
   "metadata": {},
   "outputs": [
    {
     "name": "stdout",
     "output_type": "stream",
     "text": [
      "Reconstruction Error with graph regularization nearest neighbor 160.07214481708485\n",
      "[[0. 0. 0. ... 0. 0. 0.]\n",
      " [0. 0. 0. ... 0. 0. 0.]\n",
      " [0. 0. 0. ... 0. 0. 0.]\n",
      " ...\n",
      " [0. 0. 0. ... 0. 0. 1.]\n",
      " [0. 0. 0. ... 0. 0. 0.]\n",
      " [0. 0. 0. ... 1. 0. 0.]]\n",
      "Reconstruction Error with graph regularization nearest neighbor epsilon 131.49020526242896\n",
      "Reconstruction Error without graph regularization 168.48625856086554\n"
     ]
    }
   ],
   "source": [
    "factorData()"
   ]
  },
  {
   "cell_type": "markdown",
   "metadata": {},
   "source": [
    "#### Creating Communities"
   ]
  },
  {
   "cell_type": "code",
   "execution_count": 65,
   "metadata": {},
   "outputs": [],
   "source": [
    "import networkx as nx\n",
    "from networkx.algorithms.community import greedy_modularity_communities"
   ]
  },
  {
   "cell_type": "code",
   "execution_count": 70,
   "metadata": {},
   "outputs": [],
   "source": [
    "def communityDetection():\n",
    "    \"\"\" Runs the Classet-Newmann community detection algorithm \"\"\"\n",
    "    nn = createNearestNeighbor(allData,k=5,metric=\"Cosine\")\n",
    "    \n",
    "    g = nx.Graph()\n",
    "    for cancer in range(len(cancerNames)):\n",
    "        for nodeNumber in range(startingPositions[cancer],startingPositions[cancer+1]):\n",
    "            g.add_node(nodeNumber)\n",
    "\n",
    "    for i in range(nn.shape[0]):\n",
    "        for j in range(nn.shape[1]):\n",
    "            if(nn[i][j]):\n",
    "                g.add_edge(i,j)\n",
    "\n",
    "    #Amount of each cancer type in each community\n",
    "    communities = greedy_modularity_communities(g)\n",
    "    cancerTypes = []    \n",
    "    \n",
    "    for j,community in enumerate(communities):\n",
    "        tempCancers = {}\n",
    "        for i in range(1,len(startingPositions)):\n",
    "            #Num inbetween\n",
    "            cancersInbetween = len([x for x in community if startingPositions[i-1]<=x<startingPositions[i]])\n",
    "            tempCancers[cancerNames[i-1]] = cancersInbetween\n",
    "                    \n",
    "        cancerTypes.append(tempCancers)\n",
    "\n",
    "    return cancerTypes"
   ]
  },
  {
   "cell_type": "code",
   "execution_count": 71,
   "metadata": {},
   "outputs": [
    {
     "name": "stdout",
     "output_type": "stream",
     "text": [
      "4\n"
     ]
    },
    {
     "data": {
      "text/plain": [
       "[{'prostate': 3,\n",
       "  'esophageal': 8,\n",
       "  'myeloma': 5,\n",
       "  'pancreas': 4,\n",
       "  'stomach': 4,\n",
       "  'ovary': 2,\n",
       "  'neuroblastoma': 2,\n",
       "  'bladder': 0,\n",
       "  'breast': 4,\n",
       "  'glioblastoma': 4},\n",
       " {'prostate': 3,\n",
       "  'esophageal': 1,\n",
       "  'myeloma': 2,\n",
       "  'pancreas': 5,\n",
       "  'stomach': 2,\n",
       "  'ovary': 3,\n",
       "  'neuroblastoma': 6,\n",
       "  'bladder': 3,\n",
       "  'breast': 3,\n",
       "  'glioblastoma': 2},\n",
       " {'prostate': 1,\n",
       "  'esophageal': 0,\n",
       "  'myeloma': 2,\n",
       "  'pancreas': 0,\n",
       "  'stomach': 0,\n",
       "  'ovary': 5,\n",
       "  'neuroblastoma': 1,\n",
       "  'bladder': 4,\n",
       "  'breast': 2,\n",
       "  'glioblastoma': 4},\n",
       " {'prostate': 3,\n",
       "  'esophageal': 1,\n",
       "  'myeloma': 1,\n",
       "  'pancreas': 1,\n",
       "  'stomach': 4,\n",
       "  'ovary': 0,\n",
       "  'neuroblastoma': 1,\n",
       "  'bladder': 3,\n",
       "  'breast': 1,\n",
       "  'glioblastoma': 0}]"
      ]
     },
     "execution_count": 71,
     "metadata": {},
     "output_type": "execute_result"
    }
   ],
   "source": [
    "communityDetection()"
   ]
  },
  {
   "cell_type": "markdown",
   "metadata": {},
   "source": [
    "#### Running K Means"
   ]
  },
  {
   "cell_type": "code",
   "execution_count": 75,
   "metadata": {},
   "outputs": [],
   "source": [
    "from scipy.cluster.vq import kmeans2"
   ]
  },
  {
   "cell_type": "code",
   "execution_count": 81,
   "metadata": {},
   "outputs": [],
   "source": [
    "def runKmeans():\n",
    "    a = kmeans2(allData,CANCER_TYPES)\n",
    "    clusterList = a[1]\n",
    "    clusters = [{} for i in range(CANCER_TYPES)]\n",
    "    \n",
    "    for i in range(len(clusters)):\n",
    "        for j in cancerNames:\n",
    "            clusters[i][j] = 0\n",
    "    \n",
    "    for i in range(len(clusterList)):\n",
    "        #Find out which type of cancer this is\n",
    "        cancerType = \"\"\n",
    "        for j in range(0,len(startingPositions)-1):\n",
    "            if(startingPositions[j]<=i<startingPositions[j+1]):\n",
    "                cancerType = cancerNames[j]\n",
    "                break\n",
    "        \n",
    "        clusters[clusterList[i]][cancerType]+=1\n",
    "\n",
    "    #Get rid of empty clusters\n",
    "    clusters = [i for i in clusters if sum(i.values())!=0]\n",
    "        \n",
    "    return clusters"
   ]
  },
  {
   "cell_type": "code",
   "execution_count": 82,
   "metadata": {},
   "outputs": [
    {
     "data": {
      "text/plain": [
       "[{'prostate': 0,\n",
       "  'esophageal': 0,\n",
       "  'myeloma': 0,\n",
       "  'pancreas': 0,\n",
       "  'stomach': 1,\n",
       "  'ovary': 0,\n",
       "  'neuroblastoma': 0,\n",
       "  'bladder': 0,\n",
       "  'breast': 0,\n",
       "  'glioblastoma': 0},\n",
       " {'prostate': 10,\n",
       "  'esophageal': 8,\n",
       "  'myeloma': 10,\n",
       "  'pancreas': 10,\n",
       "  'stomach': 7,\n",
       "  'ovary': 10,\n",
       "  'neuroblastoma': 10,\n",
       "  'bladder': 5,\n",
       "  'breast': 10,\n",
       "  'glioblastoma': 10},\n",
       " {'prostate': 0,\n",
       "  'esophageal': 0,\n",
       "  'myeloma': 0,\n",
       "  'pancreas': 0,\n",
       "  'stomach': 0,\n",
       "  'ovary': 0,\n",
       "  'neuroblastoma': 0,\n",
       "  'bladder': 5,\n",
       "  'breast': 0,\n",
       "  'glioblastoma': 0},\n",
       " {'prostate': 0,\n",
       "  'esophageal': 0,\n",
       "  'myeloma': 0,\n",
       "  'pancreas': 0,\n",
       "  'stomach': 1,\n",
       "  'ovary': 0,\n",
       "  'neuroblastoma': 0,\n",
       "  'bladder': 0,\n",
       "  'breast': 0,\n",
       "  'glioblastoma': 0},\n",
       " {'prostate': 0,\n",
       "  'esophageal': 2,\n",
       "  'myeloma': 0,\n",
       "  'pancreas': 0,\n",
       "  'stomach': 1,\n",
       "  'ovary': 0,\n",
       "  'neuroblastoma': 0,\n",
       "  'bladder': 0,\n",
       "  'breast': 0,\n",
       "  'glioblastoma': 0}]"
      ]
     },
     "execution_count": 82,
     "metadata": {},
     "output_type": "execute_result"
    }
   ],
   "source": [
    "runKmeans()"
   ]
  },
  {
   "cell_type": "code",
   "execution_count": null,
   "metadata": {},
   "outputs": [],
   "source": []
  }
 ],
 "metadata": {
  "kernelspec": {
   "display_name": "Python 3",
   "language": "python",
   "name": "python3"
  },
  "language_info": {
   "codemirror_mode": {
    "name": "ipython",
    "version": 3
   },
   "file_extension": ".py",
   "mimetype": "text/x-python",
   "name": "python",
   "nbconvert_exporter": "python",
   "pygments_lexer": "ipython3",
   "version": "3.7.0"
  }
 },
 "nbformat": 4,
 "nbformat_minor": 2
}
