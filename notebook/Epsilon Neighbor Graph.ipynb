{
 "cells": [
  {
   "cell_type": "markdown",
   "metadata": {},
   "source": [
    "### Creating an Epsilon Nearest Neighbors Graph"
   ]
  },
  {
   "cell_type": "markdown",
   "metadata": {},
   "source": [
    "Imports"
   ]
  },
  {
   "cell_type": "markdown",
   "metadata": {},
   "source": [
    "#### Import data and basic functions"
   ]
  },
  {
   "cell_type": "code",
   "execution_count": 4,
   "metadata": {},
   "outputs": [],
   "source": [
    "import glob\n",
    "import random\n",
    "import numpy as np\n",
    "import scipy"
   ]
  },
  {
   "cell_type": "code",
   "execution_count": null,
   "metadata": {},
   "outputs": [],
   "source": [
    "SAMPLES = 50\n",
    "CANCER_TYPES = 1000 # How many of the types of cancer should we use\n",
    "normalize = False\n",
    "outliers = True\n",
    "restrictSamples = False # Remove cancer types with less than SAMPLES samples"
   ]
  },
  {
   "cell_type": "code",
   "execution_count": null,
   "metadata": {},
   "outputs": [],
   "source": [
    "def generateColors(n):\n",
    "    \"\"\" Generates n random colors in hex \"\"\"\n",
    "    \n",
    "    colorList = []\n",
    "    possibleValues = list(range(10))+[\"A\",\"B\",\"C\",\"D\",\"E\",\"F\"]\n",
    "    \n",
    "    for i in range(n):\n",
    "        tempColor = \"#\"\n",
    "        for j in range(6):\n",
    "            tempColor+=str(possibleValues[random.randint(0,len(possibleValues)-1)])\n",
    "        colorList.append(tempColor)\n",
    "    \n",
    "    return colorList\n",
    "\n",
    "def toArray(fileName):\n",
    "    \"\"\"Converts exome data to an NP array \"\"\"\n",
    "    \n",
    "    with open(fileName) as f:\n",
    "        cancerData = f.read().split(\"\\n\")[1:-1]\n",
    "        for i in range(0,len(cancerData)):\n",
    "            cancerData[i] = cancerData[i].split(\"\\t\")[1:]\n",
    "            cancerData[i] = list(map(int,cancerData[i]))\n",
    "\n",
    "    cancerData = np.array(cancerData,dtype=np.float).T\n",
    "    return cancerData\n",
    "\n",
    "def normalizeRows(mat):\n",
    "    \"\"\" Normalized the rows of the matrix mat \"\"\"\n",
    "    \n",
    "    mat = deepcopy(mat)\n",
    "    \n",
    "    for i in range(mat.shape[0]):\n",
    "        s = sum(mat[i])\n",
    "        for j in range(mat.shape[1]):\n",
    "            num = float(mat[i][j])/float(s)\n",
    "            mat[i][j] = float(mat[i][j])\n",
    "            mat[i][j]/=float(s)\n",
    "\n",
    "            mat[i][j] = num\n",
    "\n",
    "    return mat\n"
   ]
  },
  {
   "cell_type": "code",
   "execution_count": 7,
   "metadata": {},
   "outputs": [],
   "source": [
    "#This sections inits all the cancer types \n",
    "alexandrovFiles = [\"alexandrov_data\\\\breast_exome.txt\"]#glob.glob(\"alexandrov_data/*.txt\")\n",
    "\n",
    "startingPositions = []\n",
    "allData = np.empty((0,0),dtype=np.float)\n",
    "\n",
    "if(CANCER_TYPES<len(alexandrovFiles)):\n",
    "    alexandrovFiles = np.random.choice(alexandrovFiles,CANCER_TYPES,replace=False)\n",
    "CANCER_TYPES = len(alexandrovFiles)\n",
    "\n",
    "cancerNames = [i.split(\"\\\\\")[-1].replace(\"_\",\"\").split(\"exome\")[0] for i in alexandrovFiles]\n",
    "\n",
    "colors = generateColors(len(cancerNames))\n",
    "unusedCancers = []\n",
    "\n",
    "#Combines the data from each of the samples\n",
    "for i,file in enumerate(alexandrovFiles):\n",
    "    cancerData = toArray(file)\n",
    "    sampleRows = cancerData.shape[0]    \n",
    "    selectedSamples = np.random.choice(sampleRows,min(sampleRows,SAMPLES),replace=False)\n",
    "\n",
    "    if(sampleRows>=SAMPLES or True):\n",
    "        if(len(startingPositions)==0):\n",
    "            startingPositions.append(0)\n",
    "\n",
    "        startingPositions.append(startingPositions[-1] + min(sampleRows,SAMPLES))\n",
    "\n",
    "\n",
    "        cancerData = cancerData[selectedSamples]\n",
    "        \n",
    "        if(allData.size == 0): \n",
    "            allData = cancerData\n",
    "        else:\n",
    "            allData = np.append(allData,cancerData,axis=0)\n",
    "    else:\n",
    "        unusedCancers.append(i)\n",
    "\n",
    "cancerNames = [i for j,i in enumerate(cancerNames) if j not in unusedCancers]\n",
    "CANCER_TYPES = len(cancerNames)\n",
    "\n",
    "\n",
    "if(normalize):\n",
    "    allData = normalizeRows(allData)\n",
    "\n",
    "np.savetxt(\"allData.csv\", allData, delimiter=\",\")"
   ]
  },
  {
   "cell_type": "code",
   "execution_count": 8,
   "metadata": {},
   "outputs": [],
   "source": [
    "def findMutationOrder(fileName):\n",
    "    f = open(fileName).read().split(\"\\n\")\n",
    "    mutationList = []\n",
    "    for i in f:\n",
    "        i = i.split(\" \")\n",
    "        for j in i:\n",
    "            if(\"[\" in j):\n",
    "                mutationList.append(j.strip(\"\\t\").split(\"\\t\")[0])\n",
    "    return mutationList"
   ]
  },
  {
   "cell_type": "markdown",
   "metadata": {},
   "source": [
    "#### Creating Nearest Neighbor graphs"
   ]
  },
  {
   "cell_type": "code",
   "execution_count": 9,
   "metadata": {},
   "outputs": [],
   "source": [
    "import scipy.spatial.distance\n",
    "from pynrnmf import NRNMF\n",
    "import warnings\n",
    "warnings.filterwarnings(\"ignore\")"
   ]
  },
  {
   "cell_type": "code",
   "execution_count": 10,
   "metadata": {},
   "outputs": [],
   "source": [
    "def distanceGraph(mat,epsilon=0.3,metric=\"Cosine\"):\n",
    "    numRows = mat.shape[0]\n",
    "    graph = np.zeros((numRows,numRows))\n",
    "    dist = np.zeros((numRows,numRows))\n",
    "    for row in range(numRows):\n",
    "        for otherRow in range(numRows):\n",
    "            if(otherRow==row):\n",
    "                dist[row][otherRow] = 10000000\n",
    "            else:\n",
    "                if(metric==\"Cosine\"):\n",
    "                    dist[row][otherRow] = scipy.spatial.distance.cosine(mat[row],mat[otherRow])\n",
    "                elif(metric==\"Norm\"):\n",
    "                    dist[row][otherRow] = np.linalg.norm(mat[row]-mat[otherRow])\n",
    "    return dist\n",
    "\n",
    "\n",
    "def createNearestNeighborEpsilon(mat,epsilon=0.3,metric=\"Cosine\"):\n",
    "    dist = distanceGraph(mat,epsilon=epsilon,metric=metric)\n",
    "    numRows = mat.shape[0]\n",
    "    graph = np.zeros((numRows,numRows))  \n",
    "\n",
    "    for row in range(numRows):\n",
    "        for otherRow in range(numRows):\n",
    "            if(dist[row][otherRow]<=epsilon):\n",
    "                graph[row][otherRow] = 1\n",
    "                graph[otherRow][row] = 1\n",
    "            else:\n",
    "                graph[row][otherRow] = 0\n",
    "                graph[otherRow][row] = 0\n",
    "\n",
    "    return graph\n",
    "\n",
    "def createNearestNeighbor(mat,k=1,metric=\"Norm\"):\n",
    "    numRows = mat.shape[0]\n",
    "    graph = np.zeros((numRows,numRows))\n",
    "    dist = np.zeros((numRows,numRows))\n",
    "    for row in range(numRows):\n",
    "        for otherRow in range(numRows):\n",
    "            if(otherRow==row):\n",
    "                dist[row][otherRow] = 10000000\n",
    "            else:\n",
    "                if(metric==\"Cosine\"):\n",
    "                    dist[row][otherRow] = scipy.spatial.distance.cosine(mat[row],mat[otherRow])#np.linalg.norm(mat[row]-mat[otherRow])\n",
    "                elif(metric==\"Norm\"):\n",
    "                    dist[row][otherRow] = np.linalg.norm(mat[row]-mat[otherRow])\n",
    "    \n",
    "    for row in range(numRows):\n",
    "        smallestNums = np.argpartition(dist[row],k)[:k]\n",
    "        for i in smallestNums:\n",
    "            graph[row][i] = 1\n",
    "            graph[i][row] = 1\n",
    "\n",
    "    return graph"
   ]
  },
  {
   "cell_type": "markdown",
   "metadata": {},
   "source": [
    "#### Comparing Factoring Methods "
   ]
  },
  {
   "cell_type": "code",
   "execution_count": 11,
   "metadata": {},
   "outputs": [],
   "source": [
    "def getReconstructionErrors(k=5):\n",
    "    errors = {}\n",
    "    matrices = factorData(k=k)\n",
    "    \n",
    "    for factorMethod in matrices:\n",
    "        U, V = matrices[factorMethod]\n",
    "        errors[factorMethod] = np.linalg.norm(allData.T-U.dot(V.T))\n",
    "    \n",
    "    return errors\n",
    "\n",
    "def factorData(k=5,n_inits=100,max_iter=100,n_jobs=1,metric=\"Cosine\"):\n",
    "    returnDict = {}\n",
    "    \n",
    "    nn = np.array(createNearestNeighbor(allData,metric=metric))\n",
    "    nne = np.array(createNearestNeighbor(allData,metric=metric))\n",
    "    \n",
    "    model = NRNMF(k=k,W=nn,alpha=10000,init='random',n_inits=n_inits, max_iter=max_iter, n_jobs=n_jobs)\n",
    "    U, V = model.fit_transform(allData.T)\n",
    "    returnDict[\"NN\"] = (U,V)\n",
    "        \n",
    "    model = NRNMF(k=k,W=nn,alpha=0,init='random',n_inits=n_inits, max_iter=max_iter, n_jobs=n_jobs)\n",
    "    U, V = model.fit_transform(allData.T)\n",
    "    returnDict[\"Regular\"] = (U,V)\n",
    "    \n",
    "    model = NRNMF(k=k,W=nne,alpha=10000,init='random',n_inits=n_inits, max_iter=max_iter, n_jobs=n_jobs)\n",
    "    U, V = model.fit_transform(allData.T)\n",
    "    returnDict[\"Epsilon\"] = (U,V)\n",
    "\n",
    "    return returnDict"
   ]
  },
  {
   "cell_type": "markdown",
   "metadata": {},
   "source": [
    "#### Creating Communities"
   ]
  },
  {
   "cell_type": "code",
   "execution_count": 85,
   "metadata": {},
   "outputs": [],
   "source": [
    "import networkx as nx\n",
    "from networkx.algorithms.community import greedy_modularity_communities"
   ]
  },
  {
   "cell_type": "code",
   "execution_count": 86,
   "metadata": {},
   "outputs": [],
   "source": [
    "def communityDetection():\n",
    "    \"\"\" Runs the Classet-Newmann community detection algorithm \"\"\"\n",
    "    nn = createNearestNeighbor(allData,k=5,metric=\"Cosine\")\n",
    "    \n",
    "    g = nx.Graph()\n",
    "    for cancer in range(len(cancerNames)):\n",
    "        for nodeNumber in range(startingPositions[cancer],startingPositions[cancer+1]):\n",
    "            g.add_node(nodeNumber)\n",
    "\n",
    "    for i in range(nn.shape[0]):\n",
    "        for j in range(nn.shape[1]):\n",
    "            if(nn[i][j]):\n",
    "                g.add_edge(i,j)\n",
    "\n",
    "    #Amount of each cancer type in each community\n",
    "    communities = greedy_modularity_communities(g)\n",
    "    cancerTypes = []    \n",
    "    \n",
    "    for j,community in enumerate(communities):\n",
    "        tempCancers = {}\n",
    "        for i in range(1,len(startingPositions)):\n",
    "            #Num inbetween\n",
    "            cancersInbetween = len([x for x in community if startingPositions[i-1]<=x<startingPositions[i]])\n",
    "            tempCancers[cancerNames[i-1]] = cancersInbetween\n",
    "                    \n",
    "        cancerTypes.append(tempCancers)\n",
    "\n",
    "    return cancerTypes"
   ]
  },
  {
   "cell_type": "code",
   "execution_count": 87,
   "metadata": {},
   "outputs": [
    {
     "data": {
      "text/plain": [
       "[{'breast': 288},\n",
       " {'breast': 231},\n",
       " {'breast': 182},\n",
       " {'breast': 92},\n",
       " {'breast': 41},\n",
       " {'breast': 10}]"
      ]
     },
     "execution_count": 87,
     "metadata": {},
     "output_type": "execute_result"
    }
   ],
   "source": [
    "communityDetection()"
   ]
  },
  {
   "cell_type": "markdown",
   "metadata": {},
   "source": [
    "#### Running K Means"
   ]
  },
  {
   "cell_type": "code",
   "execution_count": 36,
   "metadata": {},
   "outputs": [],
   "source": [
    "from scipy.cluster.vq import kmeans2"
   ]
  },
  {
   "cell_type": "code",
   "execution_count": 37,
   "metadata": {},
   "outputs": [],
   "source": [
    "def runKmeans():\n",
    "    a = kmeans2(allData,CANCER_TYPES)\n",
    "    clusterList = a[1]\n",
    "    clusters = [{} for i in range(CANCER_TYPES)]\n",
    "    \n",
    "    for i in range(len(clusters)):\n",
    "        for j in cancerNames:\n",
    "            clusters[i][j] = 0\n",
    "    \n",
    "    for i in range(len(clusterList)):\n",
    "        #Find out which type of cancer this is\n",
    "        cancerType = \"\"\n",
    "        for j in range(0,len(startingPositions)-1):\n",
    "            if(startingPositions[j]<=i<startingPositions[j+1]):\n",
    "                cancerType = cancerNames[j]\n",
    "                break\n",
    "        \n",
    "        clusters[clusterList[i]][cancerType]+=1\n",
    "\n",
    "    #Get rid of empty clusters\n",
    "    clusters = [i for i in clusters if sum(i.values())!=0]\n",
    "        \n",
    "    return clusters"
   ]
  },
  {
   "cell_type": "code",
   "execution_count": 15,
   "metadata": {},
   "outputs": [
    {
     "data": {
      "text/plain": [
       "[{'bladder': 16,\n",
       "  'esophageal': 29,\n",
       "  'glioma': 30,\n",
       "  'breast': 29,\n",
       "  'prostate': 29,\n",
       "  'adeno': 22,\n",
       "  'lungsmall': 29,\n",
       "  'neuroblastoma': 30,\n",
       "  'glioblastoma': 30,\n",
       "  'melanoma': 7,\n",
       "  'clearcell': 30,\n",
       "  'stomach': 25,\n",
       "  'uterus': 24,\n",
       "  'pancreas': 30,\n",
       "  'thyroid': 30,\n",
       "  'cervix': 23,\n",
       "  'papillary': 30,\n",
       "  'neck': 25,\n",
       "  'colorectum': 26,\n",
       "  'lymphoma': 24},\n",
       " {'bladder': 4,\n",
       "  'esophageal': 0,\n",
       "  'glioma': 0,\n",
       "  'breast': 0,\n",
       "  'prostate': 0,\n",
       "  'adeno': 0,\n",
       "  'lungsmall': 0,\n",
       "  'neuroblastoma': 0,\n",
       "  'glioblastoma': 0,\n",
       "  'melanoma': 0,\n",
       "  'clearcell': 0,\n",
       "  'stomach': 0,\n",
       "  'uterus': 0,\n",
       "  'pancreas': 0,\n",
       "  'thyroid': 0,\n",
       "  'cervix': 1,\n",
       "  'papillary': 0,\n",
       "  'neck': 0,\n",
       "  'colorectum': 0,\n",
       "  'lymphoma': 0},\n",
       " {'bladder': 0,\n",
       "  'esophageal': 0,\n",
       "  'glioma': 0,\n",
       "  'breast': 0,\n",
       "  'prostate': 0,\n",
       "  'adeno': 0,\n",
       "  'lungsmall': 0,\n",
       "  'neuroblastoma': 0,\n",
       "  'glioblastoma': 0,\n",
       "  'melanoma': 0,\n",
       "  'clearcell': 0,\n",
       "  'stomach': 0,\n",
       "  'uterus': 1,\n",
       "  'pancreas': 0,\n",
       "  'thyroid': 0,\n",
       "  'cervix': 0,\n",
       "  'papillary': 0,\n",
       "  'neck': 0,\n",
       "  'colorectum': 0,\n",
       "  'lymphoma': 0},\n",
       " {'bladder': 0,\n",
       "  'esophageal': 0,\n",
       "  'glioma': 0,\n",
       "  'breast': 0,\n",
       "  'prostate': 0,\n",
       "  'adeno': 0,\n",
       "  'lungsmall': 0,\n",
       "  'neuroblastoma': 0,\n",
       "  'glioblastoma': 0,\n",
       "  'melanoma': 0,\n",
       "  'clearcell': 0,\n",
       "  'stomach': 1,\n",
       "  'uterus': 3,\n",
       "  'pancreas': 0,\n",
       "  'thyroid': 0,\n",
       "  'cervix': 0,\n",
       "  'papillary': 0,\n",
       "  'neck': 0,\n",
       "  'colorectum': 2,\n",
       "  'lymphoma': 0},\n",
       " {'bladder': 10,\n",
       "  'esophageal': 0,\n",
       "  'glioma': 0,\n",
       "  'breast': 1,\n",
       "  'prostate': 0,\n",
       "  'adeno': 8,\n",
       "  'lungsmall': 1,\n",
       "  'neuroblastoma': 0,\n",
       "  'glioblastoma': 0,\n",
       "  'melanoma': 0,\n",
       "  'clearcell': 0,\n",
       "  'stomach': 0,\n",
       "  'uterus': 0,\n",
       "  'pancreas': 0,\n",
       "  'thyroid': 0,\n",
       "  'cervix': 6,\n",
       "  'papillary': 0,\n",
       "  'neck': 4,\n",
       "  'colorectum': 0,\n",
       "  'lymphoma': 0},\n",
       " {'bladder': 0,\n",
       "  'esophageal': 0,\n",
       "  'glioma': 0,\n",
       "  'breast': 0,\n",
       "  'prostate': 0,\n",
       "  'adeno': 0,\n",
       "  'lungsmall': 0,\n",
       "  'neuroblastoma': 0,\n",
       "  'glioblastoma': 0,\n",
       "  'melanoma': 7,\n",
       "  'clearcell': 0,\n",
       "  'stomach': 0,\n",
       "  'uterus': 0,\n",
       "  'pancreas': 0,\n",
       "  'thyroid': 0,\n",
       "  'cervix': 0,\n",
       "  'papillary': 0,\n",
       "  'neck': 0,\n",
       "  'colorectum': 0,\n",
       "  'lymphoma': 0},\n",
       " {'bladder': 0,\n",
       "  'esophageal': 1,\n",
       "  'glioma': 0,\n",
       "  'breast': 0,\n",
       "  'prostate': 1,\n",
       "  'adeno': 0,\n",
       "  'lungsmall': 0,\n",
       "  'neuroblastoma': 0,\n",
       "  'glioblastoma': 0,\n",
       "  'melanoma': 0,\n",
       "  'clearcell': 0,\n",
       "  'stomach': 4,\n",
       "  'uterus': 1,\n",
       "  'pancreas': 0,\n",
       "  'thyroid': 0,\n",
       "  'cervix': 0,\n",
       "  'papillary': 0,\n",
       "  'neck': 0,\n",
       "  'colorectum': 2,\n",
       "  'lymphoma': 0},\n",
       " {'bladder': 0,\n",
       "  'esophageal': 0,\n",
       "  'glioma': 0,\n",
       "  'breast': 0,\n",
       "  'prostate': 0,\n",
       "  'adeno': 0,\n",
       "  'lungsmall': 0,\n",
       "  'neuroblastoma': 0,\n",
       "  'glioblastoma': 0,\n",
       "  'melanoma': 0,\n",
       "  'clearcell': 0,\n",
       "  'stomach': 0,\n",
       "  'uterus': 1,\n",
       "  'pancreas': 0,\n",
       "  'thyroid': 0,\n",
       "  'cervix': 0,\n",
       "  'papillary': 0,\n",
       "  'neck': 0,\n",
       "  'colorectum': 0,\n",
       "  'lymphoma': 0},\n",
       " {'bladder': 0,\n",
       "  'esophageal': 0,\n",
       "  'glioma': 0,\n",
       "  'breast': 0,\n",
       "  'prostate': 0,\n",
       "  'adeno': 0,\n",
       "  'lungsmall': 0,\n",
       "  'neuroblastoma': 0,\n",
       "  'glioblastoma': 0,\n",
       "  'melanoma': 10,\n",
       "  'clearcell': 0,\n",
       "  'stomach': 0,\n",
       "  'uterus': 0,\n",
       "  'pancreas': 0,\n",
       "  'thyroid': 0,\n",
       "  'cervix': 0,\n",
       "  'papillary': 0,\n",
       "  'neck': 0,\n",
       "  'colorectum': 0,\n",
       "  'lymphoma': 0},\n",
       " {'bladder': 0,\n",
       "  'esophageal': 0,\n",
       "  'glioma': 0,\n",
       "  'breast': 0,\n",
       "  'prostate': 0,\n",
       "  'adeno': 0,\n",
       "  'lungsmall': 0,\n",
       "  'neuroblastoma': 0,\n",
       "  'glioblastoma': 0,\n",
       "  'melanoma': 6,\n",
       "  'clearcell': 0,\n",
       "  'stomach': 0,\n",
       "  'uterus': 0,\n",
       "  'pancreas': 0,\n",
       "  'thyroid': 0,\n",
       "  'cervix': 0,\n",
       "  'papillary': 0,\n",
       "  'neck': 1,\n",
       "  'colorectum': 0,\n",
       "  'lymphoma': 0}]"
      ]
     },
     "execution_count": 15,
     "metadata": {},
     "output_type": "execute_result"
    }
   ],
   "source": [
    "runKmeans()"
   ]
  },
  {
   "cell_type": "markdown",
   "metadata": {},
   "source": [
    "#### Presenting the data from the clusters"
   ]
  },
  {
   "cell_type": "code",
   "execution_count": 29,
   "metadata": {},
   "outputs": [],
   "source": [
    "import operator\n",
    "import matplotlib.pyplot as plt"
   ]
  },
  {
   "cell_type": "code",
   "execution_count": 34,
   "metadata": {},
   "outputs": [],
   "source": [
    "def plotReconstruction(kStart,kEnd,step=1):\n",
    "    points = []\n",
    "    types = []\n",
    " \n",
    "    styles = ['r','y','b']\n",
    "\n",
    "    x = [k for k in range(kStart,kEnd,step)]\n",
    "\n",
    "    for k in range(kStart,kEnd,step):\n",
    "        points.append(getReconstructionErrors(k=k))\n",
    "    \n",
    "    types = list(points[0].keys())\n",
    "    scatter = [[] for i in range(len(types))]\n",
    "    for d in points:\n",
    "        for i in range(len(types)):\n",
    "            scatter[i].append(d[types[i]])\n",
    "    \n",
    "    for point in range(len(x)-1):\n",
    "        for type in range(len(types)):\n",
    "            plt.plot(x[point:point+2], scatter[type][point:point+2], styles[type]+'o-')\n",
    "\n",
    "    for type in range(len(types)):\n",
    "        print(types[type],styles[type])\n",
    "            \n",
    "    plt.show()\n",
    "    "
   ]
  },
  {
   "cell_type": "code",
   "execution_count": null,
   "metadata": {},
   "outputs": [],
   "source": [
    "plotReconstruction(3,7)"
   ]
  },
  {
   "cell_type": "code",
   "execution_count": 58,
   "metadata": {},
   "outputs": [],
   "source": [
    "def presentCSV(clusters):\n",
    "    csvData = np.zeros(len(clusters),CANCER_TYPES)\n",
    "    for i in range(len(clusters)):\n",
    "        for j,cancerName in enumerate(cancerNames):\n",
    "            csvData[i,j] = clusters[i][cancerName]\n",
    "    \n",
    "    csvData = csvData.T\n",
    "    \n",
    "    w = open(\"communityCSV.csv\",\"w\")\n",
    "    for i in range(csvData.shape[0]):\n",
    "        tempLine = cancerNames[i]+\",\"\n",
    "        tempLine+=\",\".join(list(map(str,csvData[i])))\n",
    "        tempLine+=\"\\n\"\n",
    "        w.write(tempLine)\n",
    "\n",
    "    w.close()"
   ]
  },
  {
   "cell_type": "code",
   "execution_count": 59,
   "metadata": {},
   "outputs": [],
   "source": [
    "def printClusters(clusters):\n",
    "    for i,community in enumerate(clusters):\n",
    "        sortedCommunity = sorted(community.items(), key=operator.itemgetter(1),reverse=True)  \n",
    "        print(\"Community #\",(i+1))\n",
    "        for j in sortedCommunity:\n",
    "            if(j[1]!=0):\n",
    "                print(j[0],\":\",j[1])\n",
    "        print()"
   ]
  },
  {
   "cell_type": "code",
   "execution_count": 60,
   "metadata": {},
   "outputs": [
    {
     "ename": "NameError",
     "evalue": "name 'runKmeans' is not defined",
     "output_type": "error",
     "traceback": [
      "\u001b[1;31m---------------------------------------------------------------------------\u001b[0m",
      "\u001b[1;31mNameError\u001b[0m                                 Traceback (most recent call last)",
      "\u001b[1;32m<ipython-input-60-9a6ce7857828>\u001b[0m in \u001b[0;36m<module>\u001b[1;34m\u001b[0m\n\u001b[1;32m----> 1\u001b[1;33m \u001b[0mprintClusters\u001b[0m\u001b[1;33m(\u001b[0m\u001b[0mrunKmeans\u001b[0m\u001b[1;33m(\u001b[0m\u001b[1;33m)\u001b[0m\u001b[1;33m)\u001b[0m\u001b[1;33m\u001b[0m\u001b[0m\n\u001b[0m",
      "\u001b[1;31mNameError\u001b[0m: name 'runKmeans' is not defined"
     ]
    }
   ],
   "source": [
    "printClusters(runKmeans())"
   ]
  },
  {
   "cell_type": "code",
   "execution_count": 43,
   "metadata": {},
   "outputs": [],
   "source": [
    "def histogram(v,title):\n",
    "    fig, ax = plt.subplots()\n",
    "    plt.xticks(rotation=90)\n",
    "\n",
    "    actualCancers = [i for i in list(v.keys()) if v[i]!=0]\n",
    "    actualValues = [i for i in v.values() if i != 0]\n",
    "    \n",
    "    plt.title(title)\n",
    "    plt.bar(np.arange(len(v.values())), v.values(), align='center', alpha=0.5)\n",
    "    ax.set_xticklabels(list(v.keys()))\n",
    "    plt.show()"
   ]
  },
  {
   "cell_type": "code",
   "execution_count": 44,
   "metadata": {},
   "outputs": [],
   "source": [
    "def cancerHistogram(clusters,cancerName):\n",
    "    plt.title(cancerName)\n",
    "    \n",
    "    values = []\n",
    "    for i in range(len(clusters)):\n",
    "        if(cancerName in clusters[i]):\n",
    "            values.append(clusters[i][cancerName])\n",
    "        else:\n",
    "            values.append(0)\n",
    "    \n",
    "    plt.bar(np.arange(len(values)),values, align='center', alpha=0.5)\n",
    "    plt.show()"
   ]
  },
  {
   "cell_type": "code",
   "execution_count": 46,
   "metadata": {},
   "outputs": [
    {
     "data": {
      "image/png": "[encoded data removed]",
      "text/plain": [
       "<Figure size 432x288 with 1 Axes>"
      ]
     },
     "metadata": {
      "needs_background": "light"
     },
     "output_type": "display_data"
    },
    {
     "data": {
      "image/png": "[encoded data removed]",
      "text/plain": [
       "<Figure size 432x288 with 1 Axes>"
      ]
     },
     "metadata": {
      "needs_background": "light"
     },
     "output_type": "display_data"
    },
    {
     "data": {
      "image/png": "[encoded data removed]",
      "text/plain": [
       "<Figure size 432x288 with 1 Axes>"
      ]
     },
     "metadata": {
      "needs_background": "light"
     },
     "output_type": "display_data"
    },
    {
     "data": {
      "image/png": "[encoded data removed]",
      "text/plain": [
       "<Figure size 432x288 with 1 Axes>"
      ]
     },
     "metadata": {
      "needs_background": "light"
     },
     "output_type": "display_data"
    },
    {
     "data": {
      "image/png": "[encoded data removed]",
      "text/plain": [
       "<Figure size 432x288 with 1 Axes>"
      ]
     },
     "metadata": {
      "needs_background": "light"
     },
     "output_type": "display_data"
    },
    {
     "data": {
      "image/png": "[encoded data removed]",
      "text/plain": [
       "<Figure size 432x288 with 1 Axes>"
      ]
     },
     "metadata": {
      "needs_background": "light"
     },
     "output_type": "display_data"
    },
    {
     "data": {
      "image/png": "[encoded data removed]",
      "text/plain": [
       "<Figure size 432x288 with 1 Axes>"
      ]
     },
     "metadata": {
      "needs_background": "light"
     },
     "output_type": "display_data"
    },
    {
     "data": {
      "image/png": "[encoded data removed]",
      "text/plain": [
       "<Figure size 432x288 with 1 Axes>"
      ]
     },
     "metadata": {
      "needs_background": "light"
     },
     "output_type": "display_data"
    },
    {
     "data": {
      "image/png": "[encoded data removed]",
      "text/plain": [
       "<Figure size 432x288 with 1 Axes>"
      ]
     },
     "metadata": {
      "needs_background": "light"
     },
     "output_type": "display_data"
    },
    {
     "data": {
      "image/png": "[encoded data removed]",
      "text/plain": [
       "<Figure size 432x288 with 1 Axes>"
      ]
     },
     "metadata": {
      "needs_background": "light"
     },
     "output_type": "display_data"
    },
    {
     "data": {
      "image/png": "[encoded data removed]",
      "text/plain": [
       "<Figure size 432x288 with 1 Axes>"
      ]
     },
     "metadata": {
      "needs_background": "light"
     },
     "output_type": "display_data"
    },
    {
     "data": {
      "image/png": "[encoded data removed]",
      "text/plain": [
       "<Figure size 432x288 with 1 Axes>"
      ]
     },
     "metadata": {
      "needs_background": "light"
     },
     "output_type": "display_data"
    },
    {
     "data": {
      "image/png": "[encoded data removed]",
      "text/plain": [
       "<Figure size 432x288 with 1 Axes>"
      ]
     },
     "metadata": {
      "needs_background": "light"
     },
     "output_type": "display_data"
    },
    {
     "data": {
      "image/png": "[encoded data removed]",
      "text/plain": [
       "<Figure size 432x288 with 1 Axes>"
      ]
     },
     "metadata": {
      "needs_background": "light"
     },
     "output_type": "display_data"
    },
    {
     "data": {
      "image/png": "[encoded data removed]",
      "text/plain": [
       "<Figure size 432x288 with 1 Axes>"
      ]
     },
     "metadata": {
      "needs_background": "light"
     },
     "output_type": "display_data"
    },
    {
     "data": {
      "image/png": "[encoded data removed]",
      "text/plain": [
       "<Figure size 432x288 with 1 Axes>"
      ]
     },
     "metadata": {
      "needs_background": "light"
     },
     "output_type": "display_data"
    },
    {
     "data": {
      "image/png": "[encoded data removed]",
      "text/plain": [
       "<Figure size 432x288 with 1 Axes>"
      ]
     },
     "metadata": {
      "needs_background": "light"
     },
     "output_type": "display_data"
    },
    {
     "data": {
      "image/png": "[encoded data removed]",
      "text/plain": [
       "<Figure size 432x288 with 1 Axes>"
      ]
     },
     "metadata": {
      "needs_background": "light"
     },
     "output_type": "display_data"
    },
    {
     "data": {
      "image/png": "[encoded data removed]",
      "text/plain": [
       "<Figure size 432x288 with 1 Axes>"
      ]
     },
     "metadata": {
      "needs_background": "light"
     },
     "output_type": "display_data"
    },
    {
     "data": {
      "image/png": "[encoded data removed]",
      "text/plain": [
       "<Figure size 432x288 with 1 Axes>"
      ]
     },
     "metadata": {
      "needs_background": "light"
     },
     "output_type": "display_data"
    },
    {
     "data": {
      "image/png": "[encoded data removed]",
      "text/plain": [
       "<Figure size 432x288 with 1 Axes>"
      ]
     },
     "metadata": {
      "needs_background": "light"
     },
     "output_type": "display_data"
    },
    {
     "data": {
      "image/png": "[encoded data removed]",
      "text/plain": [
       "<Figure size 432x288 with 1 Axes>"
      ]
     },
     "metadata": {
      "needs_background": "light"
     },
     "output_type": "display_data"
    },
    {
     "data": {
      "image/png": "[encoded data removed]",
      "text/plain": [
       "<Figure size 432x288 with 1 Axes>"
      ]
     },
     "metadata": {
      "needs_background": "light"
     },
     "output_type": "display_data"
    },
    {
     "data": {
      "image/png": "[encoded data removed]",
      "text/plain": [
       "<Figure size 432x288 with 1 Axes>"
      ]
     },
     "metadata": {
      "needs_background": "light"
     },
     "output_type": "display_data"
    },
    {
     "data": {
      "image/png": "[encoded data removed]",
      "text/plain": [
       "<Figure size 432x288 with 1 Axes>"
      ]
     },
     "metadata": {
      "needs_background": "light"
     },
     "output_type": "display_data"
    },
    {
     "data": {
      "image/png": "[encoded data removed]",
      "text/plain": [
       "<Figure size 432x288 with 1 Axes>"
      ]
     },
     "metadata": {
      "needs_background": "light"
     },
     "output_type": "display_data"
    },
    {
     "data": {
      "image/png": "[encoded data removed]",
      "text/plain": [
       "<Figure size 432x288 with 1 Axes>"
      ]
     },
     "metadata": {
      "needs_background": "light"
     },
     "output_type": "display_data"
    }
   ],
   "source": [
    "a = runKmeans()\n",
    "for i in cancerNames:\n",
    "    cancerHistogram(a,i)\n",
    "\n",
    "for i in range(len(a)):\n",
    "    histogram(a[i],str(i+1))"
   ]
  },
  {
   "cell_type": "code",
   "execution_count": 44,
   "metadata": {},
   "outputs": [],
   "source": [
    "def printHistogram(distanceMatrix):\n",
    "    flattened = distanceMatrix.flatten()\n",
    "    plt.hist(flattened,np.arange(0,1,0.1),alpha=0.5, histtype='bar', ec='black')\n",
    "    plt.title(\"Distribution of distance values using distance=1-cosine similarity for all pairs of samples\")\n",
    "    plt.show()\n",
    "    \n",
    "def inclusionThreshold(nn,threshold):\n",
    "    return len([i for i in range(len(nn)) if sum(nn[i])<=threshold])\n",
    "\n",
    "def inclusionThresholdEpsilon(threshold):\n",
    "    nne = createNearestNeighborEpsilon(allData,epsilon=epsilon)\n",
    "    return inclusionThreshold(nne,threshold)\n",
    "    \n",
    "def numberNodesEpsilon(epsilon):\n",
    "    nne = createNearestNeighborEpsilon(allData,epsilon=epsilon)\n",
    "    bins = [1,5,10]\n",
    "    \n",
    "    binNumbers = [0 for i in range(len(bins))]\n",
    "    \n",
    "    for i in range(len(bins)):\n",
    "        binNumbers[i] = inclusionThreshold(nne,bins[i])\n",
    "        if(i != 0):\n",
    "            binNumbers[i]-=sum(binNumbers[0:i])\n",
    "    binNumbers.append(nne.shape[0]-sum(binNumbers))\n",
    "    \n",
    "    plt.title(str(bins))\n",
    "    plt.bar(np.arange(len(binNumbers)),binNumbers, align='center', alpha=0.5)\n",
    "    plt.show()"
   ]
  },
  {
   "cell_type": "code",
   "execution_count": 45,
   "metadata": {},
   "outputs": [
    {
     "data": {
      "image/png": "[encoded data removed]",
      "text/plain": [
       "<Figure size 432x288 with 1 Axes>"
      ]
     },
     "metadata": {
      "needs_background": "light"
     },
     "output_type": "display_data"
    }
   ],
   "source": [
    "printHistogram(distanceGraph(allData))"
   ]
  },
  {
   "cell_type": "code",
   "execution_count": 27,
   "metadata": {},
   "outputs": [
    {
     "data": {
      "text/plain": [
       "(594, 594)"
      ]
     },
     "execution_count": 27,
     "metadata": {},
     "output_type": "execute_result"
    }
   ],
   "source": [
    "distanceGraph(allData).shape"
   ]
  },
  {
   "cell_type": "code",
   "execution_count": 46,
   "metadata": {},
   "outputs": [
    {
     "data": {
      "image/png": "[encoded data removed]",
      "text/plain": [
       "<Figure size 432x288 with 1 Axes>"
      ]
     },
     "metadata": {
      "needs_background": "light"
     },
     "output_type": "display_data"
    }
   ],
   "source": [
    "numberNodesEpsilon(0.4)"
   ]
  },
  {
   "cell_type": "code",
   "execution_count": 12,
   "metadata": {},
   "outputs": [],
   "source": [
    "import scipy.optimize"
   ]
  },
  {
   "cell_type": "code",
   "execution_count": 13,
   "metadata": {},
   "outputs": [],
   "source": [
    "def findSignatures(fileName):\n",
    "    f = open(fileName).read().split(\"\\n\")[1:]\n",
    "    for i in range(len(f)):\n",
    "        f[i] = f[i].split(\" \")[3:]\n",
    "        f[i] = list(map(float,f[i]))\n",
    "    f = np.array(f).T\n",
    "    return f\n",
    "\n",
    "def findBreastSignatures():\n",
    "    signatureNumbers = [1,2,3,5,6,8,10,13,17,18,20,26,30]\n",
    "    signatureNumbers = [i-1 for i in signatureNumbers]\n",
    "    fileName = \"signatures.txt\"\n",
    "    \n",
    "    return findSignatures(fileName)[signatureNumbers,:]"
   ]
  },
  {
   "cell_type": "code",
   "execution_count": 31,
   "metadata": {},
   "outputs": [],
   "source": [
    "def cosineTable(a,b):\n",
    "    \"\"\"Show Best runs the Hungarian algorithm to determine the best matching\"\"\"\n",
    "\n",
    "    print(len(b),len(a))\n",
    "    similarities = [[scipy.spatial.distance.cosine(a[i],b[j]) for j in range(len(b))] for i in range(len(a))]\n",
    "    similarities = np.array(similarities)\n",
    "    numSignatures = len(similarities)\n",
    "\n",
    "    s = 0\n",
    "\n",
    "    row,col = scipy.optimize.linear_sum_assignment(similarities)\n",
    "    best = [[False for i in range(numSignatures)] for j in range(numSignatures)]\n",
    "\n",
    "    for i in range(len(row)):\n",
    "        s+=similarities[row[i],col[i]]\n",
    "        best[row[i]][col[i]] = True\n",
    "\n",
    "    similarities[np.logical_not(best)] = 0\n",
    "\n",
    "    fig = plt.figure()\n",
    "    ax = fig.add_subplot(111)\n",
    "    m = ax.matshow(similarities)\n",
    "    fig.colorbar(m)\n",
    "\n",
    "    plt.ylabel(\"My Signature\")\n",
    "    plt.xlabel(\"Actual signature\")\n",
    "    ax.set_xticklabels(['']+list(range(1,numSignatures+1)))\n",
    "    ax.set_yticklabels(['']+list(range(1,numSignatures+1)))\n",
    "\n",
    "    return s/numSignatures\n"
   ]
  },
  {
   "cell_type": "code",
   "execution_count": 27,
   "metadata": {},
   "outputs": [],
   "source": [
    "ourSignatures = factorData(k=13)['Epsilon'][0].T"
   ]
  },
  {
   "cell_type": "code",
   "execution_count": 16,
   "metadata": {},
   "outputs": [],
   "source": [
    "theirSignatures = findBreastSignatures()"
   ]
  },
  {
   "cell_type": "code",
   "execution_count": 32,
   "metadata": {},
   "outputs": [
    {
     "name": "stdout",
     "output_type": "stream",
     "text": [
      "13 13\n"
     ]
    },
    {
     "data": {
      "text/plain": [
       "0.49240906159954656"
      ]
     },
     "execution_count": 32,
     "metadata": {},
     "output_type": "execute_result"
    },
    {
     "data": {
      "image/png": "[encoded data removed]",
      "text/plain": [
       "<Figure size 432x288 with 2 Axes>"
      ]
     },
     "metadata": {
      "needs_background": "light"
     },
     "output_type": "display_data"
    }
   ],
   "source": [
    "cosineTable(ourSignatures,theirSignatures)"
   ]
  },
  {
   "cell_type": "code",
   "execution_count": null,
   "metadata": {},
   "outputs": [],
   "source": [
    "def similarity(signatureOne,signatureTwo):\n",
    "    dist = np.zeros((signatureOne.shape[0],signatureTwo.shape[0]))\n",
    "    for i in range(signatureOne.shape[0]):\n",
    "        for j in range(signatureTwo.shape[0]):\n",
    "            dist[i,j] = scipy.spatial.distance.cosine(signatureOne[i],signatureTwo[j])\n",
    "    \n",
    "    row, col = scipy.optimize.linear_sum_assignment(dist)\n",
    "    score = dist[row,col].sum()/(signatureOne.shape[0])\n",
    "    return 1-score\n",
    "            "
   ]
  },
  {
   "cell_type": "code",
   "execution_count": null,
   "metadata": {},
   "outputs": [],
   "source": [
    "similarity(ourSignatures[0].T,theirSignatures)"
   ]
  }
 ],
 "metadata": {
  "kernelspec": {
   "display_name": "Python 3",
   "language": "python",
   "name": "python3"
  },
  "language_info": {
   "codemirror_mode": {
    "name": "ipython",
    "version": 3
   },
   "file_extension": ".py",
   "mimetype": "text/x-python",
   "name": "python",
   "nbconvert_exporter": "python",
   "pygments_lexer": "ipython3",
   "version": "3.7.0"
  }
 },
 "nbformat": 4,
 "nbformat_minor": 2
}
